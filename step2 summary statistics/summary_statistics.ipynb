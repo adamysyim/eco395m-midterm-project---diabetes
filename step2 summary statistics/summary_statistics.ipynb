{
 "cells": [
  {
   "cell_type": "markdown",
   "id": "097e8232-454b-4430-9b67-51e8c606f013",
   "metadata": {},
   "source": [
    "## Summary Statistics"
   ]
  },
  {
   "cell_type": "markdown",
   "id": "0879b206-e85e-48f9-afbd-bb16ff39690a",
   "metadata": {},
   "source": [
    "------"
   ]
  },
  {
   "cell_type": "code",
   "execution_count": 52,
   "id": "35107135-0145-438e-9080-c18455238cf5",
   "metadata": {},
   "outputs": [],
   "source": [
    "# Import the libraries\n",
    "import pandas as pd\n",
    "from pathlib import Path\n",
    "import os\n",
    "import matplotlib.pyplot as plt\n",
    "import seaborn as sns"
   ]
  },
  {
   "cell_type": "code",
   "execution_count": 53,
   "id": "ad9e6070-04a2-420e-9a04-f505b1287c1b",
   "metadata": {},
   "outputs": [],
   "source": [
    "# Import the original data files\n",
    "df = pd.read_csv('../data/2017_diabetes_cleaned.csv')"
   ]
  },
  {
   "cell_type": "markdown",
   "id": "8ba8d65f-17a6-4265-a20d-754b515ef414",
   "metadata": {},
   "source": [
    "--------"
   ]
  },
  {
   "cell_type": "markdown",
   "id": "cc0d3c31-1aa4-4518-b15d-a0913aab379d",
   "metadata": {},
   "source": [
    "#### General Condition"
   ]
  },
  {
   "cell_type": "code",
   "execution_count": 54,
   "id": "82a38f93-ae34-4baf-b1d2-aee64a5fe155",
   "metadata": {},
   "outputs": [
    {
     "data": {
      "text/html": [
       "<div>\n",
       "<style scoped>\n",
       "    .dataframe tbody tr th:only-of-type {\n",
       "        vertical-align: middle;\n",
       "    }\n",
       "\n",
       "    .dataframe tbody tr th {\n",
       "        vertical-align: top;\n",
       "    }\n",
       "\n",
       "    .dataframe thead th {\n",
       "        text-align: right;\n",
       "    }\n",
       "</style>\n",
       "<table border=\"1\" class=\"dataframe\">\n",
       "  <thead>\n",
       "    <tr style=\"text-align: right;\">\n",
       "      <th></th>\n",
       "      <th>diabete</th>\n",
       "      <th>bmi</th>\n",
       "      <th>physhlth</th>\n",
       "      <th>menthlth</th>\n",
       "      <th>michd</th>\n",
       "      <th>hchol</th>\n",
       "      <th>hblpr</th>\n",
       "      <th>vpa</th>\n",
       "      <th>hvdr</th>\n",
       "      <th>smok</th>\n",
       "      <th>incom50</th>\n",
       "      <th>cllgr</th>\n",
       "      <th>sex</th>\n",
       "      <th>age65</th>\n",
       "    </tr>\n",
       "  </thead>\n",
       "  <tbody>\n",
       "    <tr>\n",
       "      <th>0</th>\n",
       "      <td>1</td>\n",
       "      <td>26.96</td>\n",
       "      <td>0.0</td>\n",
       "      <td>0.0</td>\n",
       "      <td>0</td>\n",
       "      <td>1</td>\n",
       "      <td>1</td>\n",
       "      <td>180.0</td>\n",
       "      <td>0</td>\n",
       "      <td>0</td>\n",
       "      <td>0</td>\n",
       "      <td>1</td>\n",
       "      <td>1</td>\n",
       "      <td>1</td>\n",
       "    </tr>\n",
       "    <tr>\n",
       "      <th>1</th>\n",
       "      <td>0</td>\n",
       "      <td>29.43</td>\n",
       "      <td>0.0</td>\n",
       "      <td>0.0</td>\n",
       "      <td>0</td>\n",
       "      <td>0</td>\n",
       "      <td>1</td>\n",
       "      <td>0.0</td>\n",
       "      <td>0</td>\n",
       "      <td>0</td>\n",
       "      <td>1</td>\n",
       "      <td>1</td>\n",
       "      <td>0</td>\n",
       "      <td>1</td>\n",
       "    </tr>\n",
       "    <tr>\n",
       "      <th>2</th>\n",
       "      <td>0</td>\n",
       "      <td>27.34</td>\n",
       "      <td>6.0</td>\n",
       "      <td>0.0</td>\n",
       "      <td>1</td>\n",
       "      <td>0</td>\n",
       "      <td>1</td>\n",
       "      <td>60.0</td>\n",
       "      <td>0</td>\n",
       "      <td>1</td>\n",
       "      <td>0</td>\n",
       "      <td>0</td>\n",
       "      <td>0</td>\n",
       "      <td>1</td>\n",
       "    </tr>\n",
       "    <tr>\n",
       "      <th>3</th>\n",
       "      <td>0</td>\n",
       "      <td>27.12</td>\n",
       "      <td>2.0</td>\n",
       "      <td>1.0</td>\n",
       "      <td>0</td>\n",
       "      <td>0</td>\n",
       "      <td>1</td>\n",
       "      <td>0.0</td>\n",
       "      <td>0</td>\n",
       "      <td>0</td>\n",
       "      <td>0</td>\n",
       "      <td>0</td>\n",
       "      <td>0</td>\n",
       "      <td>0</td>\n",
       "    </tr>\n",
       "    <tr>\n",
       "      <th>4</th>\n",
       "      <td>1</td>\n",
       "      <td>23.03</td>\n",
       "      <td>5.0</td>\n",
       "      <td>0.0</td>\n",
       "      <td>0</td>\n",
       "      <td>1</td>\n",
       "      <td>1</td>\n",
       "      <td>125.0</td>\n",
       "      <td>0</td>\n",
       "      <td>0</td>\n",
       "      <td>0</td>\n",
       "      <td>0</td>\n",
       "      <td>1</td>\n",
       "      <td>1</td>\n",
       "    </tr>\n",
       "    <tr>\n",
       "      <th>...</th>\n",
       "      <td>...</td>\n",
       "      <td>...</td>\n",
       "      <td>...</td>\n",
       "      <td>...</td>\n",
       "      <td>...</td>\n",
       "      <td>...</td>\n",
       "      <td>...</td>\n",
       "      <td>...</td>\n",
       "      <td>...</td>\n",
       "      <td>...</td>\n",
       "      <td>...</td>\n",
       "      <td>...</td>\n",
       "      <td>...</td>\n",
       "      <td>...</td>\n",
       "    </tr>\n",
       "    <tr>\n",
       "      <th>211505</th>\n",
       "      <td>1</td>\n",
       "      <td>32.45</td>\n",
       "      <td>0.0</td>\n",
       "      <td>0.0</td>\n",
       "      <td>0</td>\n",
       "      <td>0</td>\n",
       "      <td>0</td>\n",
       "      <td>0.0</td>\n",
       "      <td>0</td>\n",
       "      <td>0</td>\n",
       "      <td>0</td>\n",
       "      <td>0</td>\n",
       "      <td>0</td>\n",
       "      <td>1</td>\n",
       "    </tr>\n",
       "    <tr>\n",
       "      <th>211506</th>\n",
       "      <td>0</td>\n",
       "      <td>24.80</td>\n",
       "      <td>0.0</td>\n",
       "      <td>0.0</td>\n",
       "      <td>0</td>\n",
       "      <td>0</td>\n",
       "      <td>0</td>\n",
       "      <td>0.0</td>\n",
       "      <td>0</td>\n",
       "      <td>0</td>\n",
       "      <td>1</td>\n",
       "      <td>0</td>\n",
       "      <td>1</td>\n",
       "      <td>0</td>\n",
       "    </tr>\n",
       "    <tr>\n",
       "      <th>211507</th>\n",
       "      <td>0</td>\n",
       "      <td>25.77</td>\n",
       "      <td>0.0</td>\n",
       "      <td>0.0</td>\n",
       "      <td>0</td>\n",
       "      <td>0</td>\n",
       "      <td>0</td>\n",
       "      <td>90.0</td>\n",
       "      <td>0</td>\n",
       "      <td>0</td>\n",
       "      <td>1</td>\n",
       "      <td>1</td>\n",
       "      <td>0</td>\n",
       "      <td>0</td>\n",
       "    </tr>\n",
       "    <tr>\n",
       "      <th>211508</th>\n",
       "      <td>0</td>\n",
       "      <td>22.86</td>\n",
       "      <td>0.0</td>\n",
       "      <td>0.0</td>\n",
       "      <td>0</td>\n",
       "      <td>0</td>\n",
       "      <td>0</td>\n",
       "      <td>0.0</td>\n",
       "      <td>0</td>\n",
       "      <td>0</td>\n",
       "      <td>0</td>\n",
       "      <td>1</td>\n",
       "      <td>1</td>\n",
       "      <td>0</td>\n",
       "    </tr>\n",
       "    <tr>\n",
       "      <th>211509</th>\n",
       "      <td>0</td>\n",
       "      <td>29.16</td>\n",
       "      <td>0.0</td>\n",
       "      <td>0.0</td>\n",
       "      <td>0</td>\n",
       "      <td>0</td>\n",
       "      <td>1</td>\n",
       "      <td>0.0</td>\n",
       "      <td>0</td>\n",
       "      <td>1</td>\n",
       "      <td>0</td>\n",
       "      <td>0</td>\n",
       "      <td>0</td>\n",
       "      <td>0</td>\n",
       "    </tr>\n",
       "  </tbody>\n",
       "</table>\n",
       "<p>211510 rows × 14 columns</p>\n",
       "</div>"
      ],
      "text/plain": [
       "        diabete    bmi  physhlth  menthlth  michd  hchol  hblpr    vpa  hvdr  \\\n",
       "0             1  26.96       0.0       0.0      0      1      1  180.0     0   \n",
       "1             0  29.43       0.0       0.0      0      0      1    0.0     0   \n",
       "2             0  27.34       6.0       0.0      1      0      1   60.0     0   \n",
       "3             0  27.12       2.0       1.0      0      0      1    0.0     0   \n",
       "4             1  23.03       5.0       0.0      0      1      1  125.0     0   \n",
       "...         ...    ...       ...       ...    ...    ...    ...    ...   ...   \n",
       "211505        1  32.45       0.0       0.0      0      0      0    0.0     0   \n",
       "211506        0  24.80       0.0       0.0      0      0      0    0.0     0   \n",
       "211507        0  25.77       0.0       0.0      0      0      0   90.0     0   \n",
       "211508        0  22.86       0.0       0.0      0      0      0    0.0     0   \n",
       "211509        0  29.16       0.0       0.0      0      0      1    0.0     0   \n",
       "\n",
       "        smok  incom50  cllgr  sex  age65  \n",
       "0          0        0      1    1      1  \n",
       "1          0        1      1    0      1  \n",
       "2          1        0      0    0      1  \n",
       "3          0        0      0    0      0  \n",
       "4          0        0      0    1      1  \n",
       "...      ...      ...    ...  ...    ...  \n",
       "211505     0        0      0    0      1  \n",
       "211506     0        1      0    1      0  \n",
       "211507     0        1      1    0      0  \n",
       "211508     0        0      1    1      0  \n",
       "211509     1        0      0    0      0  \n",
       "\n",
       "[211510 rows x 14 columns]"
      ]
     },
     "execution_count": 54,
     "metadata": {},
     "output_type": "execute_result"
    }
   ],
   "source": [
    "df"
   ]
  },
  {
   "cell_type": "markdown",
   "id": "b41d6628-121b-41c3-9b68-4123ecdcc2f7",
   "metadata": {},
   "source": [
    "##### After variable selection and data cleaning, we have got 211510 complete and clean samples in the dataset, with 18 variables."
   ]
  },
  {
   "cell_type": "markdown",
   "id": "b5b6c498-4c5c-4381-897e-88012bede7d2",
   "metadata": {},
   "source": [
    "--------"
   ]
  },
  {
   "cell_type": "markdown",
   "id": "ff201289-0fcd-41f8-a719-9ecdd82fc278",
   "metadata": {},
   "source": [
    "#### Check the Basic Statistics for 18 Selected Variables "
   ]
  },
  {
   "cell_type": "code",
   "execution_count": 55,
   "id": "a9b2c584-b748-42eb-9544-5a660ff69b33",
   "metadata": {},
   "outputs": [
    {
     "data": {
      "text/plain": [
       "count    211510.000000\n",
       "mean          0.140873\n",
       "std           0.347891\n",
       "min           0.000000\n",
       "25%           0.000000\n",
       "50%           0.000000\n",
       "75%           0.000000\n",
       "max           1.000000\n",
       "Name: diabete, dtype: float64"
      ]
     },
     "execution_count": 55,
     "metadata": {},
     "output_type": "execute_result"
    }
   ],
   "source": [
    "# The dependent variable, diabete, categorical\n",
    "df['diabete'].describe()"
   ]
  },
  {
   "cell_type": "code",
   "execution_count": 56,
   "id": "43b723c0-c13d-4195-b780-e766bd02ec8c",
   "metadata": {},
   "outputs": [
    {
     "data": {
      "image/png": "[encoded data removed]",
      "text/plain": [
       "<Figure size 504x432 with 1 Axes>"
      ]
     },
     "metadata": {},
     "output_type": "display_data"
    }
   ],
   "source": [
    "# the distribution of diabete\n",
    "sns.set(font_scale=1.4)\n",
    "df['diabete'].value_counts().plot(kind='bar', figsize=(7, 6), rot=0)\n",
    "plt.xlabel(\"diabetes or not\", labelpad=12)\n",
    "plt.ylabel(\"count of people\", labelpad=12)\n",
    "plt.title(\"Count of People by Having Diabetes (Indludng Pre-diabetes) or Not\", y=1.02);"
   ]
  },
  {
   "cell_type": "code",
   "execution_count": 57,
   "id": "9042abf2-321a-4f54-885f-ca89ea1c6037",
   "metadata": {},
   "outputs": [
    {
     "data": {
      "text/plain": [
       "count    211510.000000\n",
       "mean         27.898139\n",
       "std           5.804797\n",
       "min          12.010000\n",
       "25%          23.960000\n",
       "50%          26.970000\n",
       "75%          30.800000\n",
       "max          96.610000\n",
       "Name: bmi, dtype: float64"
      ]
     },
     "execution_count": 57,
     "metadata": {},
     "output_type": "execute_result"
    }
   ],
   "source": [
    "# The independent variable, bmi, numerical\n",
    "df['bmi'].describe()"
   ]
  },
  {
   "cell_type": "code",
   "execution_count": 58,
   "id": "08ef6edb-e19c-4e71-a98c-374b96eb0bb3",
   "metadata": {},
   "outputs": [
    {
     "data": {
      "image/png": "[encoded data removed]",
      "text/plain": [
       "<Figure size 432x288 with 1 Axes>"
      ]
     },
     "metadata": {},
     "output_type": "display_data"
    }
   ],
   "source": [
    "# the distribution of bmi\n",
    "plt.hist(df['bmi'], bins=15)\n",
    "plt.xlabel(\"BMI\", labelpad=12)\n",
    "plt.ylabel(\"count of People\", labelpad=12)\n",
    "plt.title(\"Count of People by BMI Values\", y=1.02);\n",
    "plt.show()"
   ]
  },
  {
   "cell_type": "code",
   "execution_count": 59,
   "id": "eb904e60-412c-4a9a-b330-142f176ffe72",
   "metadata": {},
   "outputs": [
    {
     "data": {
      "text/plain": [
       "count    211510.000000\n",
       "mean          3.268824\n",
       "std           7.486178\n",
       "min           0.000000\n",
       "25%           0.000000\n",
       "50%           0.000000\n",
       "75%           2.000000\n",
       "max          30.000000\n",
       "Name: physhlth, dtype: float64"
      ]
     },
     "execution_count": 59,
     "metadata": {},
     "output_type": "execute_result"
    }
   ],
   "source": [
    "# The independent variable, physhlth, numerical\n",
    "df['physhlth'].describe()"
   ]
  },
  {
   "cell_type": "code",
   "execution_count": 60,
   "id": "87e651c3-e4a0-4948-9fb5-48b44c66b514",
   "metadata": {},
   "outputs": [
    {
     "data": {
      "image/png": "[encoded data removed]",
      "text/plain": [
       "<Figure size 432x288 with 1 Axes>"
      ]
     },
     "metadata": {},
     "output_type": "display_data"
    }
   ],
   "source": [
    "# the distribution of physhlth\n",
    "plt.hist(df['physhlth'], bins=10)\n",
    "plt.xlabel(\"number of days not feeling in good physical conditions in the past 30 days\", labelpad=12)\n",
    "plt.ylabel(\"Count of People\", labelpad=12)\n",
    "plt.title(\"Count of People by Number of Days not Feeling in Good Physical Conditions in the Past 30 Days\", y=1.02);\n",
    "plt.show()"
   ]
  },
  {
   "cell_type": "code",
   "execution_count": 61,
   "id": "46c165c8-5263-4161-be25-0246f980c96f",
   "metadata": {},
   "outputs": [
    {
     "data": {
      "text/plain": [
       "count    211510.000000\n",
       "mean          2.929611\n",
       "std           6.934061\n",
       "min           0.000000\n",
       "25%           0.000000\n",
       "50%           0.000000\n",
       "75%           2.000000\n",
       "max          30.000000\n",
       "Name: menthlth, dtype: float64"
      ]
     },
     "execution_count": 61,
     "metadata": {},
     "output_type": "execute_result"
    }
   ],
   "source": [
    "# The independent variable, menthlth, numerical\n",
    "df['menthlth'].describe()"
   ]
  },
  {
   "cell_type": "code",
   "execution_count": 62,
   "id": "92676837-e41d-4ac1-b4d4-677dcb70c4f2",
   "metadata": {},
   "outputs": [
    {
     "data": {
      "image/png": "[encoded data removed]",
      "text/plain": [
       "<Figure size 432x288 with 1 Axes>"
      ]
     },
     "metadata": {},
     "output_type": "display_data"
    }
   ],
   "source": [
    "# the distribution of menthlth\n",
    "plt.hist(df['menthlth'], bins=10)\n",
    "plt.show()"
   ]
  },
  {
   "cell_type": "code",
   "execution_count": 63,
   "id": "43b5b8d2-eef0-421a-be44-6a0c01a04e8b",
   "metadata": {},
   "outputs": [
    {
     "data": {
      "text/plain": [
       "count    211510.000000\n",
       "mean          0.077850\n",
       "std           0.267936\n",
       "min           0.000000\n",
       "25%           0.000000\n",
       "50%           0.000000\n",
       "75%           0.000000\n",
       "max           1.000000\n",
       "Name: michd, dtype: float64"
      ]
     },
     "execution_count": 63,
     "metadata": {},
     "output_type": "execute_result"
    }
   ],
   "source": [
    "# The independent variable, michd, categorical\n",
    "df['michd'].describe()"
   ]
  },
  {
   "cell_type": "code",
   "execution_count": 64,
   "id": "4d405452-bce4-4a79-8c3a-b2fea66577cc",
   "metadata": {},
   "outputs": [
    {
     "data": {
      "text/plain": [
       "<AxesSubplot:>"
      ]
     },
     "execution_count": 64,
     "metadata": {},
     "output_type": "execute_result"
    },
    {
     "data": {
      "image/png": "[encoded data removed]",
      "text/plain": [
       "<Figure size 432x288 with 1 Axes>"
      ]
     },
     "metadata": {},
     "output_type": "display_data"
    }
   ],
   "source": [
    "# the distribution of michd\n",
    "df['michd'].value_counts().plot(kind='bar')"
   ]
  },
  {
   "cell_type": "code",
   "execution_count": 65,
   "id": "bf789572-0ad6-4e61-adc4-5daa66178d20",
   "metadata": {},
   "outputs": [
    {
     "data": {
      "text/plain": [
       "count    211510.000000\n",
       "mean          0.373864\n",
       "std           0.483829\n",
       "min           0.000000\n",
       "25%           0.000000\n",
       "50%           0.000000\n",
       "75%           1.000000\n",
       "max           1.000000\n",
       "Name: hchol, dtype: float64"
      ]
     },
     "execution_count": 65,
     "metadata": {},
     "output_type": "execute_result"
    }
   ],
   "source": [
    "# The independent variable, hchol, categorical\n",
    "df['hchol'].describe()"
   ]
  },
  {
   "cell_type": "code",
   "execution_count": 66,
   "id": "2e2f5b6d-766d-497f-a38d-8a984dba4f4a",
   "metadata": {},
   "outputs": [
    {
     "data": {
      "text/plain": [
       "<AxesSubplot:>"
      ]
     },
     "execution_count": 66,
     "metadata": {},
     "output_type": "execute_result"
    },
    {
     "data": {
      "image/png": "[encoded data removed]",
      "text/plain": [
       "<Figure size 432x288 with 1 Axes>"
      ]
     },
     "metadata": {},
     "output_type": "display_data"
    }
   ],
   "source": [
    "# the distribution of hchol\n",
    "df['hchol'].value_counts().plot(kind='bar')"
   ]
  },
  {
   "cell_type": "code",
   "execution_count": 67,
   "id": "2bc9b85e-2473-4fd1-870f-465b5a7dfa5d",
   "metadata": {},
   "outputs": [
    {
     "data": {
      "text/plain": [
       "count    211510.000000\n",
       "mean          0.388535\n",
       "std           0.487418\n",
       "min           0.000000\n",
       "25%           0.000000\n",
       "50%           0.000000\n",
       "75%           1.000000\n",
       "max           1.000000\n",
       "Name: hblpr, dtype: float64"
      ]
     },
     "execution_count": 67,
     "metadata": {},
     "output_type": "execute_result"
    }
   ],
   "source": [
    "# The independent variable, hblpr, categorical\n",
    "df['hblpr'].describe()"
   ]
  },
  {
   "cell_type": "code",
   "execution_count": 68,
   "id": "c1da677e-1531-4c62-975f-f7ee48027bfe",
   "metadata": {},
   "outputs": [
    {
     "data": {
      "text/plain": [
       "<AxesSubplot:>"
      ]
     },
     "execution_count": 68,
     "metadata": {},
     "output_type": "execute_result"
    },
    {
     "data": {
      "image/png": "[encoded data removed]",
      "text/plain": [
       "<Figure size 432x288 with 1 Axes>"
      ]
     },
     "metadata": {},
     "output_type": "display_data"
    }
   ],
   "source": [
    "# the distribution of hblpr\n",
    "df['hblpr'].value_counts().plot(kind='bar')"
   ]
  },
  {
   "cell_type": "code",
   "execution_count": 69,
   "id": "afe2faee-6da3-42be-b399-9d5f3b708348",
   "metadata": {},
   "outputs": [
    {
     "data": {
      "text/plain": [
       "count    211510.00000\n",
       "mean        136.26750\n",
       "std         350.91621\n",
       "min           0.00000\n",
       "25%           0.00000\n",
       "50%           0.00000\n",
       "75%         150.00000\n",
       "max       37500.00000\n",
       "Name: vpa, dtype: float64"
      ]
     },
     "execution_count": 69,
     "metadata": {},
     "output_type": "execute_result"
    }
   ],
   "source": [
    "# The independent variable, vpa, numerical\n",
    "df['vpa'].describe()"
   ]
  },
  {
   "cell_type": "code",
   "execution_count": 70,
   "id": "144defb0-2cdf-420b-a48b-c89ff811148d",
   "metadata": {},
   "outputs": [
    {
     "data": {
      "image/png": "[encoded data removed]",
      "text/plain": [
       "<Figure size 432x288 with 1 Axes>"
      ]
     },
     "metadata": {},
     "output_type": "display_data"
    }
   ],
   "source": [
    "# the distribution of vpa\n",
    "plt.hist(df[df[\"vpa\"] <= .15e7][\"vpa\"], bins =200)\n",
    "plt.show()"
   ]
  },
  {
   "cell_type": "code",
   "execution_count": 71,
   "id": "6212ee38-8be8-46d8-b209-36b3b57a86c6",
   "metadata": {},
   "outputs": [
    {
     "data": {
      "image/png": "[encoded data removed]",
      "text/plain": [
       "<Figure size 432x288 with 1 Axes>"
      ]
     },
     "metadata": {},
     "output_type": "display_data"
    }
   ],
   "source": [
    "# Since the simple histogtam could not show the distribution of vpa clearly,\n",
    "# we perform the histogram for data up to 95th quantile of vpa reported \n",
    "vpa_quant_95 = df['vpa'].quantile(.95)\n",
    "plt.hist(df[df['vpa'] <= vpa_quant_95]['vpa'], bins=20)\n",
    "plt.show()"
   ]
  },
  {
   "cell_type": "code",
   "execution_count": 72,
   "id": "641e122c-2ccc-4cdf-8893-fe0130d89a71",
   "metadata": {},
   "outputs": [
    {
     "data": {
      "text/plain": [
       "count    211510.000000\n",
       "mean          0.062905\n",
       "std           0.242792\n",
       "min           0.000000\n",
       "25%           0.000000\n",
       "50%           0.000000\n",
       "75%           0.000000\n",
       "max           1.000000\n",
       "Name: hvdr, dtype: float64"
      ]
     },
     "execution_count": 72,
     "metadata": {},
     "output_type": "execute_result"
    }
   ],
   "source": [
    "# The independent variable, hvdr, categorical\n",
    "df['hvdr'].describe()"
   ]
  },
  {
   "cell_type": "code",
   "execution_count": 73,
   "id": "fdf6e506-034a-4d35-9436-db7868c512a6",
   "metadata": {},
   "outputs": [
    {
     "data": {
      "text/plain": [
       "<AxesSubplot:>"
      ]
     },
     "execution_count": 73,
     "metadata": {},
     "output_type": "execute_result"
    },
    {
     "data": {
      "image/png": "[encoded data removed]",
      "text/plain": [
       "<Figure size 432x288 with 1 Axes>"
      ]
     },
     "metadata": {},
     "output_type": "display_data"
    }
   ],
   "source": [
    "# the distribution of hvdr\n",
    "df['hvdr'].value_counts().plot(kind='bar')"
   ]
  },
  {
   "cell_type": "code",
   "execution_count": 74,
   "id": "039666ab-523e-4c32-b14e-daeb3bec88fe",
   "metadata": {},
   "outputs": [
    {
     "data": {
      "text/plain": [
       "count    211510.000000\n",
       "mean          0.118514\n",
       "std           0.323217\n",
       "min           0.000000\n",
       "25%           0.000000\n",
       "50%           0.000000\n",
       "75%           0.000000\n",
       "max           1.000000\n",
       "Name: smok, dtype: float64"
      ]
     },
     "execution_count": 74,
     "metadata": {},
     "output_type": "execute_result"
    }
   ],
   "source": [
    "# The independent variable, smok, categorical\n",
    "df['smok'].describe()"
   ]
  },
  {
   "cell_type": "code",
   "execution_count": 75,
   "id": "1f6c49df-aad9-4fff-a6e0-9efca1d29910",
   "metadata": {},
   "outputs": [
    {
     "data": {
      "text/plain": [
       "<AxesSubplot:>"
      ]
     },
     "execution_count": 75,
     "metadata": {},
     "output_type": "execute_result"
    },
    {
     "data": {
      "image/png": "[encoded data removed]",
      "text/plain": [
       "<Figure size 432x288 with 1 Axes>"
      ]
     },
     "metadata": {},
     "output_type": "display_data"
    }
   ],
   "source": [
    "# the distribution of smok\n",
    "df['smok'].value_counts().plot(kind='bar')"
   ]
  },
  {
   "cell_type": "code",
   "execution_count": 76,
   "id": "64dece60-3b12-4c00-85ba-2ff94bb97e7b",
   "metadata": {},
   "outputs": [
    {
     "data": {
      "text/plain": [
       "count    211510.000000\n",
       "mean          0.570758\n",
       "std           0.494969\n",
       "min           0.000000\n",
       "25%           0.000000\n",
       "50%           1.000000\n",
       "75%           1.000000\n",
       "max           1.000000\n",
       "Name: incom50, dtype: float64"
      ]
     },
     "execution_count": 76,
     "metadata": {},
     "output_type": "execute_result"
    }
   ],
   "source": [
    "# The independent variable, incom50, categorical\n",
    "df['incom50'].describe()"
   ]
  },
  {
   "cell_type": "code",
   "execution_count": 77,
   "id": "60fe0def-80a8-4f63-8fde-872142c4137f",
   "metadata": {},
   "outputs": [
    {
     "data": {
      "text/plain": [
       "<AxesSubplot:>"
      ]
     },
     "execution_count": 77,
     "metadata": {},
     "output_type": "execute_result"
    },
    {
     "data": {
      "image/png": "[encoded data removed]",
      "text/plain": [
       "<Figure size 432x288 with 1 Axes>"
      ]
     },
     "metadata": {},
     "output_type": "display_data"
    }
   ],
   "source": [
    "# the distribution of incom50\n",
    "df['incom50'].value_counts().plot(kind='bar')"
   ]
  },
  {
   "cell_type": "code",
   "execution_count": 78,
   "id": "ad33eb15-7fc1-4c6a-bdf3-aa3ec21addd7",
   "metadata": {},
   "outputs": [
    {
     "data": {
      "text/plain": [
       "count    211510.000000\n",
       "mean          0.469765\n",
       "std           0.499086\n",
       "min           0.000000\n",
       "25%           0.000000\n",
       "50%           0.000000\n",
       "75%           1.000000\n",
       "max           1.000000\n",
       "Name: cllgr, dtype: float64"
      ]
     },
     "execution_count": 78,
     "metadata": {},
     "output_type": "execute_result"
    }
   ],
   "source": [
    "# The independent variable, cllgr, categorical\n",
    "df['cllgr'].describe()"
   ]
  },
  {
   "cell_type": "code",
   "execution_count": 79,
   "id": "e404ea50-c872-4087-8616-abaa46fa2972",
   "metadata": {},
   "outputs": [
    {
     "data": {
      "text/plain": [
       "<AxesSubplot:>"
      ]
     },
     "execution_count": 79,
     "metadata": {},
     "output_type": "execute_result"
    },
    {
     "data": {
      "image/png": "[encoded data removed]",
      "text/plain": [
       "<Figure size 432x288 with 1 Axes>"
      ]
     },
     "metadata": {},
     "output_type": "display_data"
    }
   ],
   "source": [
    "# the distribution of cllgr\n",
    "df['cllgr'].value_counts().plot(kind='bar')"
   ]
  },
  {
   "cell_type": "code",
   "execution_count": 80,
   "id": "6255232b-9786-40c1-b3df-0f9e13c4c33f",
   "metadata": {},
   "outputs": [
    {
     "data": {
      "text/plain": [
       "count    211510.000000\n",
       "mean          0.529672\n",
       "std           0.499120\n",
       "min           0.000000\n",
       "25%           0.000000\n",
       "50%           1.000000\n",
       "75%           1.000000\n",
       "max           1.000000\n",
       "Name: sex, dtype: float64"
      ]
     },
     "execution_count": 80,
     "metadata": {},
     "output_type": "execute_result"
    }
   ],
   "source": [
    "# The independent variable, sex, categorical\n",
    "df['sex'].describe()"
   ]
  },
  {
   "cell_type": "code",
   "execution_count": 81,
   "id": "ea239e9b-d8fc-4171-9de6-c9065a1c1a0e",
   "metadata": {},
   "outputs": [
    {
     "data": {
      "text/plain": [
       "<AxesSubplot:>"
      ]
     },
     "execution_count": 81,
     "metadata": {},
     "output_type": "execute_result"
    },
    {
     "data": {
      "image/png": "[encoded data removed]",
      "text/plain": [
       "<Figure size 432x288 with 1 Axes>"
      ]
     },
     "metadata": {},
     "output_type": "display_data"
    }
   ],
   "source": [
    "# the distribution of sex\n",
    "df['sex'].value_counts().plot(kind='bar')"
   ]
  },
  {
   "cell_type": "code",
   "execution_count": 82,
   "id": "7094e831-f38c-4486-b84c-5133ebdd1b5a",
   "metadata": {},
   "outputs": [
    {
     "data": {
      "text/plain": [
       "count    211510.000000\n",
       "mean          0.340887\n",
       "std           0.474009\n",
       "min           0.000000\n",
       "25%           0.000000\n",
       "50%           0.000000\n",
       "75%           1.000000\n",
       "max           1.000000\n",
       "Name: age65, dtype: float64"
      ]
     },
     "execution_count": 82,
     "metadata": {},
     "output_type": "execute_result"
    }
   ],
   "source": [
    "# The independent variable, age65, categorical\n",
    "df['age65'].describe()"
   ]
  },
  {
   "cell_type": "code",
   "execution_count": 83,
   "id": "1e3f18bd-9bc3-4c75-a2c0-0ea194ae35d4",
   "metadata": {},
   "outputs": [
    {
     "data": {
      "text/plain": [
       "<AxesSubplot:>"
      ]
     },
     "execution_count": 83,
     "metadata": {},
     "output_type": "execute_result"
    },
    {
     "data": {
      "image/png": "[encoded data removed]",
      "text/plain": [
       "<Figure size 432x288 with 1 Axes>"
      ]
     },
     "metadata": {},
     "output_type": "display_data"
    }
   ],
   "source": [
    "# the distribution of age65\n",
    "df['age65'].value_counts().plot(kind='bar')"
   ]
  },
  {
   "cell_type": "markdown",
   "id": "35b05e6a-36c7-489e-bfb9-d2b13b725e7e",
   "metadata": {},
   "source": [
    "------------------"
   ]
  },
  {
   "cell_type": "markdown",
   "id": "abfcb206-9476-4ec7-8b2a-1c8c7b4b8a81",
   "metadata": {},
   "source": [
    "#### Remove Outliers and Invalid Values"
   ]
  },
  {
   "cell_type": "code",
   "execution_count": 89,
   "id": "83007c08-ef50-4125-a1c9-dbf9caa010c2",
   "metadata": {},
   "outputs": [
    {
     "data": {
      "text/plain": [
       "count    211319.000000\n",
       "mean        131.509618\n",
       "std         282.643968\n",
       "min           0.000000\n",
       "25%           0.000000\n",
       "50%           0.000000\n",
       "75%         150.000000\n",
       "max        3360.000000\n",
       "Name: vpa, dtype: float64"
      ]
     },
     "execution_count": 89,
     "metadata": {},
     "output_type": "execute_result"
    }
   ],
   "source": [
    "# Independent variable vpa represnts Minutes of total Vigorous Physical Activity per week\n",
    "# The unit is minutes/week\n",
    "# A value which is > 8hr * 7days * 60 minutes = 3360 minutes/week seems unreasonable or invalid\n",
    "df=df[df['vpa'] <= 3360]\n",
    "df['vpa'].describe()"
   ]
  },
  {
   "cell_type": "code",
   "execution_count": 90,
   "id": "9614a841-37fc-4221-922a-c8c30be501ff",
   "metadata": {},
   "outputs": [
    {
     "data": {
      "text/html": [
       "<div>\n",
       "<style scoped>\n",
       "    .dataframe tbody tr th:only-of-type {\n",
       "        vertical-align: middle;\n",
       "    }\n",
       "\n",
       "    .dataframe tbody tr th {\n",
       "        vertical-align: top;\n",
       "    }\n",
       "\n",
       "    .dataframe thead th {\n",
       "        text-align: right;\n",
       "    }\n",
       "</style>\n",
       "<table border=\"1\" class=\"dataframe\">\n",
       "  <thead>\n",
       "    <tr style=\"text-align: right;\">\n",
       "      <th></th>\n",
       "      <th>diabete</th>\n",
       "      <th>bmi</th>\n",
       "      <th>physhlth</th>\n",
       "      <th>menthlth</th>\n",
       "      <th>michd</th>\n",
       "      <th>hchol</th>\n",
       "      <th>hblpr</th>\n",
       "      <th>vpa</th>\n",
       "      <th>hvdr</th>\n",
       "      <th>smok</th>\n",
       "      <th>incom50</th>\n",
       "      <th>cllgr</th>\n",
       "      <th>sex</th>\n",
       "      <th>age65</th>\n",
       "    </tr>\n",
       "  </thead>\n",
       "  <tbody>\n",
       "    <tr>\n",
       "      <th>0</th>\n",
       "      <td>1</td>\n",
       "      <td>26.96</td>\n",
       "      <td>0.0</td>\n",
       "      <td>0.0</td>\n",
       "      <td>0</td>\n",
       "      <td>1</td>\n",
       "      <td>1</td>\n",
       "      <td>180.0</td>\n",
       "      <td>0</td>\n",
       "      <td>0</td>\n",
       "      <td>0</td>\n",
       "      <td>1</td>\n",
       "      <td>1</td>\n",
       "      <td>1</td>\n",
       "    </tr>\n",
       "    <tr>\n",
       "      <th>1</th>\n",
       "      <td>0</td>\n",
       "      <td>29.43</td>\n",
       "      <td>0.0</td>\n",
       "      <td>0.0</td>\n",
       "      <td>0</td>\n",
       "      <td>0</td>\n",
       "      <td>1</td>\n",
       "      <td>0.0</td>\n",
       "      <td>0</td>\n",
       "      <td>0</td>\n",
       "      <td>1</td>\n",
       "      <td>1</td>\n",
       "      <td>0</td>\n",
       "      <td>1</td>\n",
       "    </tr>\n",
       "    <tr>\n",
       "      <th>2</th>\n",
       "      <td>0</td>\n",
       "      <td>27.34</td>\n",
       "      <td>6.0</td>\n",
       "      <td>0.0</td>\n",
       "      <td>1</td>\n",
       "      <td>0</td>\n",
       "      <td>1</td>\n",
       "      <td>60.0</td>\n",
       "      <td>0</td>\n",
       "      <td>1</td>\n",
       "      <td>0</td>\n",
       "      <td>0</td>\n",
       "      <td>0</td>\n",
       "      <td>1</td>\n",
       "    </tr>\n",
       "    <tr>\n",
       "      <th>3</th>\n",
       "      <td>0</td>\n",
       "      <td>27.12</td>\n",
       "      <td>2.0</td>\n",
       "      <td>1.0</td>\n",
       "      <td>0</td>\n",
       "      <td>0</td>\n",
       "      <td>1</td>\n",
       "      <td>0.0</td>\n",
       "      <td>0</td>\n",
       "      <td>0</td>\n",
       "      <td>0</td>\n",
       "      <td>0</td>\n",
       "      <td>0</td>\n",
       "      <td>0</td>\n",
       "    </tr>\n",
       "    <tr>\n",
       "      <th>4</th>\n",
       "      <td>1</td>\n",
       "      <td>23.03</td>\n",
       "      <td>5.0</td>\n",
       "      <td>0.0</td>\n",
       "      <td>0</td>\n",
       "      <td>1</td>\n",
       "      <td>1</td>\n",
       "      <td>125.0</td>\n",
       "      <td>0</td>\n",
       "      <td>0</td>\n",
       "      <td>0</td>\n",
       "      <td>0</td>\n",
       "      <td>1</td>\n",
       "      <td>1</td>\n",
       "    </tr>\n",
       "    <tr>\n",
       "      <th>...</th>\n",
       "      <td>...</td>\n",
       "      <td>...</td>\n",
       "      <td>...</td>\n",
       "      <td>...</td>\n",
       "      <td>...</td>\n",
       "      <td>...</td>\n",
       "      <td>...</td>\n",
       "      <td>...</td>\n",
       "      <td>...</td>\n",
       "      <td>...</td>\n",
       "      <td>...</td>\n",
       "      <td>...</td>\n",
       "      <td>...</td>\n",
       "      <td>...</td>\n",
       "    </tr>\n",
       "    <tr>\n",
       "      <th>211505</th>\n",
       "      <td>1</td>\n",
       "      <td>32.45</td>\n",
       "      <td>0.0</td>\n",
       "      <td>0.0</td>\n",
       "      <td>0</td>\n",
       "      <td>0</td>\n",
       "      <td>0</td>\n",
       "      <td>0.0</td>\n",
       "      <td>0</td>\n",
       "      <td>0</td>\n",
       "      <td>0</td>\n",
       "      <td>0</td>\n",
       "      <td>0</td>\n",
       "      <td>1</td>\n",
       "    </tr>\n",
       "    <tr>\n",
       "      <th>211506</th>\n",
       "      <td>0</td>\n",
       "      <td>24.80</td>\n",
       "      <td>0.0</td>\n",
       "      <td>0.0</td>\n",
       "      <td>0</td>\n",
       "      <td>0</td>\n",
       "      <td>0</td>\n",
       "      <td>0.0</td>\n",
       "      <td>0</td>\n",
       "      <td>0</td>\n",
       "      <td>1</td>\n",
       "      <td>0</td>\n",
       "      <td>1</td>\n",
       "      <td>0</td>\n",
       "    </tr>\n",
       "    <tr>\n",
       "      <th>211507</th>\n",
       "      <td>0</td>\n",
       "      <td>25.77</td>\n",
       "      <td>0.0</td>\n",
       "      <td>0.0</td>\n",
       "      <td>0</td>\n",
       "      <td>0</td>\n",
       "      <td>0</td>\n",
       "      <td>90.0</td>\n",
       "      <td>0</td>\n",
       "      <td>0</td>\n",
       "      <td>1</td>\n",
       "      <td>1</td>\n",
       "      <td>0</td>\n",
       "      <td>0</td>\n",
       "    </tr>\n",
       "    <tr>\n",
       "      <th>211508</th>\n",
       "      <td>0</td>\n",
       "      <td>22.86</td>\n",
       "      <td>0.0</td>\n",
       "      <td>0.0</td>\n",
       "      <td>0</td>\n",
       "      <td>0</td>\n",
       "      <td>0</td>\n",
       "      <td>0.0</td>\n",
       "      <td>0</td>\n",
       "      <td>0</td>\n",
       "      <td>0</td>\n",
       "      <td>1</td>\n",
       "      <td>1</td>\n",
       "      <td>0</td>\n",
       "    </tr>\n",
       "    <tr>\n",
       "      <th>211509</th>\n",
       "      <td>0</td>\n",
       "      <td>29.16</td>\n",
       "      <td>0.0</td>\n",
       "      <td>0.0</td>\n",
       "      <td>0</td>\n",
       "      <td>0</td>\n",
       "      <td>1</td>\n",
       "      <td>0.0</td>\n",
       "      <td>0</td>\n",
       "      <td>1</td>\n",
       "      <td>0</td>\n",
       "      <td>0</td>\n",
       "      <td>0</td>\n",
       "      <td>0</td>\n",
       "    </tr>\n",
       "  </tbody>\n",
       "</table>\n",
       "<p>211319 rows × 14 columns</p>\n",
       "</div>"
      ],
      "text/plain": [
       "        diabete    bmi  physhlth  menthlth  michd  hchol  hblpr    vpa  hvdr  \\\n",
       "0             1  26.96       0.0       0.0      0      1      1  180.0     0   \n",
       "1             0  29.43       0.0       0.0      0      0      1    0.0     0   \n",
       "2             0  27.34       6.0       0.0      1      0      1   60.0     0   \n",
       "3             0  27.12       2.0       1.0      0      0      1    0.0     0   \n",
       "4             1  23.03       5.0       0.0      0      1      1  125.0     0   \n",
       "...         ...    ...       ...       ...    ...    ...    ...    ...   ...   \n",
       "211505        1  32.45       0.0       0.0      0      0      0    0.0     0   \n",
       "211506        0  24.80       0.0       0.0      0      0      0    0.0     0   \n",
       "211507        0  25.77       0.0       0.0      0      0      0   90.0     0   \n",
       "211508        0  22.86       0.0       0.0      0      0      0    0.0     0   \n",
       "211509        0  29.16       0.0       0.0      0      0      1    0.0     0   \n",
       "\n",
       "        smok  incom50  cllgr  sex  age65  \n",
       "0          0        0      1    1      1  \n",
       "1          0        1      1    0      1  \n",
       "2          1        0      0    0      1  \n",
       "3          0        0      0    0      0  \n",
       "4          0        0      0    1      1  \n",
       "...      ...      ...    ...  ...    ...  \n",
       "211505     0        0      0    0      1  \n",
       "211506     0        1      0    1      0  \n",
       "211507     0        1      1    0      0  \n",
       "211508     0        0      1    1      0  \n",
       "211509     1        0      0    0      0  \n",
       "\n",
       "[211319 rows x 14 columns]"
      ]
     },
     "execution_count": 90,
     "metadata": {},
     "output_type": "execute_result"
    }
   ],
   "source": [
    "df"
   ]
  },
  {
   "cell_type": "markdown",
   "id": "12c1de65-0132-4b90-bbb0-5df6d610f56a",
   "metadata": {},
   "source": [
    "##### After excluding potential invalid values, we have got 211319 complete and clean samples in the dataset, with 18 variables."
   ]
  },
  {
   "cell_type": "code",
   "execution_count": 91,
   "id": "b846dd00-3387-42e8-9cdb-248faa8994bf",
   "metadata": {},
   "outputs": [],
   "source": [
    "## save to CSV\n",
    "df.to_csv('../data/2017_diabetes_cleaned_vld.csv', index = False)"
   ]
  },
  {
   "cell_type": "markdown",
   "id": "1a759a4f-d0d1-4dd7-9075-14bda1826df3",
   "metadata": {},
   "source": [
    "-----------------"
   ]
  },
  {
   "cell_type": "code",
   "execution_count": null,
   "id": "5f6810c1-2c98-4b07-aaa2-f5cd87e2f178",
   "metadata": {},
   "outputs": [],
   "source": [
    "#### Re-run the Plots"
   ]
  }
 ],
 "metadata": {
  "environment": {
   "kernel": "python3",
   "name": "common-cpu.m89",
   "type": "gcloud",
   "uri": "gcr.io/deeplearning-platform-release/base-cpu:m89"
  },
  "kernelspec": {
   "display_name": "Python 3",
   "language": "python",
   "name": "python3"
  },
  "language_info": {
   "codemirror_mode": {
    "name": "ipython",
    "version": 3
   },
   "file_extension": ".py",
   "mimetype": "text/x-python",
   "name": "python",
   "nbconvert_exporter": "python",
   "pygments_lexer": "ipython3",
   "version": "3.7.12"
  }
 },
 "nbformat": 4,
 "nbformat_minor": 5
}
