{
 "cells": [
  {
   "cell_type": "markdown",
   "id": "097e8232-454b-4430-9b67-51e8c606f013",
   "metadata": {},
   "source": [
    "## Summary Statistics"
   ]
  },
  {
   "cell_type": "markdown",
   "id": "0879b206-e85e-48f9-afbd-bb16ff39690a",
   "metadata": {},
   "source": [
    "------"
   ]
  },
  {
   "cell_type": "code",
   "execution_count": 61,
   "id": "35107135-0145-438e-9080-c18455238cf5",
   "metadata": {},
   "outputs": [],
   "source": [
    "# Import the libraries\n",
    "import pandas as pd\n",
    "from pathlib import Path\n",
    "import os\n",
    "import matplotlib.pyplot as plt"
   ]
  },
  {
   "cell_type": "code",
   "execution_count": 62,
   "id": "ad9e6070-04a2-420e-9a04-f505b1287c1b",
   "metadata": {},
   "outputs": [],
   "source": [
    "# Import the original data files\n",
    "df = pd.read_csv('../data/2017_diabetes_cleaned.csv')"
   ]
  },
  {
   "cell_type": "markdown",
   "id": "8ba8d65f-17a6-4265-a20d-754b515ef414",
   "metadata": {},
   "source": [
    "--------"
   ]
  },
  {
   "cell_type": "markdown",
   "id": "cc0d3c31-1aa4-4518-b15d-a0913aab379d",
   "metadata": {},
   "source": [
    "#### General Condition"
   ]
  },
  {
   "cell_type": "code",
   "execution_count": 63,
   "id": "82a38f93-ae34-4baf-b1d2-aee64a5fe155",
   "metadata": {},
   "outputs": [
    {
     "data": {
      "text/html": [
       "<div>\n",
       "<style scoped>\n",
       "    .dataframe tbody tr th:only-of-type {\n",
       "        vertical-align: middle;\n",
       "    }\n",
       "\n",
       "    .dataframe tbody tr th {\n",
       "        vertical-align: top;\n",
       "    }\n",
       "\n",
       "    .dataframe thead th {\n",
       "        text-align: right;\n",
       "    }\n",
       "</style>\n",
       "<table border=\"1\" class=\"dataframe\">\n",
       "  <thead>\n",
       "    <tr style=\"text-align: right;\">\n",
       "      <th></th>\n",
       "      <th>diabete</th>\n",
       "      <th>bmi</th>\n",
       "      <th>physhlth</th>\n",
       "      <th>menthlth</th>\n",
       "      <th>michd</th>\n",
       "      <th>hchol</th>\n",
       "      <th>hblpr</th>\n",
       "      <th>vpa</th>\n",
       "      <th>grenda</th>\n",
       "      <th>potada</th>\n",
       "      <th>frnchda</th>\n",
       "      <th>frutda</th>\n",
       "      <th>hvdr</th>\n",
       "      <th>smok</th>\n",
       "      <th>incom50</th>\n",
       "      <th>cllgatt</th>\n",
       "      <th>sex</th>\n",
       "      <th>age65</th>\n",
       "    </tr>\n",
       "  </thead>\n",
       "  <tbody>\n",
       "    <tr>\n",
       "      <th>0</th>\n",
       "      <td>1</td>\n",
       "      <td>26.96</td>\n",
       "      <td>0.0</td>\n",
       "      <td>0.0</td>\n",
       "      <td>0</td>\n",
       "      <td>1</td>\n",
       "      <td>1</td>\n",
       "      <td>180.0</td>\n",
       "      <td>43.0</td>\n",
       "      <td>1.400000e+01</td>\n",
       "      <td>1.400000e+01</td>\n",
       "      <td>200.0</td>\n",
       "      <td>0</td>\n",
       "      <td>0</td>\n",
       "      <td>0</td>\n",
       "      <td>1</td>\n",
       "      <td>1</td>\n",
       "      <td>1</td>\n",
       "    </tr>\n",
       "    <tr>\n",
       "      <th>1</th>\n",
       "      <td>0</td>\n",
       "      <td>29.43</td>\n",
       "      <td>0.0</td>\n",
       "      <td>0.0</td>\n",
       "      <td>0</td>\n",
       "      <td>0</td>\n",
       "      <td>1</td>\n",
       "      <td>0.0</td>\n",
       "      <td>100.0</td>\n",
       "      <td>5.397605e-79</td>\n",
       "      <td>5.397605e-79</td>\n",
       "      <td>300.0</td>\n",
       "      <td>0</td>\n",
       "      <td>0</td>\n",
       "      <td>1</td>\n",
       "      <td>1</td>\n",
       "      <td>0</td>\n",
       "      <td>1</td>\n",
       "    </tr>\n",
       "    <tr>\n",
       "      <th>2</th>\n",
       "      <td>0</td>\n",
       "      <td>23.01</td>\n",
       "      <td>0.0</td>\n",
       "      <td>0.0</td>\n",
       "      <td>0</td>\n",
       "      <td>1</td>\n",
       "      <td>1</td>\n",
       "      <td>40.0</td>\n",
       "      <td>29.0</td>\n",
       "      <td>1.400000e+01</td>\n",
       "      <td>3.000000e+00</td>\n",
       "      <td>29.0</td>\n",
       "      <td>0</td>\n",
       "      <td>0</td>\n",
       "      <td>1</td>\n",
       "      <td>1</td>\n",
       "      <td>0</td>\n",
       "      <td>1</td>\n",
       "    </tr>\n",
       "    <tr>\n",
       "      <th>3</th>\n",
       "      <td>0</td>\n",
       "      <td>24.56</td>\n",
       "      <td>4.0</td>\n",
       "      <td>1.0</td>\n",
       "      <td>0</td>\n",
       "      <td>1</td>\n",
       "      <td>0</td>\n",
       "      <td>90.0</td>\n",
       "      <td>33.0</td>\n",
       "      <td>7.000000e+00</td>\n",
       "      <td>1.000000e+01</td>\n",
       "      <td>29.0</td>\n",
       "      <td>0</td>\n",
       "      <td>1</td>\n",
       "      <td>1</td>\n",
       "      <td>1</td>\n",
       "      <td>1</td>\n",
       "      <td>1</td>\n",
       "    </tr>\n",
       "    <tr>\n",
       "      <th>4</th>\n",
       "      <td>0</td>\n",
       "      <td>22.31</td>\n",
       "      <td>0.0</td>\n",
       "      <td>10.0</td>\n",
       "      <td>0</td>\n",
       "      <td>0</td>\n",
       "      <td>1</td>\n",
       "      <td>10.0</td>\n",
       "      <td>100.0</td>\n",
       "      <td>1.400000e+01</td>\n",
       "      <td>2.000000e+00</td>\n",
       "      <td>100.0</td>\n",
       "      <td>0</td>\n",
       "      <td>0</td>\n",
       "      <td>1</td>\n",
       "      <td>1</td>\n",
       "      <td>1</td>\n",
       "      <td>0</td>\n",
       "    </tr>\n",
       "    <tr>\n",
       "      <th>...</th>\n",
       "      <td>...</td>\n",
       "      <td>...</td>\n",
       "      <td>...</td>\n",
       "      <td>...</td>\n",
       "      <td>...</td>\n",
       "      <td>...</td>\n",
       "      <td>...</td>\n",
       "      <td>...</td>\n",
       "      <td>...</td>\n",
       "      <td>...</td>\n",
       "      <td>...</td>\n",
       "      <td>...</td>\n",
       "      <td>...</td>\n",
       "      <td>...</td>\n",
       "      <td>...</td>\n",
       "      <td>...</td>\n",
       "      <td>...</td>\n",
       "      <td>...</td>\n",
       "    </tr>\n",
       "    <tr>\n",
       "      <th>103992</th>\n",
       "      <td>0</td>\n",
       "      <td>24.21</td>\n",
       "      <td>0.0</td>\n",
       "      <td>0.0</td>\n",
       "      <td>0</td>\n",
       "      <td>1</td>\n",
       "      <td>1</td>\n",
       "      <td>0.0</td>\n",
       "      <td>7.0</td>\n",
       "      <td>7.000000e+00</td>\n",
       "      <td>7.000000e+00</td>\n",
       "      <td>13.0</td>\n",
       "      <td>0</td>\n",
       "      <td>0</td>\n",
       "      <td>0</td>\n",
       "      <td>0</td>\n",
       "      <td>0</td>\n",
       "      <td>1</td>\n",
       "    </tr>\n",
       "    <tr>\n",
       "      <th>103993</th>\n",
       "      <td>0</td>\n",
       "      <td>30.11</td>\n",
       "      <td>0.0</td>\n",
       "      <td>0.0</td>\n",
       "      <td>0</td>\n",
       "      <td>0</td>\n",
       "      <td>0</td>\n",
       "      <td>0.0</td>\n",
       "      <td>0.0</td>\n",
       "      <td>1.000000e+01</td>\n",
       "      <td>1.400000e+01</td>\n",
       "      <td>100.0</td>\n",
       "      <td>0</td>\n",
       "      <td>0</td>\n",
       "      <td>0</td>\n",
       "      <td>0</td>\n",
       "      <td>1</td>\n",
       "      <td>0</td>\n",
       "    </tr>\n",
       "    <tr>\n",
       "      <th>103994</th>\n",
       "      <td>1</td>\n",
       "      <td>23.03</td>\n",
       "      <td>0.0</td>\n",
       "      <td>0.0</td>\n",
       "      <td>0</td>\n",
       "      <td>1</td>\n",
       "      <td>1</td>\n",
       "      <td>14.0</td>\n",
       "      <td>29.0</td>\n",
       "      <td>7.000000e+00</td>\n",
       "      <td>3.000000e+00</td>\n",
       "      <td>43.0</td>\n",
       "      <td>0</td>\n",
       "      <td>0</td>\n",
       "      <td>0</td>\n",
       "      <td>1</td>\n",
       "      <td>0</td>\n",
       "      <td>1</td>\n",
       "    </tr>\n",
       "    <tr>\n",
       "      <th>103995</th>\n",
       "      <td>0</td>\n",
       "      <td>24.63</td>\n",
       "      <td>30.0</td>\n",
       "      <td>30.0</td>\n",
       "      <td>0</td>\n",
       "      <td>1</td>\n",
       "      <td>0</td>\n",
       "      <td>0.0</td>\n",
       "      <td>43.0</td>\n",
       "      <td>7.000000e+00</td>\n",
       "      <td>5.397605e-79</td>\n",
       "      <td>14.0</td>\n",
       "      <td>0</td>\n",
       "      <td>0</td>\n",
       "      <td>0</td>\n",
       "      <td>1</td>\n",
       "      <td>1</td>\n",
       "      <td>0</td>\n",
       "    </tr>\n",
       "    <tr>\n",
       "      <th>103996</th>\n",
       "      <td>1</td>\n",
       "      <td>40.47</td>\n",
       "      <td>4.0</td>\n",
       "      <td>0.0</td>\n",
       "      <td>0</td>\n",
       "      <td>1</td>\n",
       "      <td>1</td>\n",
       "      <td>0.0</td>\n",
       "      <td>43.0</td>\n",
       "      <td>1.400000e+01</td>\n",
       "      <td>1.400000e+01</td>\n",
       "      <td>57.0</td>\n",
       "      <td>0</td>\n",
       "      <td>0</td>\n",
       "      <td>0</td>\n",
       "      <td>0</td>\n",
       "      <td>1</td>\n",
       "      <td>0</td>\n",
       "    </tr>\n",
       "  </tbody>\n",
       "</table>\n",
       "<p>103997 rows × 18 columns</p>\n",
       "</div>"
      ],
      "text/plain": [
       "        diabete    bmi  physhlth  menthlth  michd  hchol  hblpr    vpa  \\\n",
       "0             1  26.96       0.0       0.0      0      1      1  180.0   \n",
       "1             0  29.43       0.0       0.0      0      0      1    0.0   \n",
       "2             0  23.01       0.0       0.0      0      1      1   40.0   \n",
       "3             0  24.56       4.0       1.0      0      1      0   90.0   \n",
       "4             0  22.31       0.0      10.0      0      0      1   10.0   \n",
       "...         ...    ...       ...       ...    ...    ...    ...    ...   \n",
       "103992        0  24.21       0.0       0.0      0      1      1    0.0   \n",
       "103993        0  30.11       0.0       0.0      0      0      0    0.0   \n",
       "103994        1  23.03       0.0       0.0      0      1      1   14.0   \n",
       "103995        0  24.63      30.0      30.0      0      1      0    0.0   \n",
       "103996        1  40.47       4.0       0.0      0      1      1    0.0   \n",
       "\n",
       "        grenda        potada       frnchda  frutda  hvdr  smok  incom50  \\\n",
       "0         43.0  1.400000e+01  1.400000e+01   200.0     0     0        0   \n",
       "1        100.0  5.397605e-79  5.397605e-79   300.0     0     0        1   \n",
       "2         29.0  1.400000e+01  3.000000e+00    29.0     0     0        1   \n",
       "3         33.0  7.000000e+00  1.000000e+01    29.0     0     1        1   \n",
       "4        100.0  1.400000e+01  2.000000e+00   100.0     0     0        1   \n",
       "...        ...           ...           ...     ...   ...   ...      ...   \n",
       "103992     7.0  7.000000e+00  7.000000e+00    13.0     0     0        0   \n",
       "103993     0.0  1.000000e+01  1.400000e+01   100.0     0     0        0   \n",
       "103994    29.0  7.000000e+00  3.000000e+00    43.0     0     0        0   \n",
       "103995    43.0  7.000000e+00  5.397605e-79    14.0     0     0        0   \n",
       "103996    43.0  1.400000e+01  1.400000e+01    57.0     0     0        0   \n",
       "\n",
       "        cllgatt  sex  age65  \n",
       "0             1    1      1  \n",
       "1             1    0      1  \n",
       "2             1    0      1  \n",
       "3             1    1      1  \n",
       "4             1    1      0  \n",
       "...         ...  ...    ...  \n",
       "103992        0    0      1  \n",
       "103993        0    1      0  \n",
       "103994        1    0      1  \n",
       "103995        1    1      0  \n",
       "103996        0    1      0  \n",
       "\n",
       "[103997 rows x 18 columns]"
      ]
     },
     "execution_count": 63,
     "metadata": {},
     "output_type": "execute_result"
    }
   ],
   "source": [
    "df"
   ]
  },
  {
   "cell_type": "markdown",
   "id": "b41d6628-121b-41c3-9b68-4123ecdcc2f7",
   "metadata": {},
   "source": [
    "##### After variable selection and data cleaning, we have got 5646 complete and clean samples in the dataset, with 18 variables."
   ]
  },
  {
   "cell_type": "markdown",
   "id": "b5b6c498-4c5c-4381-897e-88012bede7d2",
   "metadata": {},
   "source": [
    "--------"
   ]
  },
  {
   "cell_type": "markdown",
   "id": "ff201289-0fcd-41f8-a719-9ecdd82fc278",
   "metadata": {},
   "source": [
    "#### Check the Basic Statistics for 18 Selected Variables "
   ]
  },
  {
   "cell_type": "code",
   "execution_count": 64,
   "id": "a9b2c584-b748-42eb-9544-5a660ff69b33",
   "metadata": {},
   "outputs": [
    {
     "data": {
      "text/plain": [
       "count    103997.000000\n",
       "mean          0.142427\n",
       "std           0.349489\n",
       "min           0.000000\n",
       "25%           0.000000\n",
       "50%           0.000000\n",
       "75%           0.000000\n",
       "max           1.000000\n",
       "Name: diabete, dtype: float64"
      ]
     },
     "execution_count": 64,
     "metadata": {},
     "output_type": "execute_result"
    }
   ],
   "source": [
    "# The dependent variable, diabete, categorical\n",
    "df['diabete'].describe()"
   ]
  },
  {
   "cell_type": "code",
   "execution_count": 65,
   "id": "43b723c0-c13d-4195-b780-e766bd02ec8c",
   "metadata": {},
   "outputs": [
    {
     "data": {
      "image/png": "[encoded data removed]",
      "text/plain": [
       "<Figure size 432x288 with 1 Axes>"
      ]
     },
     "metadata": {
      "needs_background": "light"
     },
     "output_type": "display_data"
    }
   ],
   "source": [
    "# the distribution of diabete\n",
    "plt.hist(df['diabete'], bins=5)\n",
    "plt.show()"
   ]
  },
  {
   "cell_type": "code",
   "execution_count": 66,
   "id": "9042abf2-321a-4f54-885f-ca89ea1c6037",
   "metadata": {},
   "outputs": [
    {
     "data": {
      "text/plain": [
       "count    103997.000000\n",
       "mean         27.731158\n",
       "std           5.780199\n",
       "min          12.010000\n",
       "25%          23.750000\n",
       "50%          26.630000\n",
       "75%          30.550000\n",
       "max          92.570000\n",
       "Name: bmi, dtype: float64"
      ]
     },
     "execution_count": 66,
     "metadata": {},
     "output_type": "execute_result"
    }
   ],
   "source": [
    "# The independent variable, bmi, numerical\n",
    "df['bmi'].describe()"
   ]
  },
  {
   "cell_type": "code",
   "execution_count": 67,
   "id": "08ef6edb-e19c-4e71-a98c-374b96eb0bb3",
   "metadata": {},
   "outputs": [
    {
     "data": {
      "image/png": "[encoded data removed]",
      "text/plain": [
       "<Figure size 432x288 with 1 Axes>"
      ]
     },
     "metadata": {
      "needs_background": "light"
     },
     "output_type": "display_data"
    }
   ],
   "source": [
    "# the distribution of bmi\n",
    "plt.hist(df['bmi'], bins=10)\n",
    "plt.show()"
   ]
  },
  {
   "cell_type": "code",
   "execution_count": 68,
   "id": "eb904e60-412c-4a9a-b330-142f176ffe72",
   "metadata": {},
   "outputs": [
    {
     "data": {
      "text/plain": [
       "count    103997.000000\n",
       "mean          3.159197\n",
       "std           7.385429\n",
       "min           0.000000\n",
       "25%           0.000000\n",
       "50%           0.000000\n",
       "75%           2.000000\n",
       "max          30.000000\n",
       "Name: physhlth, dtype: float64"
      ]
     },
     "execution_count": 68,
     "metadata": {},
     "output_type": "execute_result"
    }
   ],
   "source": [
    "# The independent variable, physhlth, numerical\n",
    "df['physhlth'].describe()"
   ]
  },
  {
   "cell_type": "code",
   "execution_count": 69,
   "id": "87e651c3-e4a0-4948-9fb5-48b44c66b514",
   "metadata": {},
   "outputs": [
    {
     "data": {
      "image/png": "[encoded data removed]",
      "text/plain": [
       "<Figure size 432x288 with 1 Axes>"
      ]
     },
     "metadata": {
      "needs_background": "light"
     },
     "output_type": "display_data"
    }
   ],
   "source": [
    "# the distribution of physhlth\n",
    "plt.hist(df['physhlth'], bins=10)\n",
    "plt.show()"
   ]
  },
  {
   "cell_type": "code",
   "execution_count": 70,
   "id": "46c165c8-5263-4161-be25-0246f980c96f",
   "metadata": {},
   "outputs": [
    {
     "data": {
      "text/plain": [
       "count    103997.000000\n",
       "mean          2.849967\n",
       "std           6.850599\n",
       "min           0.000000\n",
       "25%           0.000000\n",
       "50%           0.000000\n",
       "75%           2.000000\n",
       "max          30.000000\n",
       "Name: menthlth, dtype: float64"
      ]
     },
     "execution_count": 70,
     "metadata": {},
     "output_type": "execute_result"
    }
   ],
   "source": [
    "# The independent variable, menthlth, numerical\n",
    "df['menthlth'].describe()"
   ]
  },
  {
   "cell_type": "code",
   "execution_count": 71,
   "id": "92676837-e41d-4ac1-b4d4-677dcb70c4f2",
   "metadata": {},
   "outputs": [
    {
     "data": {
      "image/png": "[encoded data removed]",
      "text/plain": [
       "<Figure size 432x288 with 1 Axes>"
      ]
     },
     "metadata": {
      "needs_background": "light"
     },
     "output_type": "display_data"
    }
   ],
   "source": [
    "# the distribution of menthlth\n",
    "plt.hist(df['menthlth'], bins=10)\n",
    "plt.show()"
   ]
  },
  {
   "cell_type": "code",
   "execution_count": 72,
   "id": "43b5b8d2-eef0-421a-be44-6a0c01a04e8b",
   "metadata": {},
   "outputs": [
    {
     "data": {
      "text/plain": [
       "count    103997.000000\n",
       "mean          0.070944\n",
       "std           0.256733\n",
       "min           0.000000\n",
       "25%           0.000000\n",
       "50%           0.000000\n",
       "75%           0.000000\n",
       "max           1.000000\n",
       "Name: michd, dtype: float64"
      ]
     },
     "execution_count": 72,
     "metadata": {},
     "output_type": "execute_result"
    }
   ],
   "source": [
    "# The independent variable, michd, categorical\n",
    "df['michd'].describe()"
   ]
  },
  {
   "cell_type": "code",
   "execution_count": 73,
   "id": "4d405452-bce4-4a79-8c3a-b2fea66577cc",
   "metadata": {},
   "outputs": [
    {
     "data": {
      "image/png": "[encoded data removed]",
      "text/plain": [
       "<Figure size 432x288 with 1 Axes>"
      ]
     },
     "metadata": {
      "needs_background": "light"
     },
     "output_type": "display_data"
    }
   ],
   "source": [
    "# the distribution of michd\n",
    "plt.hist(df['michd'], bins=5)\n",
    "plt.show()"
   ]
  },
  {
   "cell_type": "code",
   "execution_count": 74,
   "id": "bf789572-0ad6-4e61-adc4-5daa66178d20",
   "metadata": {},
   "outputs": [
    {
     "data": {
      "text/plain": [
       "count    103997.000000\n",
       "mean          0.370222\n",
       "std           0.482866\n",
       "min           0.000000\n",
       "25%           0.000000\n",
       "50%           0.000000\n",
       "75%           1.000000\n",
       "max           1.000000\n",
       "Name: hchol, dtype: float64"
      ]
     },
     "execution_count": 74,
     "metadata": {},
     "output_type": "execute_result"
    }
   ],
   "source": [
    "# The independent variable, hchol, categorical\n",
    "df['hchol'].describe()"
   ]
  },
  {
   "cell_type": "code",
   "execution_count": 75,
   "id": "2e2f5b6d-766d-497f-a38d-8a984dba4f4a",
   "metadata": {},
   "outputs": [
    {
     "data": {
      "image/png": "[encoded data removed]",
      "text/plain": [
       "<Figure size 432x288 with 1 Axes>"
      ]
     },
     "metadata": {
      "needs_background": "light"
     },
     "output_type": "display_data"
    }
   ],
   "source": [
    "# the distribution of hchol\n",
    "plt.hist(df['hchol'], bins=5)\n",
    "plt.show()"
   ]
  },
  {
   "cell_type": "code",
   "execution_count": 76,
   "id": "2bc9b85e-2473-4fd1-870f-465b5a7dfa5d",
   "metadata": {},
   "outputs": [
    {
     "data": {
      "text/plain": [
       "count    103997.000000\n",
       "mean          0.374847\n",
       "std           0.484086\n",
       "min           0.000000\n",
       "25%           0.000000\n",
       "50%           0.000000\n",
       "75%           1.000000\n",
       "max           1.000000\n",
       "Name: hblpr, dtype: float64"
      ]
     },
     "execution_count": 76,
     "metadata": {},
     "output_type": "execute_result"
    }
   ],
   "source": [
    "# The independent variable, hblpr, categorical\n",
    "df['hblpr'].describe()"
   ]
  },
  {
   "cell_type": "code",
   "execution_count": 77,
   "id": "c1da677e-1531-4c62-975f-f7ee48027bfe",
   "metadata": {},
   "outputs": [
    {
     "data": {
      "image/png": "[encoded data removed]",
      "text/plain": [
       "<Figure size 432x288 with 1 Axes>"
      ]
     },
     "metadata": {
      "needs_background": "light"
     },
     "output_type": "display_data"
    }
   ],
   "source": [
    "# the distribution of hblpr\n",
    "plt.hist(df['hblpr'], bins=5)\n",
    "plt.show()"
   ]
  },
  {
   "cell_type": "code",
   "execution_count": 78,
   "id": "afe2faee-6da3-42be-b399-9d5f3b708348",
   "metadata": {},
   "outputs": [
    {
     "data": {
      "text/plain": [
       "count    103997.000000\n",
       "mean        131.474648\n",
       "std         347.495489\n",
       "min           0.000000\n",
       "25%           0.000000\n",
       "50%           0.000000\n",
       "75%         150.000000\n",
       "max       37500.000000\n",
       "Name: vpa, dtype: float64"
      ]
     },
     "execution_count": 78,
     "metadata": {},
     "output_type": "execute_result"
    }
   ],
   "source": [
    "# The independent variable, vpa, numerical\n",
    "df['vpa'].describe()"
   ]
  },
  {
   "cell_type": "code",
   "execution_count": 79,
   "id": "144defb0-2cdf-420b-a48b-c89ff811148d",
   "metadata": {},
   "outputs": [
    {
     "data": {
      "image/png": "[encoded data removed]",
      "text/plain": [
       "<Figure size 432x288 with 1 Axes>"
      ]
     },
     "metadata": {
      "needs_background": "light"
     },
     "output_type": "display_data"
    }
   ],
   "source": [
    "# the distribution of vpa\n",
    "plt.hist(df['vpa'], bins=10)\n",
    "plt.show()"
   ]
  },
  {
   "cell_type": "code",
   "execution_count": 80,
   "id": "20c315a4-121a-4bd4-8682-cc17691d94ad",
   "metadata": {},
   "outputs": [
    {
     "data": {
      "text/plain": [
       "count    103997.000000\n",
       "mean         68.629143\n",
       "std         123.389762\n",
       "min           0.000000\n",
       "25%          29.000000\n",
       "50%          50.000000\n",
       "75%         100.000000\n",
       "max        9900.000000\n",
       "Name: grenda, dtype: float64"
      ]
     },
     "execution_count": 80,
     "metadata": {},
     "output_type": "execute_result"
    }
   ],
   "source": [
    "# The independent variable, grenda, numerical\n",
    "df['grenda'].describe()"
   ]
  },
  {
   "cell_type": "code",
   "execution_count": 81,
   "id": "a4825a60-2483-4e46-8aaf-792c45bfdea0",
   "metadata": {},
   "outputs": [
    {
     "data": {
      "image/png": "[encoded data removed]",
      "text/plain": [
       "<Figure size 432x288 with 1 Axes>"
      ]
     },
     "metadata": {
      "needs_background": "light"
     },
     "output_type": "display_data"
    }
   ],
   "source": [
    "# the distribution of grenda\n",
    "plt.hist(df['grenda'], bins=10)\n",
    "plt.show()"
   ]
  },
  {
   "cell_type": "code",
   "execution_count": 82,
   "id": "4ea5311b-60cf-4795-ae86-c8e99c49b863",
   "metadata": {},
   "outputs": [
    {
     "data": {
      "text/plain": [
       "count    1.039970e+05\n",
       "mean     8.869083e+00\n",
       "std      6.120890e+00\n",
       "min      5.397605e-79\n",
       "25%      3.000000e+00\n",
       "50%      1.000000e+01\n",
       "75%      1.400000e+01\n",
       "max      2.300000e+01\n",
       "Name: potada, dtype: float64"
      ]
     },
     "execution_count": 82,
     "metadata": {},
     "output_type": "execute_result"
    }
   ],
   "source": [
    "# The independent variable, potada, numerical\n",
    "df['potada'].describe()"
   ]
  },
  {
   "cell_type": "code",
   "execution_count": 83,
   "id": "c60e2391-d797-4161-a774-851c9c946955",
   "metadata": {},
   "outputs": [
    {
     "data": {
      "image/png": "[encoded data removed]",
      "text/plain": [
       "<Figure size 432x288 with 1 Axes>"
      ]
     },
     "metadata": {
      "needs_background": "light"
     },
     "output_type": "display_data"
    }
   ],
   "source": [
    "# the distribution of potada\n",
    "plt.hist(df['potada'], bins=10)\n",
    "plt.show()"
   ]
  },
  {
   "cell_type": "code",
   "execution_count": 84,
   "id": "18e88329-fcef-432c-8291-540aedb4b5da",
   "metadata": {},
   "outputs": [
    {
     "data": {
      "text/plain": [
       "count    1.039970e+05\n",
       "mean     7.417589e+00\n",
       "std      6.049877e+00\n",
       "min      5.397605e-79\n",
       "25%      2.000000e+00\n",
       "50%      7.000000e+00\n",
       "75%      1.400000e+01\n",
       "max      2.300000e+01\n",
       "Name: frnchda, dtype: float64"
      ]
     },
     "execution_count": 84,
     "metadata": {},
     "output_type": "execute_result"
    }
   ],
   "source": [
    "# The independent variable, frnchda, numerical\n",
    "df['frnchda'].describe()"
   ]
  },
  {
   "cell_type": "code",
   "execution_count": 85,
   "id": "18a44c4e-f392-42f1-8f5d-fa575258dbc2",
   "metadata": {},
   "outputs": [
    {
     "data": {
      "image/png": "[encoded data removed]",
      "text/plain": [
       "<Figure size 432x288 with 1 Axes>"
      ]
     },
     "metadata": {
      "needs_background": "light"
     },
     "output_type": "display_data"
    }
   ],
   "source": [
    "# the distribution of frnchda\n",
    "plt.hist(df['frnchda'], bins=10)\n",
    "plt.show()"
   ]
  },
  {
   "cell_type": "code",
   "execution_count": 86,
   "id": "830bf3bd-6e26-46a8-9cad-a4cffb76e51f",
   "metadata": {},
   "outputs": [
    {
     "data": {
      "text/plain": [
       "count    103997.000000\n",
       "mean        128.608441\n",
       "std         157.495887\n",
       "min           0.000000\n",
       "25%          50.000000\n",
       "50%         100.000000\n",
       "75%         200.000000\n",
       "max        9900.000000\n",
       "Name: frutda, dtype: float64"
      ]
     },
     "execution_count": 86,
     "metadata": {},
     "output_type": "execute_result"
    }
   ],
   "source": [
    "# The independent variable, frutda, numerical\n",
    "df['frutda'].describe()"
   ]
  },
  {
   "cell_type": "code",
   "execution_count": 87,
   "id": "8694d3c4-7cd4-4a33-a15b-bce224aec5cb",
   "metadata": {},
   "outputs": [
    {
     "data": {
      "image/png": "[encoded data removed]",
      "text/plain": [
       "<Figure size 432x288 with 1 Axes>"
      ]
     },
     "metadata": {
      "needs_background": "light"
     },
     "output_type": "display_data"
    }
   ],
   "source": [
    "# the distribution of frutda\n",
    "plt.hist(df['frutda'], bins=10)\n",
    "plt.show()"
   ]
  },
  {
   "cell_type": "code",
   "execution_count": 88,
   "id": "641e122c-2ccc-4cdf-8893-fe0130d89a71",
   "metadata": {},
   "outputs": [
    {
     "data": {
      "text/plain": [
       "count    103997.000000\n",
       "mean          0.070944\n",
       "std           0.256733\n",
       "min           0.000000\n",
       "25%           0.000000\n",
       "50%           0.000000\n",
       "75%           0.000000\n",
       "max           1.000000\n",
       "Name: hvdr, dtype: float64"
      ]
     },
     "execution_count": 88,
     "metadata": {},
     "output_type": "execute_result"
    }
   ],
   "source": [
    "# The independent variable, hvdr, categorical\n",
    "df['hvdr'].describe()"
   ]
  },
  {
   "cell_type": "code",
   "execution_count": 89,
   "id": "fdf6e506-034a-4d35-9436-db7868c512a6",
   "metadata": {},
   "outputs": [
    {
     "data": {
      "image/png": "[encoded data removed]",
      "text/plain": [
       "<Figure size 432x288 with 1 Axes>"
      ]
     },
     "metadata": {
      "needs_background": "light"
     },
     "output_type": "display_data"
    }
   ],
   "source": [
    "# the distribution of hvdr\n",
    "plt.hist(df['hvdr'], bins=5)\n",
    "plt.show()"
   ]
  },
  {
   "cell_type": "code",
   "execution_count": 90,
   "id": "039666ab-523e-4c32-b14e-daeb3bec88fe",
   "metadata": {},
   "outputs": [
    {
     "data": {
      "text/plain": [
       "count    103997.000000\n",
       "mean          0.100089\n",
       "std           0.300121\n",
       "min           0.000000\n",
       "25%           0.000000\n",
       "50%           0.000000\n",
       "75%           0.000000\n",
       "max           1.000000\n",
       "Name: smok, dtype: float64"
      ]
     },
     "execution_count": 90,
     "metadata": {},
     "output_type": "execute_result"
    }
   ],
   "source": [
    "# The independent variable, smok, categorical\n",
    "df['smok'].describe()"
   ]
  },
  {
   "cell_type": "code",
   "execution_count": 91,
   "id": "1f6c49df-aad9-4fff-a6e0-9efca1d29910",
   "metadata": {},
   "outputs": [
    {
     "data": {
      "image/png": "[encoded data removed]",
      "text/plain": [
       "<Figure size 432x288 with 1 Axes>"
      ]
     },
     "metadata": {
      "needs_background": "light"
     },
     "output_type": "display_data"
    }
   ],
   "source": [
    "# the distribution of smok\n",
    "plt.hist(df['smok'], bins=5)\n",
    "plt.show()"
   ]
  },
  {
   "cell_type": "code",
   "execution_count": 92,
   "id": "64dece60-3b12-4c00-85ba-2ff94bb97e7b",
   "metadata": {},
   "outputs": [
    {
     "data": {
      "text/plain": [
       "count    103997.000000\n",
       "mean          0.594373\n",
       "std           0.491015\n",
       "min           0.000000\n",
       "25%           0.000000\n",
       "50%           1.000000\n",
       "75%           1.000000\n",
       "max           1.000000\n",
       "Name: incom50, dtype: float64"
      ]
     },
     "execution_count": 92,
     "metadata": {},
     "output_type": "execute_result"
    }
   ],
   "source": [
    "# The independent variable, incom50, categorical\n",
    "df['incom50'].describe()"
   ]
  },
  {
   "cell_type": "code",
   "execution_count": 93,
   "id": "60fe0def-80a8-4f63-8fde-872142c4137f",
   "metadata": {},
   "outputs": [
    {
     "data": {
      "image/png": "[encoded data removed]",
      "text/plain": [
       "<Figure size 432x288 with 1 Axes>"
      ]
     },
     "metadata": {
      "needs_background": "light"
     },
     "output_type": "display_data"
    }
   ],
   "source": [
    "# the distribution of incom50\n",
    "plt.hist(df['incom50'], bins=5)\n",
    "plt.show()"
   ]
  },
  {
   "cell_type": "code",
   "execution_count": 94,
   "id": "ad33eb15-7fc1-4c6a-bdf3-aa3ec21addd7",
   "metadata": {},
   "outputs": [
    {
     "data": {
      "text/plain": [
       "count    103997.000000\n",
       "mean          0.768282\n",
       "std           0.421932\n",
       "min           0.000000\n",
       "25%           1.000000\n",
       "50%           1.000000\n",
       "75%           1.000000\n",
       "max           1.000000\n",
       "Name: cllgatt, dtype: float64"
      ]
     },
     "execution_count": 94,
     "metadata": {},
     "output_type": "execute_result"
    }
   ],
   "source": [
    "# The independent variable, cllgatt, categorical\n",
    "df['cllgatt'].describe()"
   ]
  },
  {
   "cell_type": "code",
   "execution_count": 95,
   "id": "e404ea50-c872-4087-8616-abaa46fa2972",
   "metadata": {},
   "outputs": [
    {
     "data": {
      "image/png": "[encoded data removed]",
      "text/plain": [
       "<Figure size 432x288 with 1 Axes>"
      ]
     },
     "metadata": {
      "needs_background": "light"
     },
     "output_type": "display_data"
    }
   ],
   "source": [
    "# the distribution of cllgatt\n",
    "plt.hist(df['cllgatt'], bins=5)\n",
    "plt.show()"
   ]
  },
  {
   "cell_type": "code",
   "execution_count": 96,
   "id": "6255232b-9786-40c1-b3df-0f9e13c4c33f",
   "metadata": {},
   "outputs": [
    {
     "data": {
      "text/plain": [
       "count    103997.000000\n",
       "mean          0.594450\n",
       "std           0.491001\n",
       "min           0.000000\n",
       "25%           0.000000\n",
       "50%           1.000000\n",
       "75%           1.000000\n",
       "max           1.000000\n",
       "Name: sex, dtype: float64"
      ]
     },
     "execution_count": 96,
     "metadata": {},
     "output_type": "execute_result"
    }
   ],
   "source": [
    "# The independent variable, sex, categorical\n",
    "df['sex'].describe()"
   ]
  },
  {
   "cell_type": "code",
   "execution_count": 97,
   "id": "ea239e9b-d8fc-4171-9de6-c9065a1c1a0e",
   "metadata": {},
   "outputs": [
    {
     "data": {
      "image/png": "[encoded data removed]",
      "text/plain": [
       "<Figure size 432x288 with 1 Axes>"
      ]
     },
     "metadata": {
      "needs_background": "light"
     },
     "output_type": "display_data"
    }
   ],
   "source": [
    "# the distribution of sex\n",
    "plt.hist(df['sex'], bins=5)\n",
    "plt.show()"
   ]
  },
  {
   "cell_type": "code",
   "execution_count": 98,
   "id": "7094e831-f38c-4486-b84c-5133ebdd1b5a",
   "metadata": {},
   "outputs": [
    {
     "data": {
      "text/plain": [
       "count    103997.000000\n",
       "mean          0.327384\n",
       "std           0.469261\n",
       "min           0.000000\n",
       "25%           0.000000\n",
       "50%           0.000000\n",
       "75%           1.000000\n",
       "max           1.000000\n",
       "Name: age65, dtype: float64"
      ]
     },
     "execution_count": 98,
     "metadata": {},
     "output_type": "execute_result"
    }
   ],
   "source": [
    "# The independent variable, age65, categorical\n",
    "df['age65'].describe()"
   ]
  },
  {
   "cell_type": "code",
   "execution_count": 99,
   "id": "1e3f18bd-9bc3-4c75-a2c0-0ea194ae35d4",
   "metadata": {},
   "outputs": [
    {
     "data": {
      "image/png": "[encoded data removed]",
      "text/plain": [
       "<Figure size 432x288 with 1 Axes>"
      ]
     },
     "metadata": {
      "needs_background": "light"
     },
     "output_type": "display_data"
    }
   ],
   "source": [
    "# the distribution of age65\n",
    "plt.hist(df['age65'], bins=5)\n",
    "plt.show()"
   ]
  }
 ],
 "metadata": {
  "environment": {
   "kernel": "python3",
   "name": "common-cpu.m89",
   "type": "gcloud",
   "uri": "gcr.io/deeplearning-platform-release/base-cpu:m89"
  },
  "kernelspec": {
   "display_name": "Python 3",
   "language": "python",
   "name": "python3"
  },
  "language_info": {
   "codemirror_mode": {
    "name": "ipython",
    "version": 3
   },
   "file_extension": ".py",
   "mimetype": "text/x-python",
   "name": "python",
   "nbconvert_exporter": "python",
   "pygments_lexer": "ipython3",
   "version": "3.7.12"
  }
 },
 "nbformat": 4,
 "nbformat_minor": 5
}
