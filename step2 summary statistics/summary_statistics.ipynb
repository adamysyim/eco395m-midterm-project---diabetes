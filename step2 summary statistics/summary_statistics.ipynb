{
 "cells": [
  {
   "cell_type": "markdown",
   "id": "097e8232-454b-4430-9b67-51e8c606f013",
   "metadata": {},
   "source": [
    "## Summary Statistics"
   ]
  },
  {
   "cell_type": "markdown",
   "id": "0879b206-e85e-48f9-afbd-bb16ff39690a",
   "metadata": {},
   "source": [
    "------"
   ]
  },
  {
   "cell_type": "code",
   "execution_count": 1,
   "id": "35107135-0145-438e-9080-c18455238cf5",
   "metadata": {},
   "outputs": [],
   "source": [
    "# Import the libraries\n",
    "import pandas as pd\n",
    "from pathlib import Path\n",
    "import os\n",
    "import matplotlib.pyplot as plt"
   ]
  },
  {
   "cell_type": "code",
   "execution_count": 2,
   "id": "ad9e6070-04a2-420e-9a04-f505b1287c1b",
   "metadata": {},
   "outputs": [],
   "source": [
    "# Import the original data files\n",
    "df = pd.read_csv('../data/2017_diabetes_cleaned.csv')"
   ]
  },
  {
   "cell_type": "markdown",
   "id": "8ba8d65f-17a6-4265-a20d-754b515ef414",
   "metadata": {},
   "source": [
    "--------"
   ]
  },
  {
   "cell_type": "markdown",
   "id": "cc0d3c31-1aa4-4518-b15d-a0913aab379d",
   "metadata": {},
   "source": [
    "#### General Condition"
   ]
  },
  {
   "cell_type": "code",
   "execution_count": 3,
   "id": "82a38f93-ae34-4baf-b1d2-aee64a5fe155",
   "metadata": {},
   "outputs": [
    {
     "data": {
      "text/html": [
       "<div>\n",
       "<style scoped>\n",
       "    .dataframe tbody tr th:only-of-type {\n",
       "        vertical-align: middle;\n",
       "    }\n",
       "\n",
       "    .dataframe tbody tr th {\n",
       "        vertical-align: top;\n",
       "    }\n",
       "\n",
       "    .dataframe thead th {\n",
       "        text-align: right;\n",
       "    }\n",
       "</style>\n",
       "<table border=\"1\" class=\"dataframe\">\n",
       "  <thead>\n",
       "    <tr style=\"text-align: right;\">\n",
       "      <th></th>\n",
       "      <th>diabete</th>\n",
       "      <th>bmi</th>\n",
       "      <th>physhlth</th>\n",
       "      <th>menthlth</th>\n",
       "      <th>michd</th>\n",
       "      <th>hchol</th>\n",
       "      <th>hblpr</th>\n",
       "      <th>vpa</th>\n",
       "      <th>grenda</th>\n",
       "      <th>potada</th>\n",
       "      <th>frnchda</th>\n",
       "      <th>frutda</th>\n",
       "      <th>hvdr</th>\n",
       "      <th>smok</th>\n",
       "      <th>incom50</th>\n",
       "      <th>cllgr</th>\n",
       "      <th>sex</th>\n",
       "      <th>age65</th>\n",
       "    </tr>\n",
       "  </thead>\n",
       "  <tbody>\n",
       "    <tr>\n",
       "      <th>0</th>\n",
       "      <td>1</td>\n",
       "      <td>26.96</td>\n",
       "      <td>0.0</td>\n",
       "      <td>0.0</td>\n",
       "      <td>0</td>\n",
       "      <td>1</td>\n",
       "      <td>1</td>\n",
       "      <td>180.0</td>\n",
       "      <td>43.0</td>\n",
       "      <td>14.0</td>\n",
       "      <td>14.0</td>\n",
       "      <td>200.0</td>\n",
       "      <td>0</td>\n",
       "      <td>0</td>\n",
       "      <td>0</td>\n",
       "      <td>1</td>\n",
       "      <td>1</td>\n",
       "      <td>1</td>\n",
       "    </tr>\n",
       "    <tr>\n",
       "      <th>1</th>\n",
       "      <td>0</td>\n",
       "      <td>29.43</td>\n",
       "      <td>0.0</td>\n",
       "      <td>0.0</td>\n",
       "      <td>0</td>\n",
       "      <td>0</td>\n",
       "      <td>1</td>\n",
       "      <td>0.0</td>\n",
       "      <td>100.0</td>\n",
       "      <td>0.0</td>\n",
       "      <td>0.0</td>\n",
       "      <td>300.0</td>\n",
       "      <td>0</td>\n",
       "      <td>0</td>\n",
       "      <td>1</td>\n",
       "      <td>1</td>\n",
       "      <td>0</td>\n",
       "      <td>1</td>\n",
       "    </tr>\n",
       "    <tr>\n",
       "      <th>2</th>\n",
       "      <td>0</td>\n",
       "      <td>27.34</td>\n",
       "      <td>6.0</td>\n",
       "      <td>0.0</td>\n",
       "      <td>1</td>\n",
       "      <td>0</td>\n",
       "      <td>1</td>\n",
       "      <td>60.0</td>\n",
       "      <td>29.0</td>\n",
       "      <td>43.0</td>\n",
       "      <td>14.0</td>\n",
       "      <td>2.0</td>\n",
       "      <td>0</td>\n",
       "      <td>1</td>\n",
       "      <td>0</td>\n",
       "      <td>0</td>\n",
       "      <td>0</td>\n",
       "      <td>1</td>\n",
       "    </tr>\n",
       "    <tr>\n",
       "      <th>3</th>\n",
       "      <td>0</td>\n",
       "      <td>27.12</td>\n",
       "      <td>2.0</td>\n",
       "      <td>1.0</td>\n",
       "      <td>0</td>\n",
       "      <td>0</td>\n",
       "      <td>1</td>\n",
       "      <td>0.0</td>\n",
       "      <td>100.0</td>\n",
       "      <td>20.0</td>\n",
       "      <td>300.0</td>\n",
       "      <td>700.0</td>\n",
       "      <td>0</td>\n",
       "      <td>0</td>\n",
       "      <td>0</td>\n",
       "      <td>0</td>\n",
       "      <td>0</td>\n",
       "      <td>0</td>\n",
       "    </tr>\n",
       "    <tr>\n",
       "      <th>4</th>\n",
       "      <td>1</td>\n",
       "      <td>23.03</td>\n",
       "      <td>5.0</td>\n",
       "      <td>0.0</td>\n",
       "      <td>0</td>\n",
       "      <td>1</td>\n",
       "      <td>1</td>\n",
       "      <td>125.0</td>\n",
       "      <td>71.0</td>\n",
       "      <td>29.0</td>\n",
       "      <td>0.0</td>\n",
       "      <td>57.0</td>\n",
       "      <td>0</td>\n",
       "      <td>0</td>\n",
       "      <td>0</td>\n",
       "      <td>0</td>\n",
       "      <td>1</td>\n",
       "      <td>1</td>\n",
       "    </tr>\n",
       "    <tr>\n",
       "      <th>...</th>\n",
       "      <td>...</td>\n",
       "      <td>...</td>\n",
       "      <td>...</td>\n",
       "      <td>...</td>\n",
       "      <td>...</td>\n",
       "      <td>...</td>\n",
       "      <td>...</td>\n",
       "      <td>...</td>\n",
       "      <td>...</td>\n",
       "      <td>...</td>\n",
       "      <td>...</td>\n",
       "      <td>...</td>\n",
       "      <td>...</td>\n",
       "      <td>...</td>\n",
       "      <td>...</td>\n",
       "      <td>...</td>\n",
       "      <td>...</td>\n",
       "      <td>...</td>\n",
       "    </tr>\n",
       "    <tr>\n",
       "      <th>207660</th>\n",
       "      <td>1</td>\n",
       "      <td>32.45</td>\n",
       "      <td>0.0</td>\n",
       "      <td>0.0</td>\n",
       "      <td>0</td>\n",
       "      <td>0</td>\n",
       "      <td>0</td>\n",
       "      <td>0.0</td>\n",
       "      <td>43.0</td>\n",
       "      <td>43.0</td>\n",
       "      <td>14.0</td>\n",
       "      <td>14.0</td>\n",
       "      <td>0</td>\n",
       "      <td>0</td>\n",
       "      <td>0</td>\n",
       "      <td>0</td>\n",
       "      <td>0</td>\n",
       "      <td>1</td>\n",
       "    </tr>\n",
       "    <tr>\n",
       "      <th>207661</th>\n",
       "      <td>0</td>\n",
       "      <td>24.80</td>\n",
       "      <td>0.0</td>\n",
       "      <td>0.0</td>\n",
       "      <td>0</td>\n",
       "      <td>0</td>\n",
       "      <td>0</td>\n",
       "      <td>0.0</td>\n",
       "      <td>14.0</td>\n",
       "      <td>29.0</td>\n",
       "      <td>14.0</td>\n",
       "      <td>14.0</td>\n",
       "      <td>0</td>\n",
       "      <td>0</td>\n",
       "      <td>1</td>\n",
       "      <td>0</td>\n",
       "      <td>1</td>\n",
       "      <td>0</td>\n",
       "    </tr>\n",
       "    <tr>\n",
       "      <th>207662</th>\n",
       "      <td>0</td>\n",
       "      <td>25.77</td>\n",
       "      <td>0.0</td>\n",
       "      <td>0.0</td>\n",
       "      <td>0</td>\n",
       "      <td>0</td>\n",
       "      <td>0</td>\n",
       "      <td>90.0</td>\n",
       "      <td>14.0</td>\n",
       "      <td>43.0</td>\n",
       "      <td>43.0</td>\n",
       "      <td>100.0</td>\n",
       "      <td>0</td>\n",
       "      <td>0</td>\n",
       "      <td>1</td>\n",
       "      <td>1</td>\n",
       "      <td>0</td>\n",
       "      <td>0</td>\n",
       "    </tr>\n",
       "    <tr>\n",
       "      <th>207663</th>\n",
       "      <td>0</td>\n",
       "      <td>22.86</td>\n",
       "      <td>0.0</td>\n",
       "      <td>0.0</td>\n",
       "      <td>0</td>\n",
       "      <td>0</td>\n",
       "      <td>0</td>\n",
       "      <td>0.0</td>\n",
       "      <td>57.0</td>\n",
       "      <td>0.0</td>\n",
       "      <td>100.0</td>\n",
       "      <td>3.0</td>\n",
       "      <td>0</td>\n",
       "      <td>0</td>\n",
       "      <td>0</td>\n",
       "      <td>1</td>\n",
       "      <td>1</td>\n",
       "      <td>0</td>\n",
       "    </tr>\n",
       "    <tr>\n",
       "      <th>207664</th>\n",
       "      <td>0</td>\n",
       "      <td>29.16</td>\n",
       "      <td>0.0</td>\n",
       "      <td>0.0</td>\n",
       "      <td>0</td>\n",
       "      <td>0</td>\n",
       "      <td>1</td>\n",
       "      <td>0.0</td>\n",
       "      <td>100.0</td>\n",
       "      <td>29.0</td>\n",
       "      <td>7.0</td>\n",
       "      <td>100.0</td>\n",
       "      <td>0</td>\n",
       "      <td>1</td>\n",
       "      <td>0</td>\n",
       "      <td>0</td>\n",
       "      <td>0</td>\n",
       "      <td>0</td>\n",
       "    </tr>\n",
       "  </tbody>\n",
       "</table>\n",
       "<p>207665 rows × 18 columns</p>\n",
       "</div>"
      ],
      "text/plain": [
       "        diabete    bmi  physhlth  menthlth  michd  hchol  hblpr    vpa  \\\n",
       "0             1  26.96       0.0       0.0      0      1      1  180.0   \n",
       "1             0  29.43       0.0       0.0      0      0      1    0.0   \n",
       "2             0  27.34       6.0       0.0      1      0      1   60.0   \n",
       "3             0  27.12       2.0       1.0      0      0      1    0.0   \n",
       "4             1  23.03       5.0       0.0      0      1      1  125.0   \n",
       "...         ...    ...       ...       ...    ...    ...    ...    ...   \n",
       "207660        1  32.45       0.0       0.0      0      0      0    0.0   \n",
       "207661        0  24.80       0.0       0.0      0      0      0    0.0   \n",
       "207662        0  25.77       0.0       0.0      0      0      0   90.0   \n",
       "207663        0  22.86       0.0       0.0      0      0      0    0.0   \n",
       "207664        0  29.16       0.0       0.0      0      0      1    0.0   \n",
       "\n",
       "        grenda  potada  frnchda  frutda  hvdr  smok  incom50  cllgr  sex  \\\n",
       "0         43.0    14.0     14.0   200.0     0     0        0      1    1   \n",
       "1        100.0     0.0      0.0   300.0     0     0        1      1    0   \n",
       "2         29.0    43.0     14.0     2.0     0     1        0      0    0   \n",
       "3        100.0    20.0    300.0   700.0     0     0        0      0    0   \n",
       "4         71.0    29.0      0.0    57.0     0     0        0      0    1   \n",
       "...        ...     ...      ...     ...   ...   ...      ...    ...  ...   \n",
       "207660    43.0    43.0     14.0    14.0     0     0        0      0    0   \n",
       "207661    14.0    29.0     14.0    14.0     0     0        1      0    1   \n",
       "207662    14.0    43.0     43.0   100.0     0     0        1      1    0   \n",
       "207663    57.0     0.0    100.0     3.0     0     0        0      1    1   \n",
       "207664   100.0    29.0      7.0   100.0     0     1        0      0    0   \n",
       "\n",
       "        age65  \n",
       "0           1  \n",
       "1           1  \n",
       "2           1  \n",
       "3           0  \n",
       "4           1  \n",
       "...       ...  \n",
       "207660      1  \n",
       "207661      0  \n",
       "207662      0  \n",
       "207663      0  \n",
       "207664      0  \n",
       "\n",
       "[207665 rows x 18 columns]"
      ]
     },
     "execution_count": 3,
     "metadata": {},
     "output_type": "execute_result"
    }
   ],
   "source": [
    "df"
   ]
  },
  {
   "cell_type": "markdown",
   "id": "b41d6628-121b-41c3-9b68-4123ecdcc2f7",
   "metadata": {},
   "source": [
    "##### After variable selection and data cleaning, we have got 207665 complete and clean samples in the dataset, with 18 variables."
   ]
  },
  {
   "cell_type": "markdown",
   "id": "b5b6c498-4c5c-4381-897e-88012bede7d2",
   "metadata": {},
   "source": [
    "--------"
   ]
  },
  {
   "cell_type": "markdown",
   "id": "ff201289-0fcd-41f8-a719-9ecdd82fc278",
   "metadata": {},
   "source": [
    "#### Check the Basic Statistics for 18 Selected Variables "
   ]
  },
  {
   "cell_type": "code",
   "execution_count": 4,
   "id": "a9b2c584-b748-42eb-9544-5a660ff69b33",
   "metadata": {},
   "outputs": [
    {
     "data": {
      "text/plain": [
       "count    207665.000000\n",
       "mean          0.140183\n",
       "std           0.347177\n",
       "min           0.000000\n",
       "25%           0.000000\n",
       "50%           0.000000\n",
       "75%           0.000000\n",
       "max           1.000000\n",
       "Name: diabete, dtype: float64"
      ]
     },
     "execution_count": 4,
     "metadata": {},
     "output_type": "execute_result"
    }
   ],
   "source": [
    "# The dependent variable, diabete, categorical\n",
    "df['diabete'].describe()"
   ]
  },
  {
   "cell_type": "code",
   "execution_count": 5,
   "id": "43b723c0-c13d-4195-b780-e766bd02ec8c",
   "metadata": {},
   "outputs": [
    {
     "data": {
      "image/png": "[encoded data removed]",
      "text/plain": [
       "<Figure size 432x288 with 1 Axes>"
      ]
     },
     "metadata": {
      "needs_background": "light"
     },
     "output_type": "display_data"
    }
   ],
   "source": [
    "# the distribution of diabete\n",
    "plt.hist(df['diabete'], bins=5)\n",
    "plt.show()"
   ]
  },
  {
   "cell_type": "code",
   "execution_count": 6,
   "id": "9042abf2-321a-4f54-885f-ca89ea1c6037",
   "metadata": {},
   "outputs": [
    {
     "data": {
      "text/plain": [
       "count    207665.000000\n",
       "mean         27.898100\n",
       "std           5.802999\n",
       "min          12.010000\n",
       "25%          23.960000\n",
       "50%          26.970000\n",
       "75%          30.800000\n",
       "max          96.610000\n",
       "Name: bmi, dtype: float64"
      ]
     },
     "execution_count": 6,
     "metadata": {},
     "output_type": "execute_result"
    }
   ],
   "source": [
    "# The independent variable, bmi, numerical\n",
    "df['bmi'].describe()"
   ]
  },
  {
   "cell_type": "code",
   "execution_count": 7,
   "id": "08ef6edb-e19c-4e71-a98c-374b96eb0bb3",
   "metadata": {},
   "outputs": [
    {
     "data": {
      "image/png": "[encoded data removed]",
      "text/plain": [
       "<Figure size 432x288 with 1 Axes>"
      ]
     },
     "metadata": {
      "needs_background": "light"
     },
     "output_type": "display_data"
    }
   ],
   "source": [
    "# the distribution of bmi\n",
    "plt.hist(df['bmi'], bins=15)\n",
    "plt.show()"
   ]
  },
  {
   "cell_type": "code",
   "execution_count": 8,
   "id": "eb904e60-412c-4a9a-b330-142f176ffe72",
   "metadata": {},
   "outputs": [
    {
     "data": {
      "text/plain": [
       "count    207665.000000\n",
       "mean          3.257545\n",
       "std           7.463314\n",
       "min           0.000000\n",
       "25%           0.000000\n",
       "50%           0.000000\n",
       "75%           2.000000\n",
       "max          30.000000\n",
       "Name: physhlth, dtype: float64"
      ]
     },
     "execution_count": 8,
     "metadata": {},
     "output_type": "execute_result"
    }
   ],
   "source": [
    "# The independent variable, physhlth, numerical\n",
    "df['physhlth'].describe()"
   ]
  },
  {
   "cell_type": "code",
   "execution_count": 9,
   "id": "87e651c3-e4a0-4948-9fb5-48b44c66b514",
   "metadata": {},
   "outputs": [
    {
     "data": {
      "image/png": "[encoded data removed]",
      "text/plain": [
       "<Figure size 432x288 with 1 Axes>"
      ]
     },
     "metadata": {
      "needs_background": "light"
     },
     "output_type": "display_data"
    }
   ],
   "source": [
    "# the distribution of physhlth\n",
    "plt.hist(df['physhlth'], bins=10)\n",
    "plt.show()"
   ]
  },
  {
   "cell_type": "code",
   "execution_count": 10,
   "id": "46c165c8-5263-4161-be25-0246f980c96f",
   "metadata": {},
   "outputs": [
    {
     "data": {
      "text/plain": [
       "count    207665.000000\n",
       "mean          2.928577\n",
       "std           6.924401\n",
       "min           0.000000\n",
       "25%           0.000000\n",
       "50%           0.000000\n",
       "75%           2.000000\n",
       "max          30.000000\n",
       "Name: menthlth, dtype: float64"
      ]
     },
     "execution_count": 10,
     "metadata": {},
     "output_type": "execute_result"
    }
   ],
   "source": [
    "# The independent variable, menthlth, numerical\n",
    "df['menthlth'].describe()"
   ]
  },
  {
   "cell_type": "code",
   "execution_count": 11,
   "id": "92676837-e41d-4ac1-b4d4-677dcb70c4f2",
   "metadata": {},
   "outputs": [
    {
     "data": {
      "image/png": "[encoded data removed]",
      "text/plain": [
       "<Figure size 432x288 with 1 Axes>"
      ]
     },
     "metadata": {
      "needs_background": "light"
     },
     "output_type": "display_data"
    }
   ],
   "source": [
    "# the distribution of menthlth\n",
    "plt.hist(df['menthlth'], bins=10)\n",
    "plt.show()"
   ]
  },
  {
   "cell_type": "code",
   "execution_count": 12,
   "id": "43b5b8d2-eef0-421a-be44-6a0c01a04e8b",
   "metadata": {},
   "outputs": [
    {
     "data": {
      "text/plain": [
       "count    207665.000000\n",
       "mean          0.077288\n",
       "std           0.267048\n",
       "min           0.000000\n",
       "25%           0.000000\n",
       "50%           0.000000\n",
       "75%           0.000000\n",
       "max           1.000000\n",
       "Name: michd, dtype: float64"
      ]
     },
     "execution_count": 12,
     "metadata": {},
     "output_type": "execute_result"
    }
   ],
   "source": [
    "# The independent variable, michd, categorical\n",
    "df['michd'].describe()"
   ]
  },
  {
   "cell_type": "code",
   "execution_count": 13,
   "id": "4d405452-bce4-4a79-8c3a-b2fea66577cc",
   "metadata": {},
   "outputs": [
    {
     "data": {
      "image/png": "[encoded data removed]",
      "text/plain": [
       "<Figure size 432x288 with 1 Axes>"
      ]
     },
     "metadata": {
      "needs_background": "light"
     },
     "output_type": "display_data"
    }
   ],
   "source": [
    "# the distribution of michd\n",
    "plt.hist(df['michd'], bins=5)\n",
    "plt.show()"
   ]
  },
  {
   "cell_type": "code",
   "execution_count": 14,
   "id": "bf789572-0ad6-4e61-adc4-5daa66178d20",
   "metadata": {},
   "outputs": [
    {
     "data": {
      "text/plain": [
       "count    207665.000000\n",
       "mean          0.373563\n",
       "std           0.483751\n",
       "min           0.000000\n",
       "25%           0.000000\n",
       "50%           0.000000\n",
       "75%           1.000000\n",
       "max           1.000000\n",
       "Name: hchol, dtype: float64"
      ]
     },
     "execution_count": 14,
     "metadata": {},
     "output_type": "execute_result"
    }
   ],
   "source": [
    "# The independent variable, hchol, categorical\n",
    "df['hchol'].describe()"
   ]
  },
  {
   "cell_type": "code",
   "execution_count": 15,
   "id": "2e2f5b6d-766d-497f-a38d-8a984dba4f4a",
   "metadata": {},
   "outputs": [
    {
     "data": {
      "image/png": "[encoded data removed]",
      "text/plain": [
       "<Figure size 432x288 with 1 Axes>"
      ]
     },
     "metadata": {
      "needs_background": "light"
     },
     "output_type": "display_data"
    }
   ],
   "source": [
    "# the distribution of hchol\n",
    "plt.hist(df['hchol'], bins=5)\n",
    "plt.show()"
   ]
  },
  {
   "cell_type": "code",
   "execution_count": 16,
   "id": "2bc9b85e-2473-4fd1-870f-465b5a7dfa5d",
   "metadata": {},
   "outputs": [
    {
     "data": {
      "text/plain": [
       "count    207665.000000\n",
       "mean          0.387658\n",
       "std           0.487217\n",
       "min           0.000000\n",
       "25%           0.000000\n",
       "50%           0.000000\n",
       "75%           1.000000\n",
       "max           1.000000\n",
       "Name: hblpr, dtype: float64"
      ]
     },
     "execution_count": 16,
     "metadata": {},
     "output_type": "execute_result"
    }
   ],
   "source": [
    "# The independent variable, hblpr, categorical\n",
    "df['hblpr'].describe()"
   ]
  },
  {
   "cell_type": "code",
   "execution_count": 17,
   "id": "c1da677e-1531-4c62-975f-f7ee48027bfe",
   "metadata": {},
   "outputs": [
    {
     "data": {
      "image/png": "[encoded data removed]",
      "text/plain": [
       "<Figure size 432x288 with 1 Axes>"
      ]
     },
     "metadata": {
      "needs_background": "light"
     },
     "output_type": "display_data"
    }
   ],
   "source": [
    "# the distribution of hblpr\n",
    "plt.hist(df['hblpr'], bins=5)\n",
    "plt.show()"
   ]
  },
  {
   "cell_type": "code",
   "execution_count": 18,
   "id": "afe2faee-6da3-42be-b399-9d5f3b708348",
   "metadata": {},
   "outputs": [
    {
     "data": {
      "text/plain": [
       "count    207665.000000\n",
       "mean        136.251602\n",
       "std         351.629067\n",
       "min           0.000000\n",
       "25%           0.000000\n",
       "50%           0.000000\n",
       "75%         150.000000\n",
       "max       37500.000000\n",
       "Name: vpa, dtype: float64"
      ]
     },
     "execution_count": 18,
     "metadata": {},
     "output_type": "execute_result"
    }
   ],
   "source": [
    "# The independent variable, vpa, numerical\n",
    "df['vpa'].describe()"
   ]
  },
  {
   "cell_type": "code",
   "execution_count": 19,
   "id": "144defb0-2cdf-420b-a48b-c89ff811148d",
   "metadata": {},
   "outputs": [
    {
     "data": {
      "image/png": "[encoded data removed]",
      "text/plain": [
       "<Figure size 432x288 with 1 Axes>"
      ]
     },
     "metadata": {
      "needs_background": "light"
     },
     "output_type": "display_data"
    }
   ],
   "source": [
    "# the distribution of vpa\n",
    "plt.hist(df[df[\"vpa\"] <= .15e7][\"vpa\"], bins =200)\n",
    "plt.show()"
   ]
  },
  {
   "cell_type": "code",
   "execution_count": 45,
   "id": "6212ee38-8be8-46d8-b209-36b3b57a86c6",
   "metadata": {},
   "outputs": [
    {
     "data": {
      "image/png": "[encoded data removed]",
      "text/plain": [
       "<Figure size 432x288 with 1 Axes>"
      ]
     },
     "metadata": {
      "needs_background": "light"
     },
     "output_type": "display_data"
    }
   ],
   "source": [
    "# Since the simple histogtam could not show the distribution of vpa clearly,\n",
    "# we perform the histogram for data up to 95th quantile of vpa reported \n",
    "vpa_quant_95 = df['vpa'].quantile(.95)\n",
    "plt.hist(df[df['vpa'] <= vpa_quant_95]['vpa'], bins=20)\n",
    "plt.show()"
   ]
  },
  {
   "cell_type": "code",
   "execution_count": 21,
   "id": "20c315a4-121a-4bd4-8682-cc17691d94ad",
   "metadata": {},
   "outputs": [
    {
     "data": {
      "text/plain": [
       "count    207665.000000\n",
       "mean         67.464787\n",
       "std         128.714891\n",
       "min           0.000000\n",
       "25%          29.000000\n",
       "50%          50.000000\n",
       "75%         100.000000\n",
       "max        9900.000000\n",
       "Name: grenda, dtype: float64"
      ]
     },
     "execution_count": 21,
     "metadata": {},
     "output_type": "execute_result"
    }
   ],
   "source": [
    "# The independent variable, grenda, numerical\n",
    "df['grenda'].describe()"
   ]
  },
  {
   "cell_type": "code",
   "execution_count": 22,
   "id": "a4825a60-2483-4e46-8aaf-792c45bfdea0",
   "metadata": {},
   "outputs": [
    {
     "data": {
      "image/png": "[encoded data removed]",
      "text/plain": [
       "<Figure size 432x288 with 1 Axes>"
      ]
     },
     "metadata": {
      "needs_background": "light"
     },
     "output_type": "display_data"
    }
   ],
   "source": [
    "# the distribution of grenda\n",
    "plt.hist(df['grenda'], bins=50)\n",
    "plt.show()"
   ]
  },
  {
   "cell_type": "code",
   "execution_count": 46,
   "id": "eba3efa6-2733-49b4-b593-ee83093f5109",
   "metadata": {},
   "outputs": [
    {
     "data": {
      "image/png": "[encoded data removed]",
      "text/plain": [
       "<Figure size 432x288 with 1 Axes>"
      ]
     },
     "metadata": {
      "needs_background": "light"
     },
     "output_type": "display_data"
    }
   ],
   "source": [
    "# Since the simple histogtam could not show the distribution of grenda clearly,\n",
    "# we perform the histogram for data up to 95th quantile of grenda reported \n",
    "gren_quant_95 = df['grenda'].quantile(.95)\n",
    "plt.hist(df[df['grenda'] <= gren_quant_95]['grenda'], bins=20)\n",
    "plt.show()"
   ]
  },
  {
   "cell_type": "code",
   "execution_count": 24,
   "id": "4ea5311b-60cf-4795-ae86-c8e99c49b863",
   "metadata": {},
   "outputs": [
    {
     "data": {
      "text/plain": [
       "count    207665.000000\n",
       "mean         24.911232\n",
       "std          63.109915\n",
       "min           0.000000\n",
       "25%           7.000000\n",
       "50%          14.000000\n",
       "75%          29.000000\n",
       "max        9900.000000\n",
       "Name: potada, dtype: float64"
      ]
     },
     "execution_count": 24,
     "metadata": {},
     "output_type": "execute_result"
    }
   ],
   "source": [
    "# The independent variable, potada, numerical\n",
    "df['potada'].describe()"
   ]
  },
  {
   "cell_type": "code",
   "execution_count": 25,
   "id": "c60e2391-d797-4161-a774-851c9c946955",
   "metadata": {},
   "outputs": [
    {
     "data": {
      "image/png": "[encoded data removed]",
      "text/plain": [
       "<Figure size 432x288 with 1 Axes>"
      ]
     },
     "metadata": {
      "needs_background": "light"
     },
     "output_type": "display_data"
    }
   ],
   "source": [
    "# the distribution of potada\n",
    "plt.hist(df['potada'], bins=50)\n",
    "plt.show()"
   ]
  },
  {
   "cell_type": "code",
   "execution_count": 48,
   "id": "62b5f191-01c0-4521-9538-53f4281198a3",
   "metadata": {},
   "outputs": [
    {
     "data": {
      "image/png": "[encoded data removed]",
      "text/plain": [
       "<Figure size 432x288 with 1 Axes>"
      ]
     },
     "metadata": {
      "needs_background": "light"
     },
     "output_type": "display_data"
    }
   ],
   "source": [
    "# Since the simple histogtam could not show the distribution of potada clearly,\n",
    "# we perform the histogram for data up to 95th quantile of potada reported \n",
    "pota_quant_95 = df['potada'].quantile(.95)\n",
    "plt.hist(df[df['potada'] <= pota_quant_95]['potada'], bins=10)\n",
    "plt.show()"
   ]
  },
  {
   "cell_type": "code",
   "execution_count": 27,
   "id": "18e88329-fcef-432c-8291-540aedb4b5da",
   "metadata": {},
   "outputs": [
    {
     "data": {
      "text/plain": [
       "count    207665.000000\n",
       "mean         19.290521\n",
       "std          47.566014\n",
       "min           0.000000\n",
       "25%           3.000000\n",
       "50%          14.000000\n",
       "75%          29.000000\n",
       "max        9900.000000\n",
       "Name: frnchda, dtype: float64"
      ]
     },
     "execution_count": 27,
     "metadata": {},
     "output_type": "execute_result"
    }
   ],
   "source": [
    "# The independent variable, frnchda, numerical\n",
    "df['frnchda'].describe()"
   ]
  },
  {
   "cell_type": "code",
   "execution_count": 28,
   "id": "18a44c4e-f392-42f1-8f5d-fa575258dbc2",
   "metadata": {},
   "outputs": [
    {
     "data": {
      "image/png": "[encoded data removed]",
      "text/plain": [
       "<Figure size 432x288 with 1 Axes>"
      ]
     },
     "metadata": {
      "needs_background": "light"
     },
     "output_type": "display_data"
    }
   ],
   "source": [
    "# the distribution of frnchda\n",
    "plt.hist(df['frnchda'], bins=50)\n",
    "plt.show()"
   ]
  },
  {
   "cell_type": "code",
   "execution_count": 29,
   "id": "82c7db15-99f4-4c22-8ae7-213b8e886271",
   "metadata": {},
   "outputs": [
    {
     "data": {
      "image/png": "[encoded data removed]",
      "text/plain": [
       "<Figure size 432x288 with 1 Axes>"
      ]
     },
     "metadata": {
      "needs_background": "light"
     },
     "output_type": "display_data"
    }
   ],
   "source": [
    "# Since the simple histogtam could not show the distribution of frnchda clearly,\n",
    "# we perform the histogram for data up to 95th quantile of frnchda reported \n",
    "frnch_quant_95 = df['frnchda'].quantile(.95)\n",
    "plt.hist(df[df['frnchda'] <= frnch_quant_95]['frnchda'])\n",
    "plt.show()"
   ]
  },
  {
   "cell_type": "code",
   "execution_count": 30,
   "id": "830bf3bd-6e26-46a8-9cad-a4cffb76e51f",
   "metadata": {},
   "outputs": [
    {
     "data": {
      "text/plain": [
       "count    207665.000000\n",
       "mean        126.266082\n",
       "std         158.549479\n",
       "min           0.000000\n",
       "25%          50.000000\n",
       "50%         100.000000\n",
       "75%         200.000000\n",
       "max        9900.000000\n",
       "Name: frutda, dtype: float64"
      ]
     },
     "execution_count": 30,
     "metadata": {},
     "output_type": "execute_result"
    }
   ],
   "source": [
    "# The independent variable, frutda, numerical\n",
    "df['frutda'].describe()"
   ]
  },
  {
   "cell_type": "code",
   "execution_count": 31,
   "id": "8694d3c4-7cd4-4a33-a15b-bce224aec5cb",
   "metadata": {},
   "outputs": [
    {
     "data": {
      "image/png": "[encoded data removed]",
      "text/plain": [
       "<Figure size 432x288 with 1 Axes>"
      ]
     },
     "metadata": {
      "needs_background": "light"
     },
     "output_type": "display_data"
    }
   ],
   "source": [
    "# the distribution of frutda\n",
    "plt.hist(df['frutda'], bins=100)\n",
    "plt.show()"
   ]
  },
  {
   "cell_type": "code",
   "execution_count": 49,
   "id": "6bbd60a2-c78c-4e1d-9ed9-11e6bbf0682c",
   "metadata": {},
   "outputs": [
    {
     "data": {
      "image/png": "[encoded data removed]",
      "text/plain": [
       "<Figure size 432x288 with 1 Axes>"
      ]
     },
     "metadata": {
      "needs_background": "light"
     },
     "output_type": "display_data"
    }
   ],
   "source": [
    "# Since the simple histogtam could not show the distribution of frutda clearly,\n",
    "# we perform the histogram for data up to 95th quantile of frutda reported \n",
    "frut_quant_95 = df['frutda'].quantile(.95)\n",
    "plt.hist(df[df['frutda'] <= frut_quant_95]['frutda'], bins=20)\n",
    "plt.show()"
   ]
  },
  {
   "cell_type": "code",
   "execution_count": 33,
   "id": "641e122c-2ccc-4cdf-8893-fe0130d89a71",
   "metadata": {},
   "outputs": [
    {
     "data": {
      "text/plain": [
       "count    207665.000000\n",
       "mean          0.063049\n",
       "std           0.243051\n",
       "min           0.000000\n",
       "25%           0.000000\n",
       "50%           0.000000\n",
       "75%           0.000000\n",
       "max           1.000000\n",
       "Name: hvdr, dtype: float64"
      ]
     },
     "execution_count": 33,
     "metadata": {},
     "output_type": "execute_result"
    }
   ],
   "source": [
    "# The independent variable, hvdr, categorical\n",
    "df['hvdr'].describe()"
   ]
  },
  {
   "cell_type": "code",
   "execution_count": 34,
   "id": "fdf6e506-034a-4d35-9436-db7868c512a6",
   "metadata": {},
   "outputs": [
    {
     "data": {
      "image/png": "[encoded data removed]",
      "text/plain": [
       "<Figure size 432x288 with 1 Axes>"
      ]
     },
     "metadata": {
      "needs_background": "light"
     },
     "output_type": "display_data"
    }
   ],
   "source": [
    "# the distribution of hvdr\n",
    "plt.hist(df['hvdr'], bins=5)\n",
    "plt.show()"
   ]
  },
  {
   "cell_type": "code",
   "execution_count": 35,
   "id": "039666ab-523e-4c32-b14e-daeb3bec88fe",
   "metadata": {},
   "outputs": [
    {
     "data": {
      "text/plain": [
       "count    207665.000000\n",
       "mean          0.117993\n",
       "std           0.322601\n",
       "min           0.000000\n",
       "25%           0.000000\n",
       "50%           0.000000\n",
       "75%           0.000000\n",
       "max           1.000000\n",
       "Name: smok, dtype: float64"
      ]
     },
     "execution_count": 35,
     "metadata": {},
     "output_type": "execute_result"
    }
   ],
   "source": [
    "# The independent variable, smok, categorical\n",
    "df['smok'].describe()"
   ]
  },
  {
   "cell_type": "code",
   "execution_count": 36,
   "id": "1f6c49df-aad9-4fff-a6e0-9efca1d29910",
   "metadata": {},
   "outputs": [
    {
     "data": {
      "image/png": "[encoded data removed]",
      "text/plain": [
       "<Figure size 432x288 with 1 Axes>"
      ]
     },
     "metadata": {
      "needs_background": "light"
     },
     "output_type": "display_data"
    }
   ],
   "source": [
    "# the distribution of smok\n",
    "plt.hist(df['smok'], bins=5)\n",
    "plt.show()"
   ]
  },
  {
   "cell_type": "code",
   "execution_count": 37,
   "id": "64dece60-3b12-4c00-85ba-2ff94bb97e7b",
   "metadata": {},
   "outputs": [
    {
     "data": {
      "text/plain": [
       "count    207665.000000\n",
       "mean          0.574382\n",
       "std           0.494438\n",
       "min           0.000000\n",
       "25%           0.000000\n",
       "50%           1.000000\n",
       "75%           1.000000\n",
       "max           1.000000\n",
       "Name: incom50, dtype: float64"
      ]
     },
     "execution_count": 37,
     "metadata": {},
     "output_type": "execute_result"
    }
   ],
   "source": [
    "# The independent variable, incom50, categorical\n",
    "df['incom50'].describe()"
   ]
  },
  {
   "cell_type": "code",
   "execution_count": 38,
   "id": "60fe0def-80a8-4f63-8fde-872142c4137f",
   "metadata": {},
   "outputs": [
    {
     "data": {
      "image/png": "[encoded data removed]",
      "text/plain": [
       "<Figure size 432x288 with 1 Axes>"
      ]
     },
     "metadata": {
      "needs_background": "light"
     },
     "output_type": "display_data"
    }
   ],
   "source": [
    "# the distribution of incom50\n",
    "plt.hist(df['incom50'], bins=5)\n",
    "plt.show()"
   ]
  },
  {
   "cell_type": "code",
   "execution_count": 39,
   "id": "ad33eb15-7fc1-4c6a-bdf3-aa3ec21addd7",
   "metadata": {},
   "outputs": [
    {
     "data": {
      "text/plain": [
       "count    207665.000000\n",
       "mean          0.472660\n",
       "std           0.499253\n",
       "min           0.000000\n",
       "25%           0.000000\n",
       "50%           0.000000\n",
       "75%           1.000000\n",
       "max           1.000000\n",
       "Name: cllgr, dtype: float64"
      ]
     },
     "execution_count": 39,
     "metadata": {},
     "output_type": "execute_result"
    }
   ],
   "source": [
    "# The independent variable, cllgr, categorical\n",
    "df['cllgr'].describe()"
   ]
  },
  {
   "cell_type": "code",
   "execution_count": 40,
   "id": "e404ea50-c872-4087-8616-abaa46fa2972",
   "metadata": {},
   "outputs": [
    {
     "data": {
      "image/png": "[encoded data removed]",
      "text/plain": [
       "<Figure size 432x288 with 1 Axes>"
      ]
     },
     "metadata": {
      "needs_background": "light"
     },
     "output_type": "display_data"
    }
   ],
   "source": [
    "# the distribution of cllgr\n",
    "plt.hist(df['cllgr'], bins=5)\n",
    "plt.show()"
   ]
  },
  {
   "cell_type": "code",
   "execution_count": 41,
   "id": "6255232b-9786-40c1-b3df-0f9e13c4c33f",
   "metadata": {},
   "outputs": [
    {
     "data": {
      "text/plain": [
       "count    207665.000000\n",
       "mean          0.530426\n",
       "std           0.499075\n",
       "min           0.000000\n",
       "25%           0.000000\n",
       "50%           1.000000\n",
       "75%           1.000000\n",
       "max           1.000000\n",
       "Name: sex, dtype: float64"
      ]
     },
     "execution_count": 41,
     "metadata": {},
     "output_type": "execute_result"
    }
   ],
   "source": [
    "# The independent variable, sex, categorical\n",
    "df['sex'].describe()"
   ]
  },
  {
   "cell_type": "code",
   "execution_count": 42,
   "id": "ea239e9b-d8fc-4171-9de6-c9065a1c1a0e",
   "metadata": {},
   "outputs": [
    {
     "data": {
      "image/png": "[encoded data removed]",
      "text/plain": [
       "<Figure size 432x288 with 1 Axes>"
      ]
     },
     "metadata": {
      "needs_background": "light"
     },
     "output_type": "display_data"
    }
   ],
   "source": [
    "# the distribution of sex\n",
    "plt.hist(df['sex'], bins=5)\n",
    "plt.show()"
   ]
  },
  {
   "cell_type": "code",
   "execution_count": 43,
   "id": "7094e831-f38c-4486-b84c-5133ebdd1b5a",
   "metadata": {},
   "outputs": [
    {
     "data": {
      "text/plain": [
       "count    207665.000000\n",
       "mean          0.338526\n",
       "std           0.473209\n",
       "min           0.000000\n",
       "25%           0.000000\n",
       "50%           0.000000\n",
       "75%           1.000000\n",
       "max           1.000000\n",
       "Name: age65, dtype: float64"
      ]
     },
     "execution_count": 43,
     "metadata": {},
     "output_type": "execute_result"
    }
   ],
   "source": [
    "# The independent variable, age65, categorical\n",
    "df['age65'].describe()"
   ]
  },
  {
   "cell_type": "code",
   "execution_count": 44,
   "id": "1e3f18bd-9bc3-4c75-a2c0-0ea194ae35d4",
   "metadata": {},
   "outputs": [
    {
     "data": {
      "image/png": "[encoded data removed]",
      "text/plain": [
       "<Figure size 432x288 with 1 Axes>"
      ]
     },
     "metadata": {
      "needs_background": "light"
     },
     "output_type": "display_data"
    }
   ],
   "source": [
    "# the distribution of age65\n",
    "plt.hist(df['age65'], bins=5)\n",
    "plt.show()"
   ]
  },
  {
   "cell_type": "markdown",
   "id": "35b05e6a-36c7-489e-bfb9-d2b13b725e7e",
   "metadata": {},
   "source": [
    "------------------"
   ]
  },
  {
   "cell_type": "markdown",
   "id": "abfcb206-9476-4ec7-8b2a-1c8c7b4b8a81",
   "metadata": {},
   "source": [
    "#### Remove Outliers and Invalid Values"
   ]
  },
  {
   "cell_type": "code",
   "execution_count": 51,
   "id": "83007c08-ef50-4125-a1c9-dbf9caa010c2",
   "metadata": {},
   "outputs": [
    {
     "data": {
      "text/plain": [
       "count    207477.000000\n",
       "mean        131.461757\n",
       "std         282.499286\n",
       "min           0.000000\n",
       "25%           0.000000\n",
       "50%           0.000000\n",
       "75%         150.000000\n",
       "max        3360.000000\n",
       "Name: vpa, dtype: float64"
      ]
     },
     "execution_count": 51,
     "metadata": {},
     "output_type": "execute_result"
    }
   ],
   "source": [
    "# Independent variable vpa represnts Minutes of total Vigorous Physical Activity per week\n",
    "# The unit is minutes/week\n",
    "# A value which is > 8hr * 7days * 60 minutes = 3360 minutes/week seems unreasonable or invalid\n",
    "df=df[df['vpa'] <= 3360]\n",
    "df['vpa'].describe()"
   ]
  },
  {
   "cell_type": "code",
   "execution_count": 56,
   "id": "671fe700-5431-4a22-be07-cee7d90bb3c9",
   "metadata": {},
   "outputs": [
    {
     "data": {
      "text/plain": [
       "count    9480.000000\n",
       "mean        8.404747\n",
       "std         6.217223\n",
       "min         0.000000\n",
       "25%         2.000000\n",
       "50%        10.000000\n",
       "75%        14.000000\n",
       "max        20.000000\n",
       "Name: grenda, dtype: float64"
      ]
     },
     "execution_count": 56,
     "metadata": {},
     "output_type": "execute_result"
    }
   ],
   "source": [
    "# Independent variable grenda represnts times of comsuming dark green vegetables per day\n",
    "# The unit is times/day\n",
    "# A value which is > 20 seems unreasonable or invalid\n",
    "df=df[df['grenda'] <= 20]\n",
    "df['grenda'].describe()"
   ]
  },
  {
   "cell_type": "code",
   "execution_count": 57,
   "id": "b43e94c2-a74b-4374-a25a-6a36a942d8b6",
   "metadata": {},
   "outputs": [
    {
     "data": {
      "text/plain": [
       "count    8227.000000\n",
       "mean        7.938131\n",
       "std         6.006313\n",
       "min         0.000000\n",
       "25%         3.000000\n",
       "50%         7.000000\n",
       "75%        14.000000\n",
       "max        20.000000\n",
       "Name: potada, dtype: float64"
      ]
     },
     "execution_count": 57,
     "metadata": {},
     "output_type": "execute_result"
    }
   ],
   "source": [
    "# Independent variable potada represnts servings of comsuming potatoes per day\n",
    "# The unit is servings/day\n",
    "# A value which is > 20 seems unreasonable or invalid\n",
    "df=df[df['potada'] <= 20]\n",
    "df['potada'].describe()"
   ]
  },
  {
   "cell_type": "code",
   "execution_count": 58,
   "id": "ec58f131-7298-4703-9cae-a94df2bf6b75",
   "metadata": {},
   "outputs": [
    {
     "data": {
      "text/plain": [
       "count    7296.000000\n",
       "mean        7.953947\n",
       "std         5.993537\n",
       "min         0.000000\n",
       "25%         3.000000\n",
       "50%         7.000000\n",
       "75%        14.000000\n",
       "max        20.000000\n",
       "Name: frnchda, dtype: float64"
      ]
     },
     "execution_count": 58,
     "metadata": {},
     "output_type": "execute_result"
    }
   ],
   "source": [
    "# Independent variable frnchda represnts times of comsuming French Fry per day\n",
    "# The unit is times/day\n",
    "# A value which is > 20 seems unreasonable or invalid\n",
    "df=df[df['frnchda'] <= 20]\n",
    "df['frnchda'].describe()"
   ]
  },
  {
   "cell_type": "code",
   "execution_count": 59,
   "id": "62c4a143-5855-4dd7-b8e0-b4af5237ed11",
   "metadata": {},
   "outputs": [
    {
     "data": {
      "text/plain": [
       "count    5306.000000\n",
       "mean        8.945722\n",
       "std         6.129922\n",
       "min         0.000000\n",
       "25%         3.000000\n",
       "50%        10.000000\n",
       "75%        14.000000\n",
       "max        20.000000\n",
       "Name: frutda, dtype: float64"
      ]
     },
     "execution_count": 59,
     "metadata": {},
     "output_type": "execute_result"
    }
   ],
   "source": [
    "# Independent variable frutda represnts times of comsuming fruits per day\n",
    "# The unit is times/day\n",
    "# A value which is > 20 seems unreasonable or invalid\n",
    "df=df[df['frutda'] <= 20]\n",
    "df['frutda'].describe()"
   ]
  },
  {
   "cell_type": "code",
   "execution_count": 60,
   "id": "9614a841-37fc-4221-922a-c8c30be501ff",
   "metadata": {},
   "outputs": [
    {
     "data": {
      "text/html": [
       "<div>\n",
       "<style scoped>\n",
       "    .dataframe tbody tr th:only-of-type {\n",
       "        vertical-align: middle;\n",
       "    }\n",
       "\n",
       "    .dataframe tbody tr th {\n",
       "        vertical-align: top;\n",
       "    }\n",
       "\n",
       "    .dataframe thead th {\n",
       "        text-align: right;\n",
       "    }\n",
       "</style>\n",
       "<table border=\"1\" class=\"dataframe\">\n",
       "  <thead>\n",
       "    <tr style=\"text-align: right;\">\n",
       "      <th></th>\n",
       "      <th>diabete</th>\n",
       "      <th>bmi</th>\n",
       "      <th>physhlth</th>\n",
       "      <th>menthlth</th>\n",
       "      <th>michd</th>\n",
       "      <th>hchol</th>\n",
       "      <th>hblpr</th>\n",
       "      <th>vpa</th>\n",
       "      <th>grenda</th>\n",
       "      <th>potada</th>\n",
       "      <th>frnchda</th>\n",
       "      <th>frutda</th>\n",
       "      <th>hvdr</th>\n",
       "      <th>smok</th>\n",
       "      <th>incom50</th>\n",
       "      <th>cllgr</th>\n",
       "      <th>sex</th>\n",
       "      <th>age65</th>\n",
       "    </tr>\n",
       "  </thead>\n",
       "  <tbody>\n",
       "    <tr>\n",
       "      <th>33</th>\n",
       "      <td>1</td>\n",
       "      <td>39.94</td>\n",
       "      <td>0.0</td>\n",
       "      <td>0.0</td>\n",
       "      <td>0</td>\n",
       "      <td>0</td>\n",
       "      <td>1</td>\n",
       "      <td>105.0</td>\n",
       "      <td>10.0</td>\n",
       "      <td>3.0</td>\n",
       "      <td>7.0</td>\n",
       "      <td>10.0</td>\n",
       "      <td>0</td>\n",
       "      <td>0</td>\n",
       "      <td>0</td>\n",
       "      <td>0</td>\n",
       "      <td>1</td>\n",
       "      <td>0</td>\n",
       "    </tr>\n",
       "    <tr>\n",
       "      <th>94</th>\n",
       "      <td>1</td>\n",
       "      <td>31.24</td>\n",
       "      <td>2.0</td>\n",
       "      <td>1.0</td>\n",
       "      <td>0</td>\n",
       "      <td>1</td>\n",
       "      <td>1</td>\n",
       "      <td>0.0</td>\n",
       "      <td>14.0</td>\n",
       "      <td>0.0</td>\n",
       "      <td>2.0</td>\n",
       "      <td>2.0</td>\n",
       "      <td>0</td>\n",
       "      <td>0</td>\n",
       "      <td>0</td>\n",
       "      <td>0</td>\n",
       "      <td>1</td>\n",
       "      <td>0</td>\n",
       "    </tr>\n",
       "    <tr>\n",
       "      <th>143</th>\n",
       "      <td>0</td>\n",
       "      <td>24.33</td>\n",
       "      <td>0.0</td>\n",
       "      <td>0.0</td>\n",
       "      <td>0</td>\n",
       "      <td>0</td>\n",
       "      <td>1</td>\n",
       "      <td>112.0</td>\n",
       "      <td>17.0</td>\n",
       "      <td>0.0</td>\n",
       "      <td>3.0</td>\n",
       "      <td>0.0</td>\n",
       "      <td>0</td>\n",
       "      <td>0</td>\n",
       "      <td>1</td>\n",
       "      <td>0</td>\n",
       "      <td>0</td>\n",
       "      <td>1</td>\n",
       "    </tr>\n",
       "    <tr>\n",
       "      <th>156</th>\n",
       "      <td>0</td>\n",
       "      <td>21.38</td>\n",
       "      <td>0.0</td>\n",
       "      <td>0.0</td>\n",
       "      <td>0</td>\n",
       "      <td>0</td>\n",
       "      <td>0</td>\n",
       "      <td>0.0</td>\n",
       "      <td>0.0</td>\n",
       "      <td>3.0</td>\n",
       "      <td>0.0</td>\n",
       "      <td>0.0</td>\n",
       "      <td>0</td>\n",
       "      <td>0</td>\n",
       "      <td>0</td>\n",
       "      <td>0</td>\n",
       "      <td>0</td>\n",
       "      <td>1</td>\n",
       "    </tr>\n",
       "    <tr>\n",
       "      <th>158</th>\n",
       "      <td>0</td>\n",
       "      <td>28.97</td>\n",
       "      <td>0.0</td>\n",
       "      <td>0.0</td>\n",
       "      <td>0</td>\n",
       "      <td>1</td>\n",
       "      <td>1</td>\n",
       "      <td>15.0</td>\n",
       "      <td>10.0</td>\n",
       "      <td>13.0</td>\n",
       "      <td>3.0</td>\n",
       "      <td>17.0</td>\n",
       "      <td>0</td>\n",
       "      <td>0</td>\n",
       "      <td>0</td>\n",
       "      <td>0</td>\n",
       "      <td>1</td>\n",
       "      <td>1</td>\n",
       "    </tr>\n",
       "    <tr>\n",
       "      <th>...</th>\n",
       "      <td>...</td>\n",
       "      <td>...</td>\n",
       "      <td>...</td>\n",
       "      <td>...</td>\n",
       "      <td>...</td>\n",
       "      <td>...</td>\n",
       "      <td>...</td>\n",
       "      <td>...</td>\n",
       "      <td>...</td>\n",
       "      <td>...</td>\n",
       "      <td>...</td>\n",
       "      <td>...</td>\n",
       "      <td>...</td>\n",
       "      <td>...</td>\n",
       "      <td>...</td>\n",
       "      <td>...</td>\n",
       "      <td>...</td>\n",
       "      <td>...</td>\n",
       "    </tr>\n",
       "    <tr>\n",
       "      <th>207604</th>\n",
       "      <td>1</td>\n",
       "      <td>28.34</td>\n",
       "      <td>30.0</td>\n",
       "      <td>30.0</td>\n",
       "      <td>1</td>\n",
       "      <td>1</td>\n",
       "      <td>1</td>\n",
       "      <td>0.0</td>\n",
       "      <td>0.0</td>\n",
       "      <td>0.0</td>\n",
       "      <td>3.0</td>\n",
       "      <td>0.0</td>\n",
       "      <td>0</td>\n",
       "      <td>0</td>\n",
       "      <td>0</td>\n",
       "      <td>1</td>\n",
       "      <td>1</td>\n",
       "      <td>0</td>\n",
       "    </tr>\n",
       "    <tr>\n",
       "      <th>207617</th>\n",
       "      <td>0</td>\n",
       "      <td>28.70</td>\n",
       "      <td>0.0</td>\n",
       "      <td>0.0</td>\n",
       "      <td>0</td>\n",
       "      <td>0</td>\n",
       "      <td>0</td>\n",
       "      <td>0.0</td>\n",
       "      <td>0.0</td>\n",
       "      <td>20.0</td>\n",
       "      <td>7.0</td>\n",
       "      <td>7.0</td>\n",
       "      <td>0</td>\n",
       "      <td>0</td>\n",
       "      <td>1</td>\n",
       "      <td>0</td>\n",
       "      <td>0</td>\n",
       "      <td>0</td>\n",
       "    </tr>\n",
       "    <tr>\n",
       "      <th>207621</th>\n",
       "      <td>0</td>\n",
       "      <td>26.63</td>\n",
       "      <td>0.0</td>\n",
       "      <td>0.0</td>\n",
       "      <td>0</td>\n",
       "      <td>0</td>\n",
       "      <td>0</td>\n",
       "      <td>0.0</td>\n",
       "      <td>0.0</td>\n",
       "      <td>3.0</td>\n",
       "      <td>7.0</td>\n",
       "      <td>14.0</td>\n",
       "      <td>0</td>\n",
       "      <td>0</td>\n",
       "      <td>1</td>\n",
       "      <td>1</td>\n",
       "      <td>0</td>\n",
       "      <td>0</td>\n",
       "    </tr>\n",
       "    <tr>\n",
       "      <th>207634</th>\n",
       "      <td>0</td>\n",
       "      <td>28.19</td>\n",
       "      <td>4.0</td>\n",
       "      <td>30.0</td>\n",
       "      <td>0</td>\n",
       "      <td>0</td>\n",
       "      <td>0</td>\n",
       "      <td>120.0</td>\n",
       "      <td>13.0</td>\n",
       "      <td>17.0</td>\n",
       "      <td>7.0</td>\n",
       "      <td>13.0</td>\n",
       "      <td>0</td>\n",
       "      <td>0</td>\n",
       "      <td>0</td>\n",
       "      <td>1</td>\n",
       "      <td>1</td>\n",
       "      <td>0</td>\n",
       "    </tr>\n",
       "    <tr>\n",
       "      <th>207654</th>\n",
       "      <td>0</td>\n",
       "      <td>24.21</td>\n",
       "      <td>0.0</td>\n",
       "      <td>0.0</td>\n",
       "      <td>0</td>\n",
       "      <td>1</td>\n",
       "      <td>1</td>\n",
       "      <td>0.0</td>\n",
       "      <td>7.0</td>\n",
       "      <td>7.0</td>\n",
       "      <td>7.0</td>\n",
       "      <td>13.0</td>\n",
       "      <td>0</td>\n",
       "      <td>0</td>\n",
       "      <td>0</td>\n",
       "      <td>0</td>\n",
       "      <td>0</td>\n",
       "      <td>1</td>\n",
       "    </tr>\n",
       "  </tbody>\n",
       "</table>\n",
       "<p>5306 rows × 18 columns</p>\n",
       "</div>"
      ],
      "text/plain": [
       "        diabete    bmi  physhlth  menthlth  michd  hchol  hblpr    vpa  \\\n",
       "33            1  39.94       0.0       0.0      0      0      1  105.0   \n",
       "94            1  31.24       2.0       1.0      0      1      1    0.0   \n",
       "143           0  24.33       0.0       0.0      0      0      1  112.0   \n",
       "156           0  21.38       0.0       0.0      0      0      0    0.0   \n",
       "158           0  28.97       0.0       0.0      0      1      1   15.0   \n",
       "...         ...    ...       ...       ...    ...    ...    ...    ...   \n",
       "207604        1  28.34      30.0      30.0      1      1      1    0.0   \n",
       "207617        0  28.70       0.0       0.0      0      0      0    0.0   \n",
       "207621        0  26.63       0.0       0.0      0      0      0    0.0   \n",
       "207634        0  28.19       4.0      30.0      0      0      0  120.0   \n",
       "207654        0  24.21       0.0       0.0      0      1      1    0.0   \n",
       "\n",
       "        grenda  potada  frnchda  frutda  hvdr  smok  incom50  cllgr  sex  \\\n",
       "33        10.0     3.0      7.0    10.0     0     0        0      0    1   \n",
       "94        14.0     0.0      2.0     2.0     0     0        0      0    1   \n",
       "143       17.0     0.0      3.0     0.0     0     0        1      0    0   \n",
       "156        0.0     3.0      0.0     0.0     0     0        0      0    0   \n",
       "158       10.0    13.0      3.0    17.0     0     0        0      0    1   \n",
       "...        ...     ...      ...     ...   ...   ...      ...    ...  ...   \n",
       "207604     0.0     0.0      3.0     0.0     0     0        0      1    1   \n",
       "207617     0.0    20.0      7.0     7.0     0     0        1      0    0   \n",
       "207621     0.0     3.0      7.0    14.0     0     0        1      1    0   \n",
       "207634    13.0    17.0      7.0    13.0     0     0        0      1    1   \n",
       "207654     7.0     7.0      7.0    13.0     0     0        0      0    0   \n",
       "\n",
       "        age65  \n",
       "33          0  \n",
       "94          0  \n",
       "143         1  \n",
       "156         1  \n",
       "158         1  \n",
       "...       ...  \n",
       "207604      0  \n",
       "207617      0  \n",
       "207621      0  \n",
       "207634      0  \n",
       "207654      1  \n",
       "\n",
       "[5306 rows x 18 columns]"
      ]
     },
     "execution_count": 60,
     "metadata": {},
     "output_type": "execute_result"
    }
   ],
   "source": [
    "df"
   ]
  },
  {
   "cell_type": "markdown",
   "id": "12c1de65-0132-4b90-bbb0-5df6d610f56a",
   "metadata": {},
   "source": [
    "##### After excluding potential invalid values, we have got 5306 complete and clean samples in the dataset, with 18 variables."
   ]
  },
  {
   "cell_type": "code",
   "execution_count": null,
   "id": "b846dd00-3387-42e8-9cdb-248faa8994bf",
   "metadata": {},
   "outputs": [],
   "source": [
    "## save to CSV\n",
    "df_sel.to_csv('../data/2017_diabetes_cleaned.csv', index = False)"
   ]
  }
 ],
 "metadata": {
  "environment": {
   "kernel": "python3",
   "name": "common-cpu.m89",
   "type": "gcloud",
   "uri": "gcr.io/deeplearning-platform-release/base-cpu:m89"
  },
  "kernelspec": {
   "display_name": "Python 3",
   "language": "python",
   "name": "python3"
  },
  "language_info": {
   "codemirror_mode": {
    "name": "ipython",
    "version": 3
   },
   "file_extension": ".py",
   "mimetype": "text/x-python",
   "name": "python",
   "nbconvert_exporter": "python",
   "pygments_lexer": "ipython3",
   "version": "3.7.12"
  }
 },
 "nbformat": 4,
 "nbformat_minor": 5
}
