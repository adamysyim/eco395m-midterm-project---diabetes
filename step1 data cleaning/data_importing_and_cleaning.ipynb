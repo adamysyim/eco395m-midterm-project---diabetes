{
 "cells": [
  {
   "cell_type": "markdown",
   "id": "9a6c6f68-de3f-4daa-be23-b67cf6bebbbf",
   "metadata": {},
   "source": [
    "## Data Importing and Cleaning"
   ]
  },
  {
   "cell_type": "code",
   "execution_count": 1,
   "id": "c6212237-69aa-4a37-b269-14f93dd5f34a",
   "metadata": {},
   "outputs": [],
   "source": [
    "# Import the libraries\n",
    "import pandas as pd"
   ]
  },
  {
   "cell_type": "code",
   "execution_count": 2,
   "id": "376810b9",
   "metadata": {},
   "outputs": [
    {
     "name": "stderr",
     "output_type": "stream",
     "text": [
      "/opt/conda/lib/python3.7/site-packages/pandas/io/sas/sas_xport.py:475: PerformanceWarning: DataFrame is highly fragmented.  This is usually the result of calling `frame.insert` many times, which has poor performance.  Consider joining all columns at once using pd.concat(axis=1) instead.  To get a de-fragmented frame, use `newframe = frame.copy()`\n",
      "  df[x] = v\n"
     ]
    }
   ],
   "source": [
    "# Read in the dataset\n",
    "df = pd.read_sas('../data/LLCP2017.XPT', encoding='utf-8')"
   ]
  },
  {
   "cell_type": "code",
   "execution_count": 3,
   "id": "79df469f",
   "metadata": {},
   "outputs": [
    {
     "data": {
      "text/plain": [
       "(450016, 358)"
      ]
     },
     "execution_count": 3,
     "metadata": {},
     "output_type": "execute_result"
    }
   ],
   "source": [
    "# check number of rows and columns\n",
    "df.shape"
   ]
  },
  {
   "cell_type": "code",
   "execution_count": 4,
   "id": "44dbd072",
   "metadata": {
    "scrolled": true
   },
   "outputs": [
    {
     "data": {
      "text/html": [
       "<div>\n",
       "<style scoped>\n",
       "    .dataframe tbody tr th:only-of-type {\n",
       "        vertical-align: middle;\n",
       "    }\n",
       "\n",
       "    .dataframe tbody tr th {\n",
       "        vertical-align: top;\n",
       "    }\n",
       "\n",
       "    .dataframe thead th {\n",
       "        text-align: right;\n",
       "    }\n",
       "</style>\n",
       "<table border=\"1\" class=\"dataframe\">\n",
       "  <thead>\n",
       "    <tr style=\"text-align: right;\">\n",
       "      <th></th>\n",
       "      <th>_STATE</th>\n",
       "      <th>FMONTH</th>\n",
       "      <th>IDATE</th>\n",
       "      <th>IMONTH</th>\n",
       "      <th>IDAY</th>\n",
       "      <th>IYEAR</th>\n",
       "      <th>DISPCODE</th>\n",
       "      <th>SEQNO</th>\n",
       "      <th>_PSU</th>\n",
       "      <th>CTELENM1</th>\n",
       "      <th>...</th>\n",
       "      <th>_PA300R2</th>\n",
       "      <th>_PA30021</th>\n",
       "      <th>_PASTRNG</th>\n",
       "      <th>_PAREC1</th>\n",
       "      <th>_PASTAE1</th>\n",
       "      <th>_RFSEAT2</th>\n",
       "      <th>_RFSEAT3</th>\n",
       "      <th>_FLSHOT6</th>\n",
       "      <th>_PNEUMO2</th>\n",
       "      <th>_AIDTST3</th>\n",
       "    </tr>\n",
       "  </thead>\n",
       "  <tbody>\n",
       "    <tr>\n",
       "      <th>0</th>\n",
       "      <td>1.0</td>\n",
       "      <td>1.0</td>\n",
       "      <td>01302017</td>\n",
       "      <td>01</td>\n",
       "      <td>30</td>\n",
       "      <td>2017</td>\n",
       "      <td>1100.0</td>\n",
       "      <td>2017000001</td>\n",
       "      <td>2.017000e+09</td>\n",
       "      <td>1.0</td>\n",
       "      <td>...</td>\n",
       "      <td>1.0</td>\n",
       "      <td>1.0</td>\n",
       "      <td>1.0</td>\n",
       "      <td>1.0</td>\n",
       "      <td>1.0</td>\n",
       "      <td>1.0</td>\n",
       "      <td>1.0</td>\n",
       "      <td>1.0</td>\n",
       "      <td>1.0</td>\n",
       "      <td>1.0</td>\n",
       "    </tr>\n",
       "    <tr>\n",
       "      <th>1</th>\n",
       "      <td>1.0</td>\n",
       "      <td>1.0</td>\n",
       "      <td>01122017</td>\n",
       "      <td>01</td>\n",
       "      <td>12</td>\n",
       "      <td>2017</td>\n",
       "      <td>1100.0</td>\n",
       "      <td>2017000002</td>\n",
       "      <td>2.017000e+09</td>\n",
       "      <td>1.0</td>\n",
       "      <td>...</td>\n",
       "      <td>1.0</td>\n",
       "      <td>1.0</td>\n",
       "      <td>1.0</td>\n",
       "      <td>1.0</td>\n",
       "      <td>1.0</td>\n",
       "      <td>1.0</td>\n",
       "      <td>1.0</td>\n",
       "      <td>1.0</td>\n",
       "      <td>1.0</td>\n",
       "      <td>1.0</td>\n",
       "    </tr>\n",
       "    <tr>\n",
       "      <th>2</th>\n",
       "      <td>1.0</td>\n",
       "      <td>1.0</td>\n",
       "      <td>01102017</td>\n",
       "      <td>01</td>\n",
       "      <td>10</td>\n",
       "      <td>2017</td>\n",
       "      <td>1100.0</td>\n",
       "      <td>2017000003</td>\n",
       "      <td>2.017000e+09</td>\n",
       "      <td>1.0</td>\n",
       "      <td>...</td>\n",
       "      <td>3.0</td>\n",
       "      <td>2.0</td>\n",
       "      <td>2.0</td>\n",
       "      <td>4.0</td>\n",
       "      <td>2.0</td>\n",
       "      <td>1.0</td>\n",
       "      <td>1.0</td>\n",
       "      <td>1.0</td>\n",
       "      <td>1.0</td>\n",
       "      <td>2.0</td>\n",
       "    </tr>\n",
       "    <tr>\n",
       "      <th>3</th>\n",
       "      <td>1.0</td>\n",
       "      <td>1.0</td>\n",
       "      <td>02082017</td>\n",
       "      <td>02</td>\n",
       "      <td>08</td>\n",
       "      <td>2017</td>\n",
       "      <td>1200.0</td>\n",
       "      <td>2017000004</td>\n",
       "      <td>2.017000e+09</td>\n",
       "      <td>1.0</td>\n",
       "      <td>...</td>\n",
       "      <td>9.0</td>\n",
       "      <td>9.0</td>\n",
       "      <td>9.0</td>\n",
       "      <td>9.0</td>\n",
       "      <td>9.0</td>\n",
       "      <td>9.0</td>\n",
       "      <td>9.0</td>\n",
       "      <td>9.0</td>\n",
       "      <td>9.0</td>\n",
       "      <td>NaN</td>\n",
       "    </tr>\n",
       "    <tr>\n",
       "      <th>4</th>\n",
       "      <td>1.0</td>\n",
       "      <td>1.0</td>\n",
       "      <td>01302017</td>\n",
       "      <td>01</td>\n",
       "      <td>30</td>\n",
       "      <td>2017</td>\n",
       "      <td>1100.0</td>\n",
       "      <td>2017000005</td>\n",
       "      <td>2.017000e+09</td>\n",
       "      <td>1.0</td>\n",
       "      <td>...</td>\n",
       "      <td>3.0</td>\n",
       "      <td>2.0</td>\n",
       "      <td>2.0</td>\n",
       "      <td>4.0</td>\n",
       "      <td>2.0</td>\n",
       "      <td>1.0</td>\n",
       "      <td>2.0</td>\n",
       "      <td>2.0</td>\n",
       "      <td>2.0</td>\n",
       "      <td>2.0</td>\n",
       "    </tr>\n",
       "  </tbody>\n",
       "</table>\n",
       "<p>5 rows × 358 columns</p>\n",
       "</div>"
      ],
      "text/plain": [
       "   _STATE  FMONTH     IDATE IMONTH IDAY IYEAR  DISPCODE       SEQNO  \\\n",
       "0     1.0     1.0  01302017     01   30  2017    1100.0  2017000001   \n",
       "1     1.0     1.0  01122017     01   12  2017    1100.0  2017000002   \n",
       "2     1.0     1.0  01102017     01   10  2017    1100.0  2017000003   \n",
       "3     1.0     1.0  02082017     02   08  2017    1200.0  2017000004   \n",
       "4     1.0     1.0  01302017     01   30  2017    1100.0  2017000005   \n",
       "\n",
       "           _PSU  CTELENM1  ...  _PA300R2  _PA30021  _PASTRNG  _PAREC1  \\\n",
       "0  2.017000e+09       1.0  ...       1.0       1.0       1.0      1.0   \n",
       "1  2.017000e+09       1.0  ...       1.0       1.0       1.0      1.0   \n",
       "2  2.017000e+09       1.0  ...       3.0       2.0       2.0      4.0   \n",
       "3  2.017000e+09       1.0  ...       9.0       9.0       9.0      9.0   \n",
       "4  2.017000e+09       1.0  ...       3.0       2.0       2.0      4.0   \n",
       "\n",
       "   _PASTAE1  _RFSEAT2  _RFSEAT3  _FLSHOT6  _PNEUMO2  _AIDTST3  \n",
       "0       1.0       1.0       1.0       1.0       1.0       1.0  \n",
       "1       1.0       1.0       1.0       1.0       1.0       1.0  \n",
       "2       2.0       1.0       1.0       1.0       1.0       2.0  \n",
       "3       9.0       9.0       9.0       9.0       9.0       NaN  \n",
       "4       2.0       1.0       2.0       2.0       2.0       2.0  \n",
       "\n",
       "[5 rows x 358 columns]"
      ]
     },
     "execution_count": 4,
     "metadata": {},
     "output_type": "execute_result"
    }
   ],
   "source": [
    "# check the dataframe\n",
    "df.head()"
   ]
  },
  {
   "cell_type": "code",
   "execution_count": 5,
   "id": "235d7bfd",
   "metadata": {},
   "outputs": [],
   "source": [
    "# select columns for analysis after screening through the codebook\n",
    "df_sel = df[['DIABETE3','_BMI5', 'PHYSHLTH','MENTHLTH', '_MICHD', '_RFCHOL1', '_RFHYPE5', 'PA1VIGM_', 'GRENDA1_', 'POTADA1_', 'FRNCHDA_',\n",
    "            'FRUTDA2_', '_RFDRHV5', '_RFSMOK3', '_INCOMG', '_EDUCAG', 'SEX', '_AGE65YR']]"
   ]
  },
  {
   "cell_type": "code",
   "execution_count": 6,
   "id": "57daec19",
   "metadata": {
    "scrolled": true
   },
   "outputs": [
    {
     "data": {
      "text/html": [
       "<div>\n",
       "<style scoped>\n",
       "    .dataframe tbody tr th:only-of-type {\n",
       "        vertical-align: middle;\n",
       "    }\n",
       "\n",
       "    .dataframe tbody tr th {\n",
       "        vertical-align: top;\n",
       "    }\n",
       "\n",
       "    .dataframe thead th {\n",
       "        text-align: right;\n",
       "    }\n",
       "</style>\n",
       "<table border=\"1\" class=\"dataframe\">\n",
       "  <thead>\n",
       "    <tr style=\"text-align: right;\">\n",
       "      <th></th>\n",
       "      <th>DIABETE3</th>\n",
       "      <th>_BMI5</th>\n",
       "      <th>PHYSHLTH</th>\n",
       "      <th>MENTHLTH</th>\n",
       "      <th>_MICHD</th>\n",
       "      <th>_RFCHOL1</th>\n",
       "      <th>_RFHYPE5</th>\n",
       "      <th>PA1VIGM_</th>\n",
       "      <th>GRENDA1_</th>\n",
       "      <th>POTADA1_</th>\n",
       "      <th>FRNCHDA_</th>\n",
       "      <th>FRUTDA2_</th>\n",
       "      <th>_RFDRHV5</th>\n",
       "      <th>_RFSMOK3</th>\n",
       "      <th>_INCOMG</th>\n",
       "      <th>_EDUCAG</th>\n",
       "      <th>SEX</th>\n",
       "      <th>_AGE65YR</th>\n",
       "    </tr>\n",
       "  </thead>\n",
       "  <tbody>\n",
       "    <tr>\n",
       "      <th>0</th>\n",
       "      <td>1.0</td>\n",
       "      <td>2696.0</td>\n",
       "      <td>88.0</td>\n",
       "      <td>88.0</td>\n",
       "      <td>2.0</td>\n",
       "      <td>2.0</td>\n",
       "      <td>2.0</td>\n",
       "      <td>1.800000e+02</td>\n",
       "      <td>43.0</td>\n",
       "      <td>1.400000e+01</td>\n",
       "      <td>1.400000e+01</td>\n",
       "      <td>200.0</td>\n",
       "      <td>1.0</td>\n",
       "      <td>1.0</td>\n",
       "      <td>4.0</td>\n",
       "      <td>4.0</td>\n",
       "      <td>2.0</td>\n",
       "      <td>2.0</td>\n",
       "    </tr>\n",
       "    <tr>\n",
       "      <th>1</th>\n",
       "      <td>3.0</td>\n",
       "      <td>2943.0</td>\n",
       "      <td>88.0</td>\n",
       "      <td>88.0</td>\n",
       "      <td>2.0</td>\n",
       "      <td>1.0</td>\n",
       "      <td>2.0</td>\n",
       "      <td>5.397605e-79</td>\n",
       "      <td>100.0</td>\n",
       "      <td>5.397605e-79</td>\n",
       "      <td>5.397605e-79</td>\n",
       "      <td>300.0</td>\n",
       "      <td>1.0</td>\n",
       "      <td>1.0</td>\n",
       "      <td>5.0</td>\n",
       "      <td>4.0</td>\n",
       "      <td>1.0</td>\n",
       "      <td>2.0</td>\n",
       "    </tr>\n",
       "    <tr>\n",
       "      <th>2</th>\n",
       "      <td>3.0</td>\n",
       "      <td>2504.0</td>\n",
       "      <td>88.0</td>\n",
       "      <td>88.0</td>\n",
       "      <td>2.0</td>\n",
       "      <td>2.0</td>\n",
       "      <td>1.0</td>\n",
       "      <td>NaN</td>\n",
       "      <td>14.0</td>\n",
       "      <td>5.397605e-79</td>\n",
       "      <td>2.900000e+01</td>\n",
       "      <td>29.0</td>\n",
       "      <td>1.0</td>\n",
       "      <td>1.0</td>\n",
       "      <td>9.0</td>\n",
       "      <td>1.0</td>\n",
       "      <td>1.0</td>\n",
       "      <td>2.0</td>\n",
       "    </tr>\n",
       "    <tr>\n",
       "      <th>3</th>\n",
       "      <td>1.0</td>\n",
       "      <td>2663.0</td>\n",
       "      <td>88.0</td>\n",
       "      <td>88.0</td>\n",
       "      <td>2.0</td>\n",
       "      <td>2.0</td>\n",
       "      <td>2.0</td>\n",
       "      <td>NaN</td>\n",
       "      <td>NaN</td>\n",
       "      <td>NaN</td>\n",
       "      <td>NaN</td>\n",
       "      <td>3.0</td>\n",
       "      <td>1.0</td>\n",
       "      <td>1.0</td>\n",
       "      <td>1.0</td>\n",
       "      <td>1.0</td>\n",
       "      <td>2.0</td>\n",
       "      <td>2.0</td>\n",
       "    </tr>\n",
       "    <tr>\n",
       "      <th>4</th>\n",
       "      <td>3.0</td>\n",
       "      <td>2330.0</td>\n",
       "      <td>14.0</td>\n",
       "      <td>88.0</td>\n",
       "      <td>2.0</td>\n",
       "      <td>1.0</td>\n",
       "      <td>1.0</td>\n",
       "      <td>NaN</td>\n",
       "      <td>14.0</td>\n",
       "      <td>1.400000e+01</td>\n",
       "      <td>1.000000e+01</td>\n",
       "      <td>100.0</td>\n",
       "      <td>1.0</td>\n",
       "      <td>1.0</td>\n",
       "      <td>1.0</td>\n",
       "      <td>1.0</td>\n",
       "      <td>2.0</td>\n",
       "      <td>2.0</td>\n",
       "    </tr>\n",
       "  </tbody>\n",
       "</table>\n",
       "</div>"
      ],
      "text/plain": [
       "   DIABETE3   _BMI5  PHYSHLTH  MENTHLTH  _MICHD  _RFCHOL1  _RFHYPE5  \\\n",
       "0       1.0  2696.0      88.0      88.0     2.0       2.0       2.0   \n",
       "1       3.0  2943.0      88.0      88.0     2.0       1.0       2.0   \n",
       "2       3.0  2504.0      88.0      88.0     2.0       2.0       1.0   \n",
       "3       1.0  2663.0      88.0      88.0     2.0       2.0       2.0   \n",
       "4       3.0  2330.0      14.0      88.0     2.0       1.0       1.0   \n",
       "\n",
       "       PA1VIGM_  GRENDA1_      POTADA1_      FRNCHDA_  FRUTDA2_  _RFDRHV5  \\\n",
       "0  1.800000e+02      43.0  1.400000e+01  1.400000e+01     200.0       1.0   \n",
       "1  5.397605e-79     100.0  5.397605e-79  5.397605e-79     300.0       1.0   \n",
       "2           NaN      14.0  5.397605e-79  2.900000e+01      29.0       1.0   \n",
       "3           NaN       NaN           NaN           NaN       3.0       1.0   \n",
       "4           NaN      14.0  1.400000e+01  1.000000e+01     100.0       1.0   \n",
       "\n",
       "   _RFSMOK3  _INCOMG  _EDUCAG  SEX  _AGE65YR  \n",
       "0       1.0      4.0      4.0  2.0       2.0  \n",
       "1       1.0      5.0      4.0  1.0       2.0  \n",
       "2       1.0      9.0      1.0  1.0       2.0  \n",
       "3       1.0      1.0      1.0  2.0       2.0  \n",
       "4       1.0      1.0      1.0  2.0       2.0  "
      ]
     },
     "execution_count": 6,
     "metadata": {},
     "output_type": "execute_result"
    }
   ],
   "source": [
    "df_sel.head()"
   ]
  },
  {
   "cell_type": "code",
   "execution_count": 7,
   "id": "f7ac3dd0",
   "metadata": {},
   "outputs": [
    {
     "data": {
      "text/plain": [
       "DIABETE3    242014\n",
       "_BMI5       242014\n",
       "PHYSHLTH    242014\n",
       "MENTHLTH    242014\n",
       "_MICHD      242014\n",
       "_RFCHOL1    242014\n",
       "_RFHYPE5    242014\n",
       "PA1VIGM_    242014\n",
       "GRENDA1_    242014\n",
       "POTADA1_    242014\n",
       "FRNCHDA_    242014\n",
       "FRUTDA2_    242014\n",
       "_RFDRHV5    242014\n",
       "_RFSMOK3    242014\n",
       "_INCOMG     242014\n",
       "_EDUCAG     242014\n",
       "SEX         242014\n",
       "_AGE65YR    242014\n",
       "dtype: int64"
      ]
     },
     "execution_count": 7,
     "metadata": {},
     "output_type": "execute_result"
    }
   ],
   "source": [
    "# drop missing values\n",
    "df_sel = df_sel.dropna()\n",
    "df_sel.count()"
   ]
  },
  {
   "cell_type": "markdown",
   "id": "58c2e7cf-59b7-433e-a203-d7f6a1280f82",
   "metadata": {},
   "source": [
    "#### After dropping all the rows contains NA or Blanks, we got 239324 samples in the data frame."
   ]
  },
  {
   "cell_type": "code",
   "execution_count": 8,
   "id": "6ac2b28f",
   "metadata": {},
   "outputs": [],
   "source": [
    "## DIABETE3 - check,replace,remove\n",
    " # remove 7(don't know) and 9(refused)\n",
    " # change order and scale\n",
    "  # 1 >> 1 (Yes diabetes)\n",
    "  # 2 >> 1 (Yes Pre- or borderline diabetes)\n",
    "  # 3 >> 0 (No)\n",
    "  # 4 >> 1 (Yes Pre- or borderline diabetes)\n",
    "df_sel['DIABETE3'].value_counts()\n",
    "df_sel = df_sel[df_sel['DIABETE3'] != 7]\n",
    "df_sel = df_sel[df_sel['DIABETE3'] != 9]\n",
    "df_sel['DIABETE3'] = df_sel['DIABETE3'].astype(int)\n",
    "df_sel['DIABETE3'].replace({1:1,2:1,3:0,4:1},inplace=True)"
   ]
  },
  {
   "cell_type": "code",
   "execution_count": 9,
   "id": "018c870e-7caa-463f-a51c-ca36c5e64c20",
   "metadata": {},
   "outputs": [
    {
     "data": {
      "text/plain": [
       "0    207380\n",
       "1     34461\n",
       "Name: DIABETE3, dtype: int64"
      ]
     },
     "execution_count": 9,
     "metadata": {},
     "output_type": "execute_result"
    }
   ],
   "source": [
    "df_sel['DIABETE3'].value_counts()"
   ]
  },
  {
   "cell_type": "code",
   "execution_count": 10,
   "id": "80e42633-c1bf-41ba-9b8f-c96d576fafcb",
   "metadata": {},
   "outputs": [
    {
     "data": {
      "text/plain": [
       "26.63    3036\n",
       "27.46    2289\n",
       "24.41    2207\n",
       "27.44    2089\n",
       "27.12    1889\n",
       "         ... \n",
       "77.78       1\n",
       "17.86       1\n",
       "48.24       1\n",
       "58.30       1\n",
       "58.54       1\n",
       "Name: _BMI5, Length: 3157, dtype: int64"
      ]
     },
     "execution_count": 10,
     "metadata": {},
     "output_type": "execute_result"
    }
   ],
   "source": [
    "##  _BMI5 - check,replace,remove\n",
    " # THe original value is BMI * 100. Therefore, divide every value with 100\n",
    "df_sel['_BMI5'] = df_sel['_BMI5'].div(100)\n",
    "df_sel['_BMI5'].value_counts()"
   ]
  },
  {
   "cell_type": "code",
   "execution_count": 11,
   "id": "5f1b626b-e4e5-4835-b803-16f3bba14be6",
   "metadata": {},
   "outputs": [
    {
     "data": {
      "text/plain": [
       "0.0     157763\n",
       "2.0      14916\n",
       "30.0     12431\n",
       "1.0      11310\n",
       "3.0       8282\n",
       "5.0       7078\n",
       "10.0      4845\n",
       "4.0       4238\n",
       "7.0       4238\n",
       "15.0      3947\n",
       "20.0      2445\n",
       "14.0      2305\n",
       "6.0       1158\n",
       "25.0       921\n",
       "8.0        702\n",
       "12.0       514\n",
       "21.0       458\n",
       "28.0       321\n",
       "29.0       152\n",
       "9.0        150\n",
       "18.0       147\n",
       "16.0       100\n",
       "27.0        80\n",
       "13.0        74\n",
       "17.0        71\n",
       "11.0        61\n",
       "22.0        60\n",
       "26.0        53\n",
       "24.0        48\n",
       "23.0        31\n",
       "19.0        16\n",
       "Name: PHYSHLTH, dtype: int64"
      ]
     },
     "execution_count": 11,
     "metadata": {},
     "output_type": "execute_result"
    }
   ],
   "source": [
    "## PHYSHLTH - check,replace,remove\n",
    " # change 88 to 0 (no bad physical health days)\n",
    " # remove 77(don't know) and 99(refused)\n",
    "df_sel = df_sel[df_sel['PHYSHLTH'] != 77]\n",
    "df_sel = df_sel[df_sel['PHYSHLTH'] != 99]\n",
    "df_sel['PHYSHLTH'] = df_sel['PHYSHLTH'].replace({88:0})    \n",
    "df_sel['PHYSHLTH'].value_counts()"
   ]
  },
  {
   "cell_type": "code",
   "execution_count": 12,
   "id": "3483b641-327e-4c47-b9c7-85a4e3b7ba73",
   "metadata": {},
   "outputs": [
    {
     "data": {
      "text/plain": [
       "0.0     164720\n",
       "2.0      12673\n",
       "30.0      9287\n",
       "1.0       8602\n",
       "5.0       8498\n",
       "3.0       7264\n",
       "10.0      5897\n",
       "15.0      5046\n",
       "4.0       3545\n",
       "7.0       3210\n",
       "20.0      2946\n",
       "14.0      1079\n",
       "6.0       1019\n",
       "25.0       965\n",
       "8.0        617\n",
       "12.0       408\n",
       "28.0       278\n",
       "21.0       172\n",
       "29.0       143\n",
       "18.0       110\n",
       "16.0        92\n",
       "9.0         90\n",
       "27.0        78\n",
       "13.0        71\n",
       "17.0        70\n",
       "22.0        60\n",
       "11.0        50\n",
       "24.0        41\n",
       "26.0        37\n",
       "23.0        35\n",
       "19.0        12\n",
       "Name: MENTHLTH, dtype: int64"
      ]
     },
     "execution_count": 12,
     "metadata": {},
     "output_type": "execute_result"
    }
   ],
   "source": [
    "## MENTHLTH - check,replace,remove\n",
    " # change 88 to 0 (no bad mental health days)\n",
    " # remove 77(don't know) and 99(refused)\n",
    "df_sel = df_sel[df_sel['MENTHLTH'] != 77]\n",
    "df_sel = df_sel[df_sel['MENTHLTH'] != 99]\n",
    "df_sel['MENTHLTH'] = df_sel['MENTHLTH'].replace({88:0})    \n",
    "df_sel['MENTHLTH'].value_counts()"
   ]
  },
  {
   "cell_type": "code",
   "execution_count": 13,
   "id": "5d783397-7a1c-46f8-8ae6-392c77cd7f49",
   "metadata": {},
   "outputs": [
    {
     "data": {
      "text/plain": [
       "0    218494\n",
       "1     18621\n",
       "Name: _MICHD, dtype: int64"
      ]
     },
     "execution_count": 13,
     "metadata": {},
     "output_type": "execute_result"
    }
   ],
   "source": [
    "## _MICHD - check,replace,remove\n",
    " # change order, scale\n",
    "  # 1 >> 1 (Reported having MI or CHD)\n",
    "  # 2 >> 0 (Did not report having MI or CHD)\n",
    "df_sel['_MICHD'].replace({1:1,2:0},inplace=True)\n",
    "df_sel['_MICHD'] = df_sel['_MICHD'].astype(int)\n",
    "df_sel['_MICHD'].value_counts()"
   ]
  },
  {
   "cell_type": "code",
   "execution_count": 14,
   "id": "3abd552a-5fcc-45f4-b0c3-55a188f945ac",
   "metadata": {},
   "outputs": [
    {
     "data": {
      "text/plain": [
       "0    148032\n",
       "1     89083\n",
       "Name: _RFCHOL1, dtype: int64"
      ]
     },
     "execution_count": 14,
     "metadata": {},
     "output_type": "execute_result"
    }
   ],
   "source": [
    "## _RFCHOL1 - check,replace,remove\n",
    " # change order, scale\n",
    "  # 1 >> 0 (No)\n",
    "  # 2 >> 1 (Yes)\n",
    "df_sel['_RFCHOL1'].replace({1:0,2:1},inplace=True)  \n",
    "df_sel['_RFCHOL1'] = df_sel['_RFCHOL1'].astype(int)\n",
    "df_sel['_RFCHOL1'].value_counts()"
   ]
  },
  {
   "cell_type": "code",
   "execution_count": 15,
   "id": "8f2b5662-0e05-4df7-99b3-75fb90f81adc",
   "metadata": {},
   "outputs": [
    {
     "data": {
      "text/plain": [
       "0    144479\n",
       "1     92338\n",
       "Name: _RFHYPE5, dtype: int64"
      ]
     },
     "execution_count": 15,
     "metadata": {},
     "output_type": "execute_result"
    }
   ],
   "source": [
    "## _RFHYPE5 - check,replace,remove\n",
    " # removing 9(don't know)\n",
    " # change order, scale\n",
    "  # 1 >> 0 (No)\n",
    "  # 2 >> 1 (Yes)\n",
    "df_sel=df_sel[df_sel['_RFHYPE5'] != 9]\n",
    "df_sel['_RFHYPE5'].replace({1:0,2:1},inplace=True) \n",
    "df_sel['_RFHYPE5'] = df_sel['_RFHYPE5'].astype(int)\n",
    "df_sel['_RFHYPE5'].value_counts()"
   ]
  },
  {
   "cell_type": "code",
   "execution_count": 16,
   "id": "e9da970c-ecb6-49ef-b417-2ba087e4bf40",
   "metadata": {},
   "outputs": [
    {
     "data": {
      "text/plain": [
       "0.0       123940\n",
       "120.0       6926\n",
       "180.0       6590\n",
       "60.0        6450\n",
       "90.0        5180\n",
       "           ...  \n",
       "1517.0         1\n",
       "908.0          1\n",
       "3164.0         1\n",
       "3040.0         1\n",
       "2920.0         1\n",
       "Name: PA1VIGM_, Length: 1527, dtype: int64"
      ]
     },
     "execution_count": 16,
     "metadata": {},
     "output_type": "execute_result"
    }
   ],
   "source": [
    "## PA1VIGM_ - check,replace,remove\n",
    "df_sel['PA1VIGM_'] = df_sel['PA1VIGM_'].round(0)\n",
    "df_sel['PA1VIGM_'].value_counts()"
   ]
  },
  {
   "cell_type": "code",
   "execution_count": 17,
   "id": "9c7644fc-1a7b-4912-aef9-ec3653f377cc",
   "metadata": {},
   "outputs": [
    {
     "data": {
      "text/plain": [
       "100.0     54445\n",
       "43.0      30355\n",
       "29.0      25312\n",
       "57.0      19124\n",
       "14.0      18075\n",
       "          ...  \n",
       "329.0         1\n",
       "183.0         1\n",
       "140.0         1\n",
       "1100.0        1\n",
       "9100.0        1\n",
       "Name: GRENDA1_, Length: 107, dtype: int64"
      ]
     },
     "execution_count": 17,
     "metadata": {},
     "output_type": "execute_result"
    }
   ],
   "source": [
    "## GRENDA1_ - check,replace,remove\n",
    "df_sel['GRENDA1_'] = df_sel['GRENDA1_'].round(0)\n",
    "df_sel['GRENDA1_'].value_counts()"
   ]
  },
  {
   "cell_type": "code",
   "execution_count": 18,
   "id": "bbd814d0-8d2e-4033-89b1-50766897a668",
   "metadata": {},
   "outputs": [
    {
     "data": {
      "text/plain": [
       "14.0      41065\n",
       "29.0      31749\n",
       "0.0       26178\n",
       "7.0       22594\n",
       "43.0      19184\n",
       "          ...  \n",
       "743.0         1\n",
       "229.0         1\n",
       "7000.0        1\n",
       "1300.0        1\n",
       "293.0         1\n",
       "Name: POTADA1_, Length: 84, dtype: int64"
      ]
     },
     "execution_count": 18,
     "metadata": {},
     "output_type": "execute_result"
    }
   ],
   "source": [
    "## POTADA1_ - check,replace,remove\n",
    "df_sel['POTADA1_'] = df_sel['POTADA1_'].round(0)\n",
    "df_sel['POTADA1_'].value_counts()"
   ]
  },
  {
   "cell_type": "code",
   "execution_count": 19,
   "id": "63b9c565-d64c-4a3f-ba83-1792543746df",
   "metadata": {},
   "outputs": [
    {
     "data": {
      "text/plain": [
       "14.0      42397\n",
       "0.0       41143\n",
       "7.0       28444\n",
       "3.0       24862\n",
       "29.0      24373\n",
       "          ...  \n",
       "307.0         1\n",
       "303.0         1\n",
       "900.0         1\n",
       "1400.0        1\n",
       "240.0         1\n",
       "Name: FRNCHDA_, Length: 83, dtype: int64"
      ]
     },
     "execution_count": 19,
     "metadata": {},
     "output_type": "execute_result"
    }
   ],
   "source": [
    "## FRNCHDA_ - check,replace,remove\n",
    "df_sel['FRNCHDA_'] = df_sel['FRNCHDA_'].round(0)\n",
    "df_sel['FRNCHDA_'].value_counts()"
   ]
  },
  {
   "cell_type": "code",
   "execution_count": 20,
   "id": "20792ba9-75e1-4600-8702-74da959a8cbb",
   "metadata": {},
   "outputs": [
    {
     "data": {
      "text/plain": [
       "100.0     74482\n",
       "200.0     46952\n",
       "43.0      18233\n",
       "300.0     18143\n",
       "29.0      12212\n",
       "          ...  \n",
       "280.0         1\n",
       "207.0         1\n",
       "4200.0        1\n",
       "757.0         1\n",
       "183.0         1\n",
       "Name: FRUTDA2_, Length: 122, dtype: int64"
      ]
     },
     "execution_count": 20,
     "metadata": {},
     "output_type": "execute_result"
    }
   ],
   "source": [
    "## FRUTDA2_ - check,replace,remove\n",
    "df_sel['FRUTDA2_'] = df_sel['FRUTDA2_'].round(0)\n",
    "df_sel['FRUTDA2_'].value_counts()"
   ]
  },
  {
   "cell_type": "code",
   "execution_count": 21,
   "id": "dad775d4-41ee-4ad6-8de0-8cce0a4303c6",
   "metadata": {
    "tags": []
   },
   "outputs": [
    {
     "data": {
      "text/plain": [
       "0    219879\n",
       "1     14238\n",
       "Name: _RFDRHV5, dtype: int64"
      ]
     },
     "execution_count": 21,
     "metadata": {},
     "output_type": "execute_result"
    }
   ],
   "source": [
    "## _RFDRHV5 - check,replace,remove\n",
    "  # 1 >> 0 (Not a heavy Drinker)\n",
    "  # 2 >> 1 (Is Heavy Drinker)\n",
    "  # Remove 9 >> (Don't know)\n",
    "df_sel = df_sel[df_sel['_RFDRHV5'] != 9]\n",
    "df_sel['_RFDRHV5'].replace({1:0,2:1},inplace=True)\n",
    "df_sel['_RFDRHV5'] = df_sel['_RFDRHV5'].astype(int)\n",
    "df_sel['_RFDRHV5'].value_counts()"
   ]
  },
  {
   "cell_type": "code",
   "execution_count": 22,
   "id": "5c95dc27-38ff-494c-8404-219e604c3295",
   "metadata": {},
   "outputs": [
    {
     "data": {
      "text/plain": [
       "0    206179\n",
       "1     27060\n",
       "Name: _RFSMOK3, dtype: int64"
      ]
     },
     "execution_count": 22,
     "metadata": {},
     "output_type": "execute_result"
    }
   ],
   "source": [
    "##  _RFSMOK3 - check,replace,remove\n",
    " # removing 9(don't know)\n",
    " # change order, scale\n",
    "  # 1 >> 0 (No)\n",
    "  # 2 >> 1 (Yes)\n",
    "df_sel=df_sel[df_sel['_RFSMOK3'] != 9]\n",
    "df_sel['_RFSMOK3'].replace({1:0,2:1},inplace=True) \n",
    "df_sel['_RFSMOK3'] = df_sel['_RFSMOK3'].astype(int)\n",
    "df_sel['_RFSMOK3'].value_counts()"
   ]
  },
  {
   "cell_type": "code",
   "execution_count": 23,
   "id": "8a858207-17ba-4bb5-a82e-b253cf36d853",
   "metadata": {},
   "outputs": [
    {
     "data": {
      "text/plain": [
       "1    119327\n",
       "0     88483\n",
       "Name: _INCOMG, dtype: int64"
      ]
     },
     "execution_count": 23,
     "metadata": {},
     "output_type": "execute_result"
    }
   ],
   "source": [
    "##  _INCOMG - check,replace,remove\n",
    " # removing 9(don't know)\n",
    " # change order, scale\n",
    " # 1,2,3,4 ->> 0 (<$50,000)\n",
    " # 5 ->> 1 (>=$50,000)\n",
    "df_sel=df_sel[df_sel['_INCOMG'] != 9]\n",
    "df_sel['_INCOMG'].replace({1:0,2:0,3:0,4:0,5:1},inplace=True) \n",
    "df_sel['_INCOMG'] = df_sel['_INCOMG'].astype(int)\n",
    "df_sel['_INCOMG'].value_counts()"
   ]
  },
  {
   "cell_type": "code",
   "execution_count": 24,
   "id": "2cab32d1-bd1c-414b-9a2d-0484548f482c",
   "metadata": {},
   "outputs": [
    {
     "data": {
      "text/plain": [
       "0    109510\n",
       "1     98155\n",
       "Name: _EDUCAG, dtype: int64"
      ]
     },
     "execution_count": 24,
     "metadata": {},
     "output_type": "execute_result"
    }
   ],
   "source": [
    "##  _EDUCAG - check,replace,remove\n",
    " # removing 9(don't know)\n",
    " # 1,2,3 ->> 0 (have not graduated college or technical school)\n",
    " # 4 ->> 1 (have graduated college or technical school)\n",
    "df_sel=df_sel[df_sel['_EDUCAG'] != 9]\n",
    "df_sel['_EDUCAG'].replace({1:0,2:0,3:0,4:1},inplace=True) \n",
    "df_sel['_EDUCAG'] = df_sel['_EDUCAG'].astype(int)\n",
    "df_sel['_EDUCAG'].value_counts()"
   ]
  },
  {
   "cell_type": "code",
   "execution_count": 25,
   "id": "42e92886",
   "metadata": {},
   "outputs": [
    {
     "data": {
      "text/plain": [
       "1    110151\n",
       "0     97514\n",
       "Name: SEX, dtype: int64"
      ]
     },
     "execution_count": 25,
     "metadata": {},
     "output_type": "execute_result"
    }
   ],
   "source": [
    "## SEX - check,replace,remove\n",
    "  #  1 ->> 0 male\n",
    "  #  2 ->> 1 female\n",
    "  #  9 ->> refused (remove)\n",
    "df_sel=df_sel[df_sel['SEX'] != 9]\n",
    "df_sel['SEX'] = df_sel['SEX'].astype(int)\n",
    "df_sel['SEX'].replace({1:0,2:1},inplace=True) \n",
    "df_sel['SEX'].value_counts()"
   ]
  },
  {
   "cell_type": "code",
   "execution_count": 26,
   "id": "3a6d779c",
   "metadata": {},
   "outputs": [
    {
     "data": {
      "text/plain": [
       "0    137365\n",
       "1     70300\n",
       "Name: _AGE65YR, dtype: int64"
      ]
     },
     "execution_count": 26,
     "metadata": {},
     "output_type": "execute_result"
    }
   ],
   "source": [
    "## _AGE65YR - check,replace,remove\n",
    "  #  1 ->> 0 18-64\n",
    "  #  2 ->> 1 >=65\n",
    "  #  3 ->> unknown (remove)\n",
    "df_sel=df_sel[df_sel['_AGE65YR'] != 3]\n",
    "df_sel['_AGE65YR'] = df_sel['_AGE65YR'].astype(int)\n",
    "df_sel['_AGE65YR'].replace({1:0,2:1},inplace=True) \n",
    "df_sel['_AGE65YR'].value_counts()"
   ]
  },
  {
   "cell_type": "code",
   "execution_count": 27,
   "id": "8b157d8e",
   "metadata": {},
   "outputs": [
    {
     "data": {
      "text/plain": [
       "0    178554\n",
       "1     29111\n",
       "Name: DIABETE3, dtype: int64"
      ]
     },
     "execution_count": 27,
     "metadata": {},
     "output_type": "execute_result"
    }
   ],
   "source": [
    "df_sel['DIABETE3'].value_counts()"
   ]
  },
  {
   "cell_type": "code",
   "execution_count": 28,
   "id": "bbd3b057",
   "metadata": {},
   "outputs": [
    {
     "data": {
      "text/html": [
       "<div>\n",
       "<style scoped>\n",
       "    .dataframe tbody tr th:only-of-type {\n",
       "        vertical-align: middle;\n",
       "    }\n",
       "\n",
       "    .dataframe tbody tr th {\n",
       "        vertical-align: top;\n",
       "    }\n",
       "\n",
       "    .dataframe thead th {\n",
       "        text-align: right;\n",
       "    }\n",
       "</style>\n",
       "<table border=\"1\" class=\"dataframe\">\n",
       "  <thead>\n",
       "    <tr style=\"text-align: right;\">\n",
       "      <th></th>\n",
       "      <th>DIABETE3</th>\n",
       "      <th>_BMI5</th>\n",
       "      <th>PHYSHLTH</th>\n",
       "      <th>MENTHLTH</th>\n",
       "      <th>_MICHD</th>\n",
       "      <th>_RFCHOL1</th>\n",
       "      <th>_RFHYPE5</th>\n",
       "      <th>PA1VIGM_</th>\n",
       "      <th>GRENDA1_</th>\n",
       "      <th>POTADA1_</th>\n",
       "      <th>FRNCHDA_</th>\n",
       "      <th>FRUTDA2_</th>\n",
       "      <th>_RFDRHV5</th>\n",
       "      <th>_RFSMOK3</th>\n",
       "      <th>_INCOMG</th>\n",
       "      <th>_EDUCAG</th>\n",
       "      <th>SEX</th>\n",
       "      <th>_AGE65YR</th>\n",
       "    </tr>\n",
       "  </thead>\n",
       "  <tbody>\n",
       "    <tr>\n",
       "      <th>0</th>\n",
       "      <td>1</td>\n",
       "      <td>26.96</td>\n",
       "      <td>0.0</td>\n",
       "      <td>0.0</td>\n",
       "      <td>0</td>\n",
       "      <td>1</td>\n",
       "      <td>1</td>\n",
       "      <td>180.0</td>\n",
       "      <td>43.0</td>\n",
       "      <td>14.0</td>\n",
       "      <td>14.0</td>\n",
       "      <td>200.0</td>\n",
       "      <td>0</td>\n",
       "      <td>0</td>\n",
       "      <td>0</td>\n",
       "      <td>1</td>\n",
       "      <td>1</td>\n",
       "      <td>1</td>\n",
       "    </tr>\n",
       "    <tr>\n",
       "      <th>1</th>\n",
       "      <td>0</td>\n",
       "      <td>29.43</td>\n",
       "      <td>0.0</td>\n",
       "      <td>0.0</td>\n",
       "      <td>0</td>\n",
       "      <td>0</td>\n",
       "      <td>1</td>\n",
       "      <td>0.0</td>\n",
       "      <td>100.0</td>\n",
       "      <td>0.0</td>\n",
       "      <td>0.0</td>\n",
       "      <td>300.0</td>\n",
       "      <td>0</td>\n",
       "      <td>0</td>\n",
       "      <td>1</td>\n",
       "      <td>1</td>\n",
       "      <td>0</td>\n",
       "      <td>1</td>\n",
       "    </tr>\n",
       "    <tr>\n",
       "      <th>5</th>\n",
       "      <td>0</td>\n",
       "      <td>27.34</td>\n",
       "      <td>6.0</td>\n",
       "      <td>0.0</td>\n",
       "      <td>1</td>\n",
       "      <td>0</td>\n",
       "      <td>1</td>\n",
       "      <td>60.0</td>\n",
       "      <td>29.0</td>\n",
       "      <td>43.0</td>\n",
       "      <td>14.0</td>\n",
       "      <td>2.0</td>\n",
       "      <td>0</td>\n",
       "      <td>1</td>\n",
       "      <td>0</td>\n",
       "      <td>0</td>\n",
       "      <td>0</td>\n",
       "      <td>1</td>\n",
       "    </tr>\n",
       "    <tr>\n",
       "      <th>9</th>\n",
       "      <td>0</td>\n",
       "      <td>27.12</td>\n",
       "      <td>2.0</td>\n",
       "      <td>1.0</td>\n",
       "      <td>0</td>\n",
       "      <td>0</td>\n",
       "      <td>1</td>\n",
       "      <td>0.0</td>\n",
       "      <td>100.0</td>\n",
       "      <td>20.0</td>\n",
       "      <td>300.0</td>\n",
       "      <td>700.0</td>\n",
       "      <td>0</td>\n",
       "      <td>0</td>\n",
       "      <td>0</td>\n",
       "      <td>0</td>\n",
       "      <td>0</td>\n",
       "      <td>0</td>\n",
       "    </tr>\n",
       "    <tr>\n",
       "      <th>12</th>\n",
       "      <td>1</td>\n",
       "      <td>23.03</td>\n",
       "      <td>5.0</td>\n",
       "      <td>0.0</td>\n",
       "      <td>0</td>\n",
       "      <td>1</td>\n",
       "      <td>1</td>\n",
       "      <td>125.0</td>\n",
       "      <td>71.0</td>\n",
       "      <td>29.0</td>\n",
       "      <td>0.0</td>\n",
       "      <td>57.0</td>\n",
       "      <td>0</td>\n",
       "      <td>0</td>\n",
       "      <td>0</td>\n",
       "      <td>0</td>\n",
       "      <td>1</td>\n",
       "      <td>1</td>\n",
       "    </tr>\n",
       "  </tbody>\n",
       "</table>\n",
       "</div>"
      ],
      "text/plain": [
       "    DIABETE3  _BMI5  PHYSHLTH  MENTHLTH  _MICHD  _RFCHOL1  _RFHYPE5  PA1VIGM_  \\\n",
       "0          1  26.96       0.0       0.0       0         1         1     180.0   \n",
       "1          0  29.43       0.0       0.0       0         0         1       0.0   \n",
       "5          0  27.34       6.0       0.0       1         0         1      60.0   \n",
       "9          0  27.12       2.0       1.0       0         0         1       0.0   \n",
       "12         1  23.03       5.0       0.0       0         1         1     125.0   \n",
       "\n",
       "    GRENDA1_  POTADA1_  FRNCHDA_  FRUTDA2_  _RFDRHV5  _RFSMOK3  _INCOMG  \\\n",
       "0       43.0      14.0      14.0     200.0         0         0        0   \n",
       "1      100.0       0.0       0.0     300.0         0         0        1   \n",
       "5       29.0      43.0      14.0       2.0         0         1        0   \n",
       "9      100.0      20.0     300.0     700.0         0         0        0   \n",
       "12      71.0      29.0       0.0      57.0         0         0        0   \n",
       "\n",
       "    _EDUCAG  SEX  _AGE65YR  \n",
       "0         1    1         1  \n",
       "1         1    0         1  \n",
       "5         0    0         1  \n",
       "9         0    0         0  \n",
       "12        0    1         1  "
      ]
     },
     "execution_count": 28,
     "metadata": {},
     "output_type": "execute_result"
    }
   ],
   "source": [
    "df_sel.head()"
   ]
  },
  {
   "cell_type": "code",
   "execution_count": 29,
   "id": "3f28a282-264e-409b-b9a3-488db2fd8572",
   "metadata": {},
   "outputs": [],
   "source": [
    "df_sel.columns = ['diabete', 'bmi', 'physhlth', 'menthlth', 'michd', 'hchol', 'hblpr', 'vpa',\n",
    "                     'grenda', 'potada', 'frnchda', 'frutda', 'hvdr', 'smok', 'incom50', 'cllgr',\n",
    "                     'sex', 'age65']"
   ]
  },
  {
   "cell_type": "code",
   "execution_count": 30,
   "id": "aff696e5",
   "metadata": {},
   "outputs": [],
   "source": [
    "## save to CSV\n",
    "df_sel.to_csv('../data/2017_diabetes_cleaned.csv', index = False)"
   ]
  }
 ],
 "metadata": {
  "environment": {
   "kernel": "python3",
   "name": "common-cpu.m89",
   "type": "gcloud",
   "uri": "gcr.io/deeplearning-platform-release/base-cpu:m89"
  },
  "kernelspec": {
   "display_name": "Python 3",
   "language": "python",
   "name": "python3"
  },
  "language_info": {
   "codemirror_mode": {
    "name": "ipython",
    "version": 3
   },
   "file_extension": ".py",
   "mimetype": "text/x-python",
   "name": "python",
   "nbconvert_exporter": "python",
   "pygments_lexer": "ipython3",
   "version": "3.7.12"
  }
 },
 "nbformat": 4,
 "nbformat_minor": 5
}
