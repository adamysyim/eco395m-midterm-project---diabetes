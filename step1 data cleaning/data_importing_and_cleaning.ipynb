{
 "cells": [
  {
   "cell_type": "markdown",
   "id": "9a6c6f68-de3f-4daa-be23-b67cf6bebbbf",
   "metadata": {},
   "source": [
    "## Data Importing and Cleaning"
   ]
  },
  {
   "cell_type": "code",
   "execution_count": 1,
   "id": "c6212237-69aa-4a37-b269-14f93dd5f34a",
   "metadata": {},
   "outputs": [],
   "source": [
    "# Import the libraries\n",
    "import pandas as pd"
   ]
  },
  {
   "cell_type": "code",
   "execution_count": 2,
   "id": "376810b9",
   "metadata": {},
   "outputs": [
    {
     "name": "stderr",
     "output_type": "stream",
     "text": [
      "/opt/conda/lib/python3.7/site-packages/pandas/io/sas/sas_xport.py:475: PerformanceWarning: DataFrame is highly fragmented.  This is usually the result of calling `frame.insert` many times, which has poor performance.  Consider joining all columns at once using pd.concat(axis=1) instead.  To get a de-fragmented frame, use `newframe = frame.copy()`\n",
      "  df[x] = v\n"
     ]
    }
   ],
   "source": [
    "# Read in the dataset\n",
    "df = pd.read_sas('../data/LLCP2017.XPT', encoding='utf-8')"
   ]
  },
  {
   "cell_type": "code",
   "execution_count": 5,
   "id": "79df469f",
   "metadata": {},
   "outputs": [
    {
     "data": {
      "text/plain": [
       "(450016, 358)"
      ]
     },
     "execution_count": 5,
     "metadata": {},
     "output_type": "execute_result"
    }
   ],
   "source": [
    "# check number of rows and columns\n",
    "df.shape"
   ]
  },
  {
   "cell_type": "code",
   "execution_count": 6,
   "id": "44dbd072",
   "metadata": {
    "scrolled": true
   },
   "outputs": [
    {
     "data": {
      "text/html": [
       "<div>\n",
       "<style scoped>\n",
       "    .dataframe tbody tr th:only-of-type {\n",
       "        vertical-align: middle;\n",
       "    }\n",
       "\n",
       "    .dataframe tbody tr th {\n",
       "        vertical-align: top;\n",
       "    }\n",
       "\n",
       "    .dataframe thead th {\n",
       "        text-align: right;\n",
       "    }\n",
       "</style>\n",
       "<table border=\"1\" class=\"dataframe\">\n",
       "  <thead>\n",
       "    <tr style=\"text-align: right;\">\n",
       "      <th></th>\n",
       "      <th>_STATE</th>\n",
       "      <th>FMONTH</th>\n",
       "      <th>IDATE</th>\n",
       "      <th>IMONTH</th>\n",
       "      <th>IDAY</th>\n",
       "      <th>IYEAR</th>\n",
       "      <th>DISPCODE</th>\n",
       "      <th>SEQNO</th>\n",
       "      <th>_PSU</th>\n",
       "      <th>CTELENM1</th>\n",
       "      <th>...</th>\n",
       "      <th>_PA300R2</th>\n",
       "      <th>_PA30021</th>\n",
       "      <th>_PASTRNG</th>\n",
       "      <th>_PAREC1</th>\n",
       "      <th>_PASTAE1</th>\n",
       "      <th>_RFSEAT2</th>\n",
       "      <th>_RFSEAT3</th>\n",
       "      <th>_FLSHOT6</th>\n",
       "      <th>_PNEUMO2</th>\n",
       "      <th>_AIDTST3</th>\n",
       "    </tr>\n",
       "  </thead>\n",
       "  <tbody>\n",
       "    <tr>\n",
       "      <th>0</th>\n",
       "      <td>1.0</td>\n",
       "      <td>1.0</td>\n",
       "      <td>01302017</td>\n",
       "      <td>01</td>\n",
       "      <td>30</td>\n",
       "      <td>2017</td>\n",
       "      <td>1100.0</td>\n",
       "      <td>2017000001</td>\n",
       "      <td>2.017000e+09</td>\n",
       "      <td>1.0</td>\n",
       "      <td>...</td>\n",
       "      <td>1.0</td>\n",
       "      <td>1.0</td>\n",
       "      <td>1.0</td>\n",
       "      <td>1.0</td>\n",
       "      <td>1.0</td>\n",
       "      <td>1.0</td>\n",
       "      <td>1.0</td>\n",
       "      <td>1.0</td>\n",
       "      <td>1.0</td>\n",
       "      <td>1.0</td>\n",
       "    </tr>\n",
       "    <tr>\n",
       "      <th>1</th>\n",
       "      <td>1.0</td>\n",
       "      <td>1.0</td>\n",
       "      <td>01122017</td>\n",
       "      <td>01</td>\n",
       "      <td>12</td>\n",
       "      <td>2017</td>\n",
       "      <td>1100.0</td>\n",
       "      <td>2017000002</td>\n",
       "      <td>2.017000e+09</td>\n",
       "      <td>1.0</td>\n",
       "      <td>...</td>\n",
       "      <td>1.0</td>\n",
       "      <td>1.0</td>\n",
       "      <td>1.0</td>\n",
       "      <td>1.0</td>\n",
       "      <td>1.0</td>\n",
       "      <td>1.0</td>\n",
       "      <td>1.0</td>\n",
       "      <td>1.0</td>\n",
       "      <td>1.0</td>\n",
       "      <td>1.0</td>\n",
       "    </tr>\n",
       "    <tr>\n",
       "      <th>2</th>\n",
       "      <td>1.0</td>\n",
       "      <td>1.0</td>\n",
       "      <td>01102017</td>\n",
       "      <td>01</td>\n",
       "      <td>10</td>\n",
       "      <td>2017</td>\n",
       "      <td>1100.0</td>\n",
       "      <td>2017000003</td>\n",
       "      <td>2.017000e+09</td>\n",
       "      <td>1.0</td>\n",
       "      <td>...</td>\n",
       "      <td>3.0</td>\n",
       "      <td>2.0</td>\n",
       "      <td>2.0</td>\n",
       "      <td>4.0</td>\n",
       "      <td>2.0</td>\n",
       "      <td>1.0</td>\n",
       "      <td>1.0</td>\n",
       "      <td>1.0</td>\n",
       "      <td>1.0</td>\n",
       "      <td>2.0</td>\n",
       "    </tr>\n",
       "    <tr>\n",
       "      <th>3</th>\n",
       "      <td>1.0</td>\n",
       "      <td>1.0</td>\n",
       "      <td>02082017</td>\n",
       "      <td>02</td>\n",
       "      <td>08</td>\n",
       "      <td>2017</td>\n",
       "      <td>1200.0</td>\n",
       "      <td>2017000004</td>\n",
       "      <td>2.017000e+09</td>\n",
       "      <td>1.0</td>\n",
       "      <td>...</td>\n",
       "      <td>9.0</td>\n",
       "      <td>9.0</td>\n",
       "      <td>9.0</td>\n",
       "      <td>9.0</td>\n",
       "      <td>9.0</td>\n",
       "      <td>9.0</td>\n",
       "      <td>9.0</td>\n",
       "      <td>9.0</td>\n",
       "      <td>9.0</td>\n",
       "      <td>NaN</td>\n",
       "    </tr>\n",
       "    <tr>\n",
       "      <th>4</th>\n",
       "      <td>1.0</td>\n",
       "      <td>1.0</td>\n",
       "      <td>01302017</td>\n",
       "      <td>01</td>\n",
       "      <td>30</td>\n",
       "      <td>2017</td>\n",
       "      <td>1100.0</td>\n",
       "      <td>2017000005</td>\n",
       "      <td>2.017000e+09</td>\n",
       "      <td>1.0</td>\n",
       "      <td>...</td>\n",
       "      <td>3.0</td>\n",
       "      <td>2.0</td>\n",
       "      <td>2.0</td>\n",
       "      <td>4.0</td>\n",
       "      <td>2.0</td>\n",
       "      <td>1.0</td>\n",
       "      <td>2.0</td>\n",
       "      <td>2.0</td>\n",
       "      <td>2.0</td>\n",
       "      <td>2.0</td>\n",
       "    </tr>\n",
       "  </tbody>\n",
       "</table>\n",
       "<p>5 rows × 358 columns</p>\n",
       "</div>"
      ],
      "text/plain": [
       "   _STATE  FMONTH     IDATE IMONTH IDAY IYEAR  DISPCODE       SEQNO  \\\n",
       "0     1.0     1.0  01302017     01   30  2017    1100.0  2017000001   \n",
       "1     1.0     1.0  01122017     01   12  2017    1100.0  2017000002   \n",
       "2     1.0     1.0  01102017     01   10  2017    1100.0  2017000003   \n",
       "3     1.0     1.0  02082017     02   08  2017    1200.0  2017000004   \n",
       "4     1.0     1.0  01302017     01   30  2017    1100.0  2017000005   \n",
       "\n",
       "           _PSU  CTELENM1  ...  _PA300R2  _PA30021  _PASTRNG  _PAREC1  \\\n",
       "0  2.017000e+09       1.0  ...       1.0       1.0       1.0      1.0   \n",
       "1  2.017000e+09       1.0  ...       1.0       1.0       1.0      1.0   \n",
       "2  2.017000e+09       1.0  ...       3.0       2.0       2.0      4.0   \n",
       "3  2.017000e+09       1.0  ...       9.0       9.0       9.0      9.0   \n",
       "4  2.017000e+09       1.0  ...       3.0       2.0       2.0      4.0   \n",
       "\n",
       "   _PASTAE1  _RFSEAT2  _RFSEAT3  _FLSHOT6  _PNEUMO2  _AIDTST3  \n",
       "0       1.0       1.0       1.0       1.0       1.0       1.0  \n",
       "1       1.0       1.0       1.0       1.0       1.0       1.0  \n",
       "2       2.0       1.0       1.0       1.0       1.0       2.0  \n",
       "3       9.0       9.0       9.0       9.0       9.0       NaN  \n",
       "4       2.0       1.0       2.0       2.0       2.0       2.0  \n",
       "\n",
       "[5 rows x 358 columns]"
      ]
     },
     "execution_count": 6,
     "metadata": {},
     "output_type": "execute_result"
    }
   ],
   "source": [
    "# check the dataframe\n",
    "df.head()"
   ]
  },
  {
   "cell_type": "code",
   "execution_count": 7,
   "id": "235d7bfd",
   "metadata": {},
   "outputs": [],
   "source": [
    "# select columns for analysis after screening through the codebook\n",
    "df_sel = df[['DIABETE3','_BMI5', 'PHYSHLTH','MENTHLTH', '_MICHD', '_RFCHOL1', '_RFHYPE5', 'PA1VIGM_', '_RFDRHV5', '_RFSMOK3', '_INCOMG', '_EDUCAG', 'SEX', '_AGE65YR']]"
   ]
  },
  {
   "cell_type": "code",
   "execution_count": 8,
   "id": "57daec19",
   "metadata": {
    "scrolled": true
   },
   "outputs": [
    {
     "data": {
      "text/html": [
       "<div>\n",
       "<style scoped>\n",
       "    .dataframe tbody tr th:only-of-type {\n",
       "        vertical-align: middle;\n",
       "    }\n",
       "\n",
       "    .dataframe tbody tr th {\n",
       "        vertical-align: top;\n",
       "    }\n",
       "\n",
       "    .dataframe thead th {\n",
       "        text-align: right;\n",
       "    }\n",
       "</style>\n",
       "<table border=\"1\" class=\"dataframe\">\n",
       "  <thead>\n",
       "    <tr style=\"text-align: right;\">\n",
       "      <th></th>\n",
       "      <th>DIABETE3</th>\n",
       "      <th>_BMI5</th>\n",
       "      <th>PHYSHLTH</th>\n",
       "      <th>MENTHLTH</th>\n",
       "      <th>_MICHD</th>\n",
       "      <th>_RFCHOL1</th>\n",
       "      <th>_RFHYPE5</th>\n",
       "      <th>PA1VIGM_</th>\n",
       "      <th>_RFDRHV5</th>\n",
       "      <th>_RFSMOK3</th>\n",
       "      <th>_INCOMG</th>\n",
       "      <th>_EDUCAG</th>\n",
       "      <th>SEX</th>\n",
       "      <th>_AGE65YR</th>\n",
       "    </tr>\n",
       "  </thead>\n",
       "  <tbody>\n",
       "    <tr>\n",
       "      <th>0</th>\n",
       "      <td>1.0</td>\n",
       "      <td>2696.0</td>\n",
       "      <td>88.0</td>\n",
       "      <td>88.0</td>\n",
       "      <td>2.0</td>\n",
       "      <td>2.0</td>\n",
       "      <td>2.0</td>\n",
       "      <td>1.800000e+02</td>\n",
       "      <td>1.0</td>\n",
       "      <td>1.0</td>\n",
       "      <td>4.0</td>\n",
       "      <td>4.0</td>\n",
       "      <td>2.0</td>\n",
       "      <td>2.0</td>\n",
       "    </tr>\n",
       "    <tr>\n",
       "      <th>1</th>\n",
       "      <td>3.0</td>\n",
       "      <td>2943.0</td>\n",
       "      <td>88.0</td>\n",
       "      <td>88.0</td>\n",
       "      <td>2.0</td>\n",
       "      <td>1.0</td>\n",
       "      <td>2.0</td>\n",
       "      <td>5.397605e-79</td>\n",
       "      <td>1.0</td>\n",
       "      <td>1.0</td>\n",
       "      <td>5.0</td>\n",
       "      <td>4.0</td>\n",
       "      <td>1.0</td>\n",
       "      <td>2.0</td>\n",
       "    </tr>\n",
       "    <tr>\n",
       "      <th>2</th>\n",
       "      <td>3.0</td>\n",
       "      <td>2504.0</td>\n",
       "      <td>88.0</td>\n",
       "      <td>88.0</td>\n",
       "      <td>2.0</td>\n",
       "      <td>2.0</td>\n",
       "      <td>1.0</td>\n",
       "      <td>NaN</td>\n",
       "      <td>1.0</td>\n",
       "      <td>1.0</td>\n",
       "      <td>9.0</td>\n",
       "      <td>1.0</td>\n",
       "      <td>1.0</td>\n",
       "      <td>2.0</td>\n",
       "    </tr>\n",
       "    <tr>\n",
       "      <th>3</th>\n",
       "      <td>1.0</td>\n",
       "      <td>2663.0</td>\n",
       "      <td>88.0</td>\n",
       "      <td>88.0</td>\n",
       "      <td>2.0</td>\n",
       "      <td>2.0</td>\n",
       "      <td>2.0</td>\n",
       "      <td>NaN</td>\n",
       "      <td>1.0</td>\n",
       "      <td>1.0</td>\n",
       "      <td>1.0</td>\n",
       "      <td>1.0</td>\n",
       "      <td>2.0</td>\n",
       "      <td>2.0</td>\n",
       "    </tr>\n",
       "    <tr>\n",
       "      <th>4</th>\n",
       "      <td>3.0</td>\n",
       "      <td>2330.0</td>\n",
       "      <td>14.0</td>\n",
       "      <td>88.0</td>\n",
       "      <td>2.0</td>\n",
       "      <td>1.0</td>\n",
       "      <td>1.0</td>\n",
       "      <td>NaN</td>\n",
       "      <td>1.0</td>\n",
       "      <td>1.0</td>\n",
       "      <td>1.0</td>\n",
       "      <td>1.0</td>\n",
       "      <td>2.0</td>\n",
       "      <td>2.0</td>\n",
       "    </tr>\n",
       "  </tbody>\n",
       "</table>\n",
       "</div>"
      ],
      "text/plain": [
       "   DIABETE3   _BMI5  PHYSHLTH  MENTHLTH  _MICHD  _RFCHOL1  _RFHYPE5  \\\n",
       "0       1.0  2696.0      88.0      88.0     2.0       2.0       2.0   \n",
       "1       3.0  2943.0      88.0      88.0     2.0       1.0       2.0   \n",
       "2       3.0  2504.0      88.0      88.0     2.0       2.0       1.0   \n",
       "3       1.0  2663.0      88.0      88.0     2.0       2.0       2.0   \n",
       "4       3.0  2330.0      14.0      88.0     2.0       1.0       1.0   \n",
       "\n",
       "       PA1VIGM_  _RFDRHV5  _RFSMOK3  _INCOMG  _EDUCAG  SEX  _AGE65YR  \n",
       "0  1.800000e+02       1.0       1.0      4.0      4.0  2.0       2.0  \n",
       "1  5.397605e-79       1.0       1.0      5.0      4.0  1.0       2.0  \n",
       "2           NaN       1.0       1.0      9.0      1.0  1.0       2.0  \n",
       "3           NaN       1.0       1.0      1.0      1.0  2.0       2.0  \n",
       "4           NaN       1.0       1.0      1.0      1.0  2.0       2.0  "
      ]
     },
     "execution_count": 8,
     "metadata": {},
     "output_type": "execute_result"
    }
   ],
   "source": [
    "df_sel.head()"
   ]
  },
  {
   "cell_type": "code",
   "execution_count": 9,
   "id": "f7ac3dd0",
   "metadata": {},
   "outputs": [
    {
     "data": {
      "text/plain": [
       "DIABETE3    248488\n",
       "_BMI5       248488\n",
       "PHYSHLTH    248488\n",
       "MENTHLTH    248488\n",
       "_MICHD      248488\n",
       "_RFCHOL1    248488\n",
       "_RFHYPE5    248488\n",
       "PA1VIGM_    248488\n",
       "_RFDRHV5    248488\n",
       "_RFSMOK3    248488\n",
       "_INCOMG     248488\n",
       "_EDUCAG     248488\n",
       "SEX         248488\n",
       "_AGE65YR    248488\n",
       "dtype: int64"
      ]
     },
     "execution_count": 9,
     "metadata": {},
     "output_type": "execute_result"
    }
   ],
   "source": [
    "# drop missing values\n",
    "df_sel = df_sel.dropna()\n",
    "df_sel.count()"
   ]
  },
  {
   "cell_type": "markdown",
   "id": "58c2e7cf-59b7-433e-a203-d7f6a1280f82",
   "metadata": {},
   "source": [
    "#### After dropping all the rows contains NA or Blanks, we got 239324 samples in the data frame."
   ]
  },
  {
   "cell_type": "code",
   "execution_count": 10,
   "id": "6ac2b28f",
   "metadata": {},
   "outputs": [],
   "source": [
    "## DIABETE3 - check,replace,remove\n",
    " # remove 7(don't know) and 9(refused)\n",
    " # change order and scale\n",
    "  # 1 >> 1 (Yes diabetes)\n",
    "  # 2 >> 1 (Yes Pre- or borderline diabetes)\n",
    "  # 3 >> 0 (No)\n",
    "  # 4 >> 1 (Yes Pre- or borderline diabetes)\n",
    "df_sel['DIABETE3'].value_counts()\n",
    "df_sel = df_sel[df_sel['DIABETE3'] != 7]\n",
    "df_sel = df_sel[df_sel['DIABETE3'] != 9]\n",
    "df_sel['DIABETE3'] = df_sel['DIABETE3'].astype(int)\n",
    "df_sel['DIABETE3'].replace({1:1,2:1,3:0,4:1},inplace=True)"
   ]
  },
  {
   "cell_type": "code",
   "execution_count": 11,
   "id": "018c870e-7caa-463f-a51c-ca36c5e64c20",
   "metadata": {},
   "outputs": [
    {
     "data": {
      "text/plain": [
       "0    212672\n",
       "1     35629\n",
       "Name: DIABETE3, dtype: int64"
      ]
     },
     "execution_count": 11,
     "metadata": {},
     "output_type": "execute_result"
    }
   ],
   "source": [
    "df_sel['DIABETE3'].value_counts()"
   ]
  },
  {
   "cell_type": "code",
   "execution_count": 12,
   "id": "80e42633-c1bf-41ba-9b8f-c96d576fafcb",
   "metadata": {},
   "outputs": [
    {
     "data": {
      "text/plain": [
       "26.63    3123\n",
       "27.46    2330\n",
       "24.41    2260\n",
       "27.44    2154\n",
       "27.12    1938\n",
       "         ... \n",
       "40.36       1\n",
       "53.91       1\n",
       "33.56       1\n",
       "45.25       1\n",
       "58.54       1\n",
       "Name: _BMI5, Length: 3183, dtype: int64"
      ]
     },
     "execution_count": 12,
     "metadata": {},
     "output_type": "execute_result"
    }
   ],
   "source": [
    "##  _BMI5 - check,replace,remove\n",
    " # THe original value is BMI * 100. Therefore, divide every value with 100\n",
    "df_sel['_BMI5'] = df_sel['_BMI5'].div(100)\n",
    "df_sel['_BMI5'].value_counts()"
   ]
  },
  {
   "cell_type": "code",
   "execution_count": 13,
   "id": "5f1b626b-e4e5-4835-b803-16f3bba14be6",
   "metadata": {},
   "outputs": [
    {
     "data": {
      "text/plain": [
       "0.0     161929\n",
       "2.0      15167\n",
       "30.0     12906\n",
       "1.0      11466\n",
       "3.0       8438\n",
       "5.0       7217\n",
       "10.0      4942\n",
       "7.0       4373\n",
       "4.0       4329\n",
       "15.0      4042\n",
       "20.0      2501\n",
       "14.0      2375\n",
       "6.0       1191\n",
       "25.0       945\n",
       "8.0        725\n",
       "12.0       524\n",
       "21.0       471\n",
       "28.0       329\n",
       "9.0        158\n",
       "29.0       157\n",
       "18.0       149\n",
       "16.0       104\n",
       "27.0        84\n",
       "13.0        78\n",
       "17.0        76\n",
       "11.0        64\n",
       "22.0        62\n",
       "26.0        54\n",
       "24.0        49\n",
       "23.0        33\n",
       "19.0        17\n",
       "Name: PHYSHLTH, dtype: int64"
      ]
     },
     "execution_count": 13,
     "metadata": {},
     "output_type": "execute_result"
    }
   ],
   "source": [
    "## PHYSHLTH - check,replace,remove\n",
    " # change 88 to 0 (no bad physical health days)\n",
    " # remove 77(don't know) and 99(refused)\n",
    "df_sel = df_sel[df_sel['PHYSHLTH'] != 77]\n",
    "df_sel = df_sel[df_sel['PHYSHLTH'] != 99]\n",
    "df_sel['PHYSHLTH'] = df_sel['PHYSHLTH'].replace({88:0})    \n",
    "df_sel['PHYSHLTH'].value_counts()"
   ]
  },
  {
   "cell_type": "code",
   "execution_count": 14,
   "id": "3483b641-327e-4c47-b9c7-85a4e3b7ba73",
   "metadata": {},
   "outputs": [
    {
     "data": {
      "text/plain": [
       "0.0     169123\n",
       "2.0      12873\n",
       "30.0      9589\n",
       "1.0       8725\n",
       "5.0       8627\n",
       "3.0       7370\n",
       "10.0      6005\n",
       "15.0      5144\n",
       "4.0       3615\n",
       "7.0       3271\n",
       "20.0      3025\n",
       "14.0      1123\n",
       "6.0       1039\n",
       "25.0       986\n",
       "8.0        634\n",
       "12.0       413\n",
       "28.0       281\n",
       "21.0       181\n",
       "29.0       146\n",
       "18.0       113\n",
       "16.0        95\n",
       "9.0         94\n",
       "27.0        79\n",
       "13.0        72\n",
       "17.0        70\n",
       "22.0        62\n",
       "11.0        52\n",
       "24.0        43\n",
       "26.0        37\n",
       "23.0        35\n",
       "19.0        12\n",
       "Name: MENTHLTH, dtype: int64"
      ]
     },
     "execution_count": 14,
     "metadata": {},
     "output_type": "execute_result"
    }
   ],
   "source": [
    "## MENTHLTH - check,replace,remove\n",
    " # change 88 to 0 (no bad mental health days)\n",
    " # remove 77(don't know) and 99(refused)\n",
    "df_sel = df_sel[df_sel['MENTHLTH'] != 77]\n",
    "df_sel = df_sel[df_sel['MENTHLTH'] != 99]\n",
    "df_sel['MENTHLTH'] = df_sel['MENTHLTH'].replace({88:0})    \n",
    "df_sel['MENTHLTH'].value_counts()"
   ]
  },
  {
   "cell_type": "code",
   "execution_count": 15,
   "id": "5d783397-7a1c-46f8-8ae6-392c77cd7f49",
   "metadata": {},
   "outputs": [
    {
     "data": {
      "text/plain": [
       "0    223657\n",
       "1     19277\n",
       "Name: _MICHD, dtype: int64"
      ]
     },
     "execution_count": 15,
     "metadata": {},
     "output_type": "execute_result"
    }
   ],
   "source": [
    "## _MICHD - check,replace,remove\n",
    " # change order, scale\n",
    "  # 1 >> 1 (Reported having MI or CHD)\n",
    "  # 2 >> 0 (Did not report having MI or CHD)\n",
    "df_sel['_MICHD'].replace({1:1,2:0},inplace=True)\n",
    "df_sel['_MICHD'] = df_sel['_MICHD'].astype(int)\n",
    "df_sel['_MICHD'].value_counts()"
   ]
  },
  {
   "cell_type": "code",
   "execution_count": 16,
   "id": "3abd552a-5fcc-45f4-b0c3-55a188f945ac",
   "metadata": {},
   "outputs": [
    {
     "data": {
      "text/plain": [
       "0    151570\n",
       "1     91364\n",
       "Name: _RFCHOL1, dtype: int64"
      ]
     },
     "execution_count": 16,
     "metadata": {},
     "output_type": "execute_result"
    }
   ],
   "source": [
    "## _RFCHOL1 - check,replace,remove\n",
    " # change order, scale\n",
    "  # 1 >> 0 (No)\n",
    "  # 2 >> 1 (Yes)\n",
    "df_sel['_RFCHOL1'].replace({1:0,2:1},inplace=True)  \n",
    "df_sel['_RFCHOL1'] = df_sel['_RFCHOL1'].astype(int)\n",
    "df_sel['_RFCHOL1'].value_counts()"
   ]
  },
  {
   "cell_type": "code",
   "execution_count": 17,
   "id": "8f2b5662-0e05-4df7-99b3-75fb90f81adc",
   "metadata": {},
   "outputs": [
    {
     "data": {
      "text/plain": [
       "0    147714\n",
       "1     94886\n",
       "Name: _RFHYPE5, dtype: int64"
      ]
     },
     "execution_count": 17,
     "metadata": {},
     "output_type": "execute_result"
    }
   ],
   "source": [
    "## _RFHYPE5 - check,replace,remove\n",
    " # removing 9(don't know)\n",
    " # change order, scale\n",
    "  # 1 >> 0 (No)\n",
    "  # 2 >> 1 (Yes)\n",
    "df_sel=df_sel[df_sel['_RFHYPE5'] != 9]\n",
    "df_sel['_RFHYPE5'].replace({1:0,2:1},inplace=True) \n",
    "df_sel['_RFHYPE5'] = df_sel['_RFHYPE5'].astype(int)\n",
    "df_sel['_RFHYPE5'].value_counts()"
   ]
  },
  {
   "cell_type": "code",
   "execution_count": 18,
   "id": "e9da970c-ecb6-49ef-b417-2ba087e4bf40",
   "metadata": {},
   "outputs": [
    {
     "data": {
      "text/plain": [
       "0.0       127095\n",
       "120.0       7045\n",
       "180.0       6734\n",
       "60.0        6577\n",
       "90.0        5296\n",
       "           ...  \n",
       "3115.0         1\n",
       "502.0          1\n",
       "1321.0         1\n",
       "879.0          1\n",
       "2920.0         1\n",
       "Name: PA1VIGM_, Length: 1536, dtype: int64"
      ]
     },
     "execution_count": 18,
     "metadata": {},
     "output_type": "execute_result"
    }
   ],
   "source": [
    "## PA1VIGM_ - check,replace,remove\n",
    "df_sel['PA1VIGM_'] = df_sel['PA1VIGM_'].round(0)\n",
    "df_sel['PA1VIGM_'].value_counts()"
   ]
  },
  {
   "cell_type": "code",
   "execution_count": 19,
   "id": "dad775d4-41ee-4ad6-8de0-8cce0a4303c6",
   "metadata": {
    "tags": []
   },
   "outputs": [
    {
     "data": {
      "text/plain": [
       "0    224968\n",
       "1     14506\n",
       "Name: _RFDRHV5, dtype: int64"
      ]
     },
     "execution_count": 19,
     "metadata": {},
     "output_type": "execute_result"
    }
   ],
   "source": [
    "## _RFDRHV5 - check,replace,remove\n",
    "  # 1 >> 0 (Not a heavy Drinker)\n",
    "  # 2 >> 1 (Is Heavy Drinker)\n",
    "  # Remove 9 >> (Don't know)\n",
    "df_sel = df_sel[df_sel['_RFDRHV5'] != 9]\n",
    "df_sel['_RFDRHV5'].replace({1:0,2:1},inplace=True)\n",
    "df_sel['_RFDRHV5'] = df_sel['_RFDRHV5'].astype(int)\n",
    "df_sel['_RFDRHV5'].value_counts()"
   ]
  },
  {
   "cell_type": "code",
   "execution_count": 20,
   "id": "5c95dc27-38ff-494c-8404-219e604c3295",
   "metadata": {},
   "outputs": [
    {
     "data": {
      "text/plain": [
       "0    210694\n",
       "1     27814\n",
       "Name: _RFSMOK3, dtype: int64"
      ]
     },
     "execution_count": 20,
     "metadata": {},
     "output_type": "execute_result"
    }
   ],
   "source": [
    "##  _RFSMOK3 - check,replace,remove\n",
    " # removing 9(don't know)\n",
    " # change order, scale\n",
    "  # 1 >> 0 (No)\n",
    "  # 2 >> 1 (Yes)\n",
    "df_sel=df_sel[df_sel['_RFSMOK3'] != 9]\n",
    "df_sel['_RFSMOK3'].replace({1:0,2:1},inplace=True) \n",
    "df_sel['_RFSMOK3'] = df_sel['_RFSMOK3'].astype(int)\n",
    "df_sel['_RFSMOK3'].value_counts()"
   ]
  },
  {
   "cell_type": "code",
   "execution_count": 21,
   "id": "8a858207-17ba-4bb5-a82e-b253cf36d853",
   "metadata": {},
   "outputs": [
    {
     "data": {
      "text/plain": [
       "1    120770\n",
       "0     90896\n",
       "Name: _INCOMG, dtype: int64"
      ]
     },
     "execution_count": 21,
     "metadata": {},
     "output_type": "execute_result"
    }
   ],
   "source": [
    "##  _INCOMG - check,replace,remove\n",
    " # removing 9(don't know)\n",
    " # change order, scale\n",
    " # 1,2,3,4 ->> 0 (<$50,000)\n",
    " # 5 ->> 1 (>=$50,000)\n",
    "df_sel=df_sel[df_sel['_INCOMG'] != 9]\n",
    "df_sel['_INCOMG'].replace({1:0,2:0,3:0,4:0,5:1},inplace=True) \n",
    "df_sel['_INCOMG'] = df_sel['_INCOMG'].astype(int)\n",
    "df_sel['_INCOMG'].value_counts()"
   ]
  },
  {
   "cell_type": "code",
   "execution_count": 22,
   "id": "2cab32d1-bd1c-414b-9a2d-0484548f482c",
   "metadata": {},
   "outputs": [
    {
     "data": {
      "text/plain": [
       "0    112150\n",
       "1     99360\n",
       "Name: _EDUCAG, dtype: int64"
      ]
     },
     "execution_count": 22,
     "metadata": {},
     "output_type": "execute_result"
    }
   ],
   "source": [
    "##  _EDUCAG - check,replace,remove\n",
    " # removing 9(don't know)\n",
    " # 1,2,3 ->> 0 (have not graduated college or technical school)\n",
    " # 4 ->> 1 (have graduated college or technical school)\n",
    "df_sel=df_sel[df_sel['_EDUCAG'] != 9]\n",
    "df_sel['_EDUCAG'].replace({1:0,2:0,3:0,4:1},inplace=True) \n",
    "df_sel['_EDUCAG'] = df_sel['_EDUCAG'].astype(int)\n",
    "df_sel['_EDUCAG'].value_counts()"
   ]
  },
  {
   "cell_type": "code",
   "execution_count": 23,
   "id": "42e92886",
   "metadata": {},
   "outputs": [
    {
     "data": {
      "text/plain": [
       "1    112031\n",
       "0     99479\n",
       "Name: SEX, dtype: int64"
      ]
     },
     "execution_count": 23,
     "metadata": {},
     "output_type": "execute_result"
    }
   ],
   "source": [
    "## SEX - check,replace,remove\n",
    "  #  1 ->> 0 male\n",
    "  #  2 ->> 1 female\n",
    "  #  9 ->> refused (remove)\n",
    "df_sel=df_sel[df_sel['SEX'] != 9]\n",
    "df_sel['SEX'] = df_sel['SEX'].astype(int)\n",
    "df_sel['SEX'].replace({1:0,2:1},inplace=True) \n",
    "df_sel['SEX'].value_counts()"
   ]
  },
  {
   "cell_type": "code",
   "execution_count": 24,
   "id": "3a6d779c",
   "metadata": {},
   "outputs": [
    {
     "data": {
      "text/plain": [
       "0    139409\n",
       "1     72101\n",
       "Name: _AGE65YR, dtype: int64"
      ]
     },
     "execution_count": 24,
     "metadata": {},
     "output_type": "execute_result"
    }
   ],
   "source": [
    "## _AGE65YR - check,replace,remove\n",
    "  #  1 ->> 0 18-64\n",
    "  #  2 ->> 1 >=65\n",
    "  #  3 ->> unknown (remove)\n",
    "df_sel=df_sel[df_sel['_AGE65YR'] != 3]\n",
    "df_sel['_AGE65YR'] = df_sel['_AGE65YR'].astype(int)\n",
    "df_sel['_AGE65YR'].replace({1:0,2:1},inplace=True) \n",
    "df_sel['_AGE65YR'].value_counts()"
   ]
  },
  {
   "cell_type": "code",
   "execution_count": 25,
   "id": "8b157d8e",
   "metadata": {},
   "outputs": [
    {
     "data": {
      "text/plain": [
       "0    181714\n",
       "1     29796\n",
       "Name: DIABETE3, dtype: int64"
      ]
     },
     "execution_count": 25,
     "metadata": {},
     "output_type": "execute_result"
    }
   ],
   "source": [
    "df_sel['DIABETE3'].value_counts()"
   ]
  },
  {
   "cell_type": "code",
   "execution_count": 26,
   "id": "bbd3b057",
   "metadata": {},
   "outputs": [
    {
     "data": {
      "text/html": [
       "<div>\n",
       "<style scoped>\n",
       "    .dataframe tbody tr th:only-of-type {\n",
       "        vertical-align: middle;\n",
       "    }\n",
       "\n",
       "    .dataframe tbody tr th {\n",
       "        vertical-align: top;\n",
       "    }\n",
       "\n",
       "    .dataframe thead th {\n",
       "        text-align: right;\n",
       "    }\n",
       "</style>\n",
       "<table border=\"1\" class=\"dataframe\">\n",
       "  <thead>\n",
       "    <tr style=\"text-align: right;\">\n",
       "      <th></th>\n",
       "      <th>DIABETE3</th>\n",
       "      <th>_BMI5</th>\n",
       "      <th>PHYSHLTH</th>\n",
       "      <th>MENTHLTH</th>\n",
       "      <th>_MICHD</th>\n",
       "      <th>_RFCHOL1</th>\n",
       "      <th>_RFHYPE5</th>\n",
       "      <th>PA1VIGM_</th>\n",
       "      <th>_RFDRHV5</th>\n",
       "      <th>_RFSMOK3</th>\n",
       "      <th>_INCOMG</th>\n",
       "      <th>_EDUCAG</th>\n",
       "      <th>SEX</th>\n",
       "      <th>_AGE65YR</th>\n",
       "    </tr>\n",
       "  </thead>\n",
       "  <tbody>\n",
       "    <tr>\n",
       "      <th>0</th>\n",
       "      <td>1</td>\n",
       "      <td>26.96</td>\n",
       "      <td>0.0</td>\n",
       "      <td>0.0</td>\n",
       "      <td>0</td>\n",
       "      <td>1</td>\n",
       "      <td>1</td>\n",
       "      <td>180.0</td>\n",
       "      <td>0</td>\n",
       "      <td>0</td>\n",
       "      <td>0</td>\n",
       "      <td>1</td>\n",
       "      <td>1</td>\n",
       "      <td>1</td>\n",
       "    </tr>\n",
       "    <tr>\n",
       "      <th>1</th>\n",
       "      <td>0</td>\n",
       "      <td>29.43</td>\n",
       "      <td>0.0</td>\n",
       "      <td>0.0</td>\n",
       "      <td>0</td>\n",
       "      <td>0</td>\n",
       "      <td>1</td>\n",
       "      <td>0.0</td>\n",
       "      <td>0</td>\n",
       "      <td>0</td>\n",
       "      <td>1</td>\n",
       "      <td>1</td>\n",
       "      <td>0</td>\n",
       "      <td>1</td>\n",
       "    </tr>\n",
       "    <tr>\n",
       "      <th>5</th>\n",
       "      <td>0</td>\n",
       "      <td>27.34</td>\n",
       "      <td>6.0</td>\n",
       "      <td>0.0</td>\n",
       "      <td>1</td>\n",
       "      <td>0</td>\n",
       "      <td>1</td>\n",
       "      <td>60.0</td>\n",
       "      <td>0</td>\n",
       "      <td>1</td>\n",
       "      <td>0</td>\n",
       "      <td>0</td>\n",
       "      <td>0</td>\n",
       "      <td>1</td>\n",
       "    </tr>\n",
       "    <tr>\n",
       "      <th>9</th>\n",
       "      <td>0</td>\n",
       "      <td>27.12</td>\n",
       "      <td>2.0</td>\n",
       "      <td>1.0</td>\n",
       "      <td>0</td>\n",
       "      <td>0</td>\n",
       "      <td>1</td>\n",
       "      <td>0.0</td>\n",
       "      <td>0</td>\n",
       "      <td>0</td>\n",
       "      <td>0</td>\n",
       "      <td>0</td>\n",
       "      <td>0</td>\n",
       "      <td>0</td>\n",
       "    </tr>\n",
       "    <tr>\n",
       "      <th>12</th>\n",
       "      <td>1</td>\n",
       "      <td>23.03</td>\n",
       "      <td>5.0</td>\n",
       "      <td>0.0</td>\n",
       "      <td>0</td>\n",
       "      <td>1</td>\n",
       "      <td>1</td>\n",
       "      <td>125.0</td>\n",
       "      <td>0</td>\n",
       "      <td>0</td>\n",
       "      <td>0</td>\n",
       "      <td>0</td>\n",
       "      <td>1</td>\n",
       "      <td>1</td>\n",
       "    </tr>\n",
       "  </tbody>\n",
       "</table>\n",
       "</div>"
      ],
      "text/plain": [
       "    DIABETE3  _BMI5  PHYSHLTH  MENTHLTH  _MICHD  _RFCHOL1  _RFHYPE5  PA1VIGM_  \\\n",
       "0          1  26.96       0.0       0.0       0         1         1     180.0   \n",
       "1          0  29.43       0.0       0.0       0         0         1       0.0   \n",
       "5          0  27.34       6.0       0.0       1         0         1      60.0   \n",
       "9          0  27.12       2.0       1.0       0         0         1       0.0   \n",
       "12         1  23.03       5.0       0.0       0         1         1     125.0   \n",
       "\n",
       "    _RFDRHV5  _RFSMOK3  _INCOMG  _EDUCAG  SEX  _AGE65YR  \n",
       "0          0         0        0        1    1         1  \n",
       "1          0         0        1        1    0         1  \n",
       "5          0         1        0        0    0         1  \n",
       "9          0         0        0        0    0         0  \n",
       "12         0         0        0        0    1         1  "
      ]
     },
     "execution_count": 26,
     "metadata": {},
     "output_type": "execute_result"
    }
   ],
   "source": [
    "df_sel.head()"
   ]
  },
  {
   "cell_type": "code",
   "execution_count": 27,
   "id": "3f28a282-264e-409b-b9a3-488db2fd8572",
   "metadata": {},
   "outputs": [],
   "source": [
    "df_sel.columns = ['diabete', 'bmi', 'physhlth', 'menthlth', 'michd', 'hchol', 'hblpr', 'vpa'\n",
    "                  , 'hvdr', 'smok', 'incom50', 'cllgr','sex', 'age65']"
   ]
  },
  {
   "cell_type": "code",
   "execution_count": 28,
   "id": "aff696e5",
   "metadata": {},
   "outputs": [],
   "source": [
    "## save to CSV\n",
    "df_sel.to_csv('../data/2017_diabetes_cleaned.csv', index = False)"
   ]
  }
 ],
 "metadata": {
  "environment": {
   "kernel": "python3",
   "name": "common-cpu.m89",
   "type": "gcloud",
   "uri": "gcr.io/deeplearning-platform-release/base-cpu:m89"
  },
  "kernelspec": {
   "display_name": "Python 3",
   "language": "python",
   "name": "python3"
  },
  "language_info": {
   "codemirror_mode": {
    "name": "ipython",
    "version": 3
   },
   "file_extension": ".py",
   "mimetype": "text/x-python",
   "name": "python",
   "nbconvert_exporter": "python",
   "pygments_lexer": "ipython3",
   "version": "3.7.12"
  }
 },
 "nbformat": 4,
 "nbformat_minor": 5
}
