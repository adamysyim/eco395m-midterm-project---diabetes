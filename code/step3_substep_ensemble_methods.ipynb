{
 "cells": [
  {
   "cell_type": "code",
   "execution_count": 1,
   "id": "a9b051f9-3384-4480-9318-e27d79819761",
   "metadata": {},
   "outputs": [],
   "source": [
    "#import packages\n",
    "import pandas as pd\n",
    "from sklearn import model_selection\n",
    "from sklearn.model_selection import train_test_split\n",
    "import matplotlib.pyplot as plt\n",
    "from sklearn.ensemble import BaggingClassifier\n",
    "from sklearn.tree import DecisionTreeClassifier \n",
    "from sklearn.ensemble import RandomForestClassifier\n",
    "from sklearn.metrics import confusion_matrix, accuracy_score, classification_report\n",
    "import seaborn as sns"
   ]
  },
  {
   "cell_type": "code",
   "execution_count": 2,
   "id": "083c6a64-8a42-424d-84f7-b59bf92fbee9",
   "metadata": {},
   "outputs": [],
   "source": [
    "#import the data files\n",
    "df = pd.read_csv('../data/2017_diabetes_cleaned_vld.csv')\n"
   ]
  },
  {
   "cell_type": "code",
   "execution_count": 3,
   "id": "c2ef8a14-c26a-429d-81b8-3b01d0416ea5",
   "metadata": {},
   "outputs": [],
   "source": [
    "X = df[['bmi', 'physhlth', 'menthlth', 'michd', 'hchol', 'hblpr', 'vpa', \n",
    "        'hvdr', 'smok', 'incom50', 'cllgr','sex', 'age65']]   # independent variables\n",
    "y = df['diabete']   # dependent variable \n",
    "\n",
    "#splitting data into training and testing sets\n",
    "X_train, X_test, y_train, y_test = train_test_split(X, y, test_size=0.25, random_state=42)\n"
   ]
  },
  {
   "cell_type": "markdown",
   "id": "b51d1e72-5227-4b4c-9a39-1d8e11b21083",
   "metadata": {},
   "source": [
    "### Bootstrap Aggregating/ Bagging Classifier"
   ]
  },
  {
   "cell_type": "code",
   "execution_count": 4,
   "id": "36359fdd-6645-4a75-9688-d5159fab4b32",
   "metadata": {},
   "outputs": [],
   "source": [
    "tree = DecisionTreeClassifier()\n",
    "bagging_classifier = BaggingClassifier(base_estimator = tree, n_estimators = 1000, random_state = 42)\n",
    "bagging_classifier.fit(X_train, y_train)\n",
    "y_pred = bagging_classifier.predict(X_test)"
   ]
  },
  {
   "cell_type": "code",
   "execution_count": 5,
   "id": "63157d9a-2696-486d-9787-8203654a5431",
   "metadata": {},
   "outputs": [
    {
     "name": "stdout",
     "output_type": "stream",
     "text": [
      "[[43113  2182]\n",
      " [ 6191  1344]]\n"
     ]
    }
   ],
   "source": [
    "conf_matrix_bagging = confusion_matrix(y_test, y_pred)\n",
    "print(conf_matrix_bagging)"
   ]
  },
  {
   "cell_type": "code",
   "execution_count": 6,
   "id": "07867642-fec1-499a-a209-ba774c2feb70",
   "metadata": {},
   "outputs": [
    {
     "data": {
      "image/png": "[encoded data removed]",
      "text/plain": [
       "<Figure size 432x288 with 2 Axes>"
      ]
     },
     "metadata": {
      "needs_background": "light"
     },
     "output_type": "display_data"
    }
   ],
   "source": [
    "ax = sns.heatmap(conf_matrix_bagging, annot = True, cmap = 'Blues')\n",
    "\n",
    "ax.set_title('Confusion Matrix for Bagging model')\n",
    "ax.set_xlabel('Predicted Values')\n",
    "ax.set_ylabel('Actual Values')\n",
    "plt.show()"
   ]
  },
  {
   "cell_type": "code",
   "execution_count": 7,
   "id": "6f7506cd-41cc-4731-9638-f655ba82d962",
   "metadata": {},
   "outputs": [
    {
     "name": "stdout",
     "output_type": "stream",
     "text": [
      "Accuracy: 0.8415105053946621\n"
     ]
    }
   ],
   "source": [
    "accuracy = accuracy_score(y_test, y_pred)\n",
    "print('Accuracy:' ,accuracy)"
   ]
  },
  {
   "cell_type": "code",
   "execution_count": null,
   "id": "9a5f5136-994f-4d61-936b-62bc2ebe6e98",
   "metadata": {},
   "outputs": [],
   "source": []
  }
 ],
 "metadata": {
  "environment": {
   "kernel": "python3",
   "name": "common-cpu.m90",
   "type": "gcloud",
   "uri": "gcr.io/deeplearning-platform-release/base-cpu:m90"
  },
  "kernelspec": {
   "display_name": "Python 3",
   "language": "python",
   "name": "python3"
  },
  "language_info": {
   "codemirror_mode": {
    "name": "ipython",
    "version": 3
   },
   "file_extension": ".py",
   "mimetype": "text/x-python",
   "name": "python",
   "nbconvert_exporter": "python",
   "pygments_lexer": "ipython3",
   "version": "3.7.12"
  }
 },
 "nbformat": 4,
 "nbformat_minor": 5
}
