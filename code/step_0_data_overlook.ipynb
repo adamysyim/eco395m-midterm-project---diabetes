{
 "cells": [
  {
   "cell_type": "markdown",
   "id": "e89a983c-626a-46c8-b5a3-e54f46361397",
   "metadata": {},
   "source": [
    "## Data Overlook (for the Whole Original Dataset)"
   ]
  },
  {
   "cell_type": "markdown",
   "id": "f8c08198-3d93-4153-8368-3a551b005201",
   "metadata": {},
   "source": [
    "--------------"
   ]
  },
  {
   "cell_type": "code",
   "execution_count": 1,
   "id": "0b212e82-3105-48c4-b833-84c91cbd2172",
   "metadata": {},
   "outputs": [],
   "source": [
    "# Import the libraries\n",
    "import pandas as pd"
   ]
  },
  {
   "cell_type": "code",
   "execution_count": 2,
   "id": "1c3b5a77-60f6-48b5-b2d2-3c11d5f0460e",
   "metadata": {},
   "outputs": [
    {
     "name": "stderr",
     "output_type": "stream",
     "text": [
      "/opt/conda/lib/python3.7/site-packages/pandas/io/sas/sas_xport.py:475: PerformanceWarning: DataFrame is highly fragmented.  This is usually the result of calling `frame.insert` many times, which has poor performance.  Consider joining all columns at once using pd.concat(axis=1) instead.  To get a de-fragmented frame, use `newframe = frame.copy()`\n",
      "  df[x] = v\n"
     ]
    }
   ],
   "source": [
    "# Read in the dataset\n",
    "df = pd.read_sas('../data/LLCP2017.XPT', encoding='utf-8')\n",
    "#df = pd.read_csv('../data/2017_diabetes_cleaned.csv')"
   ]
  },
  {
   "cell_type": "markdown",
   "id": "b491195c-962f-4eb6-b00d-df2aa178b87a",
   "metadata": {},
   "source": [
    "------------------"
   ]
  },
  {
   "cell_type": "code",
   "execution_count": 3,
   "id": "8cde237e-0031-4ab7-ac76-f15c0c9de7d0",
   "metadata": {
    "tags": []
   },
   "outputs": [
    {
     "data": {
      "text/plain": [
       "(450016, 358)"
      ]
     },
     "execution_count": 3,
     "metadata": {},
     "output_type": "execute_result"
    }
   ],
   "source": [
    "# check number of rows and columns\n",
    "df.shape"
   ]
  },
  {
   "cell_type": "code",
   "execution_count": 4,
   "id": "07b99a87-3054-4af6-8f1a-6e88e2f9d2a1",
   "metadata": {},
   "outputs": [
    {
     "data": {
      "text/html": [
       "<div>\n",
       "<style scoped>\n",
       "    .dataframe tbody tr th:only-of-type {\n",
       "        vertical-align: middle;\n",
       "    }\n",
       "\n",
       "    .dataframe tbody tr th {\n",
       "        vertical-align: top;\n",
       "    }\n",
       "\n",
       "    .dataframe thead th {\n",
       "        text-align: right;\n",
       "    }\n",
       "</style>\n",
       "<table border=\"1\" class=\"dataframe\">\n",
       "  <thead>\n",
       "    <tr style=\"text-align: right;\">\n",
       "      <th></th>\n",
       "      <th>_STATE</th>\n",
       "      <th>FMONTH</th>\n",
       "      <th>IDATE</th>\n",
       "      <th>IMONTH</th>\n",
       "      <th>IDAY</th>\n",
       "      <th>IYEAR</th>\n",
       "      <th>DISPCODE</th>\n",
       "      <th>SEQNO</th>\n",
       "      <th>_PSU</th>\n",
       "      <th>CTELENM1</th>\n",
       "      <th>...</th>\n",
       "      <th>_PA300R2</th>\n",
       "      <th>_PA30021</th>\n",
       "      <th>_PASTRNG</th>\n",
       "      <th>_PAREC1</th>\n",
       "      <th>_PASTAE1</th>\n",
       "      <th>_RFSEAT2</th>\n",
       "      <th>_RFSEAT3</th>\n",
       "      <th>_FLSHOT6</th>\n",
       "      <th>_PNEUMO2</th>\n",
       "      <th>_AIDTST3</th>\n",
       "    </tr>\n",
       "  </thead>\n",
       "  <tbody>\n",
       "    <tr>\n",
       "      <th>0</th>\n",
       "      <td>1.0</td>\n",
       "      <td>1.0</td>\n",
       "      <td>01302017</td>\n",
       "      <td>01</td>\n",
       "      <td>30</td>\n",
       "      <td>2017</td>\n",
       "      <td>1100.0</td>\n",
       "      <td>2017000001</td>\n",
       "      <td>2.017000e+09</td>\n",
       "      <td>1.0</td>\n",
       "      <td>...</td>\n",
       "      <td>1.0</td>\n",
       "      <td>1.0</td>\n",
       "      <td>1.0</td>\n",
       "      <td>1.0</td>\n",
       "      <td>1.0</td>\n",
       "      <td>1.0</td>\n",
       "      <td>1.0</td>\n",
       "      <td>1.0</td>\n",
       "      <td>1.0</td>\n",
       "      <td>1.0</td>\n",
       "    </tr>\n",
       "    <tr>\n",
       "      <th>1</th>\n",
       "      <td>1.0</td>\n",
       "      <td>1.0</td>\n",
       "      <td>01122017</td>\n",
       "      <td>01</td>\n",
       "      <td>12</td>\n",
       "      <td>2017</td>\n",
       "      <td>1100.0</td>\n",
       "      <td>2017000002</td>\n",
       "      <td>2.017000e+09</td>\n",
       "      <td>1.0</td>\n",
       "      <td>...</td>\n",
       "      <td>1.0</td>\n",
       "      <td>1.0</td>\n",
       "      <td>1.0</td>\n",
       "      <td>1.0</td>\n",
       "      <td>1.0</td>\n",
       "      <td>1.0</td>\n",
       "      <td>1.0</td>\n",
       "      <td>1.0</td>\n",
       "      <td>1.0</td>\n",
       "      <td>1.0</td>\n",
       "    </tr>\n",
       "    <tr>\n",
       "      <th>2</th>\n",
       "      <td>1.0</td>\n",
       "      <td>1.0</td>\n",
       "      <td>01102017</td>\n",
       "      <td>01</td>\n",
       "      <td>10</td>\n",
       "      <td>2017</td>\n",
       "      <td>1100.0</td>\n",
       "      <td>2017000003</td>\n",
       "      <td>2.017000e+09</td>\n",
       "      <td>1.0</td>\n",
       "      <td>...</td>\n",
       "      <td>3.0</td>\n",
       "      <td>2.0</td>\n",
       "      <td>2.0</td>\n",
       "      <td>4.0</td>\n",
       "      <td>2.0</td>\n",
       "      <td>1.0</td>\n",
       "      <td>1.0</td>\n",
       "      <td>1.0</td>\n",
       "      <td>1.0</td>\n",
       "      <td>2.0</td>\n",
       "    </tr>\n",
       "    <tr>\n",
       "      <th>3</th>\n",
       "      <td>1.0</td>\n",
       "      <td>1.0</td>\n",
       "      <td>02082017</td>\n",
       "      <td>02</td>\n",
       "      <td>08</td>\n",
       "      <td>2017</td>\n",
       "      <td>1200.0</td>\n",
       "      <td>2017000004</td>\n",
       "      <td>2.017000e+09</td>\n",
       "      <td>1.0</td>\n",
       "      <td>...</td>\n",
       "      <td>9.0</td>\n",
       "      <td>9.0</td>\n",
       "      <td>9.0</td>\n",
       "      <td>9.0</td>\n",
       "      <td>9.0</td>\n",
       "      <td>9.0</td>\n",
       "      <td>9.0</td>\n",
       "      <td>9.0</td>\n",
       "      <td>9.0</td>\n",
       "      <td>NaN</td>\n",
       "    </tr>\n",
       "    <tr>\n",
       "      <th>4</th>\n",
       "      <td>1.0</td>\n",
       "      <td>1.0</td>\n",
       "      <td>01302017</td>\n",
       "      <td>01</td>\n",
       "      <td>30</td>\n",
       "      <td>2017</td>\n",
       "      <td>1100.0</td>\n",
       "      <td>2017000005</td>\n",
       "      <td>2.017000e+09</td>\n",
       "      <td>1.0</td>\n",
       "      <td>...</td>\n",
       "      <td>3.0</td>\n",
       "      <td>2.0</td>\n",
       "      <td>2.0</td>\n",
       "      <td>4.0</td>\n",
       "      <td>2.0</td>\n",
       "      <td>1.0</td>\n",
       "      <td>2.0</td>\n",
       "      <td>2.0</td>\n",
       "      <td>2.0</td>\n",
       "      <td>2.0</td>\n",
       "    </tr>\n",
       "  </tbody>\n",
       "</table>\n",
       "<p>5 rows × 358 columns</p>\n",
       "</div>"
      ],
      "text/plain": [
       "   _STATE  FMONTH     IDATE IMONTH IDAY IYEAR  DISPCODE       SEQNO  \\\n",
       "0     1.0     1.0  01302017     01   30  2017    1100.0  2017000001   \n",
       "1     1.0     1.0  01122017     01   12  2017    1100.0  2017000002   \n",
       "2     1.0     1.0  01102017     01   10  2017    1100.0  2017000003   \n",
       "3     1.0     1.0  02082017     02   08  2017    1200.0  2017000004   \n",
       "4     1.0     1.0  01302017     01   30  2017    1100.0  2017000005   \n",
       "\n",
       "           _PSU  CTELENM1  ...  _PA300R2  _PA30021  _PASTRNG  _PAREC1  \\\n",
       "0  2.017000e+09       1.0  ...       1.0       1.0       1.0      1.0   \n",
       "1  2.017000e+09       1.0  ...       1.0       1.0       1.0      1.0   \n",
       "2  2.017000e+09       1.0  ...       3.0       2.0       2.0      4.0   \n",
       "3  2.017000e+09       1.0  ...       9.0       9.0       9.0      9.0   \n",
       "4  2.017000e+09       1.0  ...       3.0       2.0       2.0      4.0   \n",
       "\n",
       "   _PASTAE1  _RFSEAT2  _RFSEAT3  _FLSHOT6  _PNEUMO2  _AIDTST3  \n",
       "0       1.0       1.0       1.0       1.0       1.0       1.0  \n",
       "1       1.0       1.0       1.0       1.0       1.0       1.0  \n",
       "2       2.0       1.0       1.0       1.0       1.0       2.0  \n",
       "3       9.0       9.0       9.0       9.0       9.0       NaN  \n",
       "4       2.0       1.0       2.0       2.0       2.0       2.0  \n",
       "\n",
       "[5 rows x 358 columns]"
      ]
     },
     "execution_count": 4,
     "metadata": {},
     "output_type": "execute_result"
    }
   ],
   "source": [
    "# check the dataframe\n",
    "df.head()"
   ]
  },
  {
   "cell_type": "markdown",
   "id": "8719ea8b-77f6-45a3-9e34-32571f658cdf",
   "metadata": {},
   "source": [
    "------------------"
   ]
  },
  {
   "cell_type": "markdown",
   "id": "f709dd8b-f7b4-43d2-abdd-f803c8f1dd93",
   "metadata": {},
   "source": [
    "#### Examine the Overall Picture of Diabetes Statistics"
   ]
  },
  {
   "cell_type": "markdown",
   "id": "8d8a5b24-6a28-40ec-8ed2-e0aecca2a0d5",
   "metadata": {},
   "source": [
    "##### Before we dive into deeper analysis, we would like to examine the overall picture of diabetes statistics."
   ]
  },
  {
   "cell_type": "code",
   "execution_count": 5,
   "id": "717770e4-b7f5-4232-be9f-0cc636752fce",
   "metadata": {},
   "outputs": [],
   "source": [
    "## We have picked up variables of individual health condition and demography\n",
    "df_over = df[['DIABETE3','_BMI5','_BMI5CAT','_MICHD','_RFCHOL1','_RFHYPE5','_RFDRHV5','_SMOKER3','_INCOMG','SEX','_AGE_G']]"
   ]
  },
  {
   "cell_type": "code",
   "execution_count": 6,
   "id": "f39a489b-2f25-4784-abc6-e0d043cdf611",
   "metadata": {},
   "outputs": [],
   "source": [
    "# drop missing values\n",
    "df_over = df_over.dropna()"
   ]
  },
  {
   "cell_type": "code",
   "execution_count": 7,
   "id": "d7c5616b-8672-485f-bf04-3a55fee89d61",
   "metadata": {},
   "outputs": [
    {
     "data": {
      "text/plain": [
       "No Diab    304363\n",
       "Diab        59845\n",
       "Name: DIABETE3, dtype: int64"
      ]
     },
     "execution_count": 7,
     "metadata": {},
     "output_type": "execute_result"
    }
   ],
   "source": [
    "# cleanding variable : DIABETE3 \n",
    "df_over = df_over[df_over['DIABETE3'] != 7]\n",
    "df_over = df_over[df_over['DIABETE3'] != 9]\n",
    "df_over['DIABETE3'] = df_over['DIABETE3'].astype(int)\n",
    "df_over['DIABETE3'].replace({2: 'No Diab',3:'No Diab',1:'Diab',4:'Diab'},inplace=True)\n",
    "df_over['DIABETE3'].value_counts()"
   ]
  },
  {
   "cell_type": "code",
   "execution_count": 8,
   "id": "e0d017bf-6e09-4906-9e1c-ca75c0070592",
   "metadata": {},
   "outputs": [
    {
     "data": {
      "text/plain": [
       "03_Overweight       133239\n",
       "04_Obese            116372\n",
       "02_Normal Weight    109137\n",
       "01_Underweight        5460\n",
       "Name: _BMI5CAT, dtype: int64"
      ]
     },
     "execution_count": 8,
     "metadata": {},
     "output_type": "execute_result"
    }
   ],
   "source": [
    "# cleanding variable : _BMI5CAT\n",
    " # Four-categories of Body Mass Index (BMI)\n",
    "df_over['_BMI5CAT'] = df_over['_BMI5CAT'].astype(int)\n",
    "df_over['_BMI5CAT'].replace({1:'01_Underweight',2:'02_Normal Weight',3:'03_Overweight',4:'04_Obese'},inplace=True)\n",
    "df_over['_BMI5CAT'].value_counts()"
   ]
  },
  {
   "cell_type": "code",
   "execution_count": 9,
   "id": "eeb5c061-c691-4f53-a4a6-6fe57da28ecc",
   "metadata": {},
   "outputs": [
    {
     "data": {
      "text/plain": [
       "No     328864\n",
       "Yes     35344\n",
       "Name: _MICHD, dtype: int64"
      ]
     },
     "execution_count": 9,
     "metadata": {},
     "output_type": "execute_result"
    }
   ],
   "source": [
    "# cleanding variable : _MICHD\n",
    " # Respondents that have ever reported having coronary heart disease (CHD) or myocardial infarction (MI)\n",
    "df_over['_MICHD'] = df_over['_MICHD'].astype(int)\n",
    "df_over['_MICHD'].replace({1:'Yes',2:'No'},inplace=True)\n",
    "df_over['_MICHD'].value_counts()"
   ]
  },
  {
   "cell_type": "code",
   "execution_count": 10,
   "id": "889bc5c2-9bb8-43e9-b18b-112c038e25b5",
   "metadata": {},
   "outputs": [
    {
     "data": {
      "text/plain": [
       "No     219931\n",
       "Yes    144277\n",
       "Name: _RFCHOL1, dtype: int64"
      ]
     },
     "execution_count": 10,
     "metadata": {},
     "output_type": "execute_result"
    }
   ],
   "source": [
    "# cleanding variable : _RFCHOL1\n",
    " # Adults who have had their cholesterol checked and have been told by a doctor, nurse, or other health professional that it was high\n",
    "df_over['_RFCHOL1'] = df_over['_RFCHOL1'].astype(int)\n",
    "df_over['_RFCHOL1'].replace({1:'No',2:'Yes'},inplace=True)\n",
    "df_over['_RFCHOL1'].value_counts()"
   ]
  },
  {
   "cell_type": "code",
   "execution_count": 11,
   "id": "8e86cb04-31f0-491c-b249-376775c4cbc5",
   "metadata": {},
   "outputs": [
    {
     "data": {
      "text/plain": [
       "No     207434\n",
       "Yes    156150\n",
       "Name: _RFHYPE5, dtype: int64"
      ]
     },
     "execution_count": 11,
     "metadata": {},
     "output_type": "execute_result"
    }
   ],
   "source": [
    "# cleanding variable : _RFHYPE5\n",
    " # Adults who have been told they have high blood pressure by a doctor, nurse, or other health professional\n",
    "df_over['_RFHYPE5'] = df_over['_RFHYPE5'].astype(int)\n",
    "df_over = df_over[df_over['_RFHYPE5'] != 9]\n",
    "df_over['_RFHYPE5'].replace({1:'No',2:'Yes'},inplace=True)\n",
    "df_over['_RFHYPE5'].value_counts()"
   ]
  },
  {
   "cell_type": "code",
   "execution_count": 12,
   "id": "1ef22a2c-fe36-43a3-aff7-b34c5a320b65",
   "metadata": {},
   "outputs": [
    {
     "data": {
      "text/plain": [
       "No     327250\n",
       "Yes     20128\n",
       "Name: _RFDRHV5, dtype: int64"
      ]
     },
     "execution_count": 12,
     "metadata": {},
     "output_type": "execute_result"
    }
   ],
   "source": [
    "# cleanding variable : _RFDRHV5\n",
    " # Heavy drinkers (adult men having more than 14 drinks per week and adult women having more than 7 drinks per week)\n",
    "df_over['_RFDRHV5'] = df_over['_RFDRHV5'].astype(int)\n",
    "df_over = df_over[df_over['_RFDRHV5'] != 9]\n",
    "df_over['_RFDRHV5'].replace({1:'No',2:'Yes'},inplace=True)\n",
    "df_over['_RFDRHV5'].value_counts()"
   ]
  },
  {
   "cell_type": "code",
   "execution_count": 13,
   "id": "a231e5fe-b14b-4130-9e90-0b6b38530154",
   "metadata": {},
   "outputs": [
    {
     "data": {
      "text/plain": [
       "Never Smoked                195090\n",
       "Former smoker               102602\n",
       "Current smoker(everyday)     33750\n",
       "Current smoker(someday)      14338\n",
       "Name: _SMOKER3, dtype: int64"
      ]
     },
     "execution_count": 13,
     "metadata": {},
     "output_type": "execute_result"
    }
   ],
   "source": [
    "# cleanding variable : _SMOKER3\n",
    " # Four-level smoker status: Everyday smoker, Someday smoker, Former smoker, Non-smoker\n",
    "df_over['_SMOKER3'] = df_over['_SMOKER3'].astype(int)\n",
    "df_over = df_over[df_over['_SMOKER3'] != 9]\n",
    "df_over['_SMOKER3'].replace({1:'Current smoker(everyday)',2:'Current smoker(someday)',3:'Former smoker',4:'Never Smoked'},inplace=True)\n",
    "df_over['_SMOKER3'].value_counts()"
   ]
  },
  {
   "cell_type": "code",
   "execution_count": 14,
   "id": "e3d1654a-8d02-4554-aa3e-bfebac024950",
   "metadata": {},
   "outputs": [
    {
     "data": {
      "text/plain": [
       "5.$50,000 or more                 153904\n",
       "2.$15,000 to less than $25,000     46790\n",
       "4.$35,000 to less than $50,000     42664\n",
       "3.$25,000 to less than $35,000     31082\n",
       "1.Less than $15,000                27762\n",
       "Name: _INCOMG, dtype: int64"
      ]
     },
     "execution_count": 14,
     "metadata": {},
     "output_type": "execute_result"
    }
   ],
   "source": [
    "# cleanding variable : _INCOMG\n",
    " # Income categories\n",
    "df_over['_INCOMG'] = df_over['_INCOMG'].astype(int)\n",
    "df_over = df_over[df_over['_INCOMG'] != 9]\n",
    "df_over['_INCOMG'].replace({1:'1.Less than $15,000',\n",
    "                            2:'2.$15,000 to less than $25,000',\n",
    "                            3:'3.$25,000 to less than $35,000',\n",
    "                            4:'4.$35,000 to less than $50,000',\n",
    "                            5:'5.$50,000 or more'},inplace=True)\n",
    "df_over['_INCOMG'].value_counts()"
   ]
  },
  {
   "cell_type": "code",
   "execution_count": 15,
   "id": "cb568420-53df-419c-95e4-de73b8da0390",
   "metadata": {},
   "outputs": [
    {
     "data": {
      "text/plain": [
       "Female    163176\n",
       "Male      138970\n",
       "Name: SEX, dtype: int64"
      ]
     },
     "execution_count": 15,
     "metadata": {},
     "output_type": "execute_result"
    }
   ],
   "source": [
    "# cleanding variable : SEX\n",
    " # Indicate sex of respondent.\n",
    "df_over['SEX'] = df_over['SEX'].astype(int)\n",
    "df_over = df_over[df_over['SEX'] != 9]\n",
    "df_over['SEX'].replace({1:'Male',2:'Female',},inplace=True)\n",
    "df_over['SEX'].value_counts()"
   ]
  },
  {
   "cell_type": "code",
   "execution_count": 16,
   "id": "6beacfc9-c831-4560-aab7-13eca6458d41",
   "metadata": {},
   "outputs": [
    {
     "data": {
      "text/plain": [
       "Age 65 or older    108884\n",
       "Age 55 to 64        71155\n",
       "Age 45 to 54        50494\n",
       "Age 35 to 44        35397\n",
       "Age 25 to 34        26218\n",
       "Age 18 to 24         9998\n",
       "Name: _AGE_G, dtype: int64"
      ]
     },
     "execution_count": 16,
     "metadata": {},
     "output_type": "execute_result"
    }
   ],
   "source": [
    "# cleanding variable : _AGE_G\n",
    " # Six-level imputed age category\n",
    "df_over['_AGE_G'] = df_over['_AGE_G'].astype(int)\n",
    "df_over['_AGE_G'].replace({1:'Age 18 to 24', 2:'Age 25 to 34',3:'Age 35 to 44',4:'Age 45 to 54',5:'Age 55 to 64',6: 'Age 65 or older'},inplace=True)\n",
    "df_over['_AGE_G'].value_counts()"
   ]
  },
  {
   "cell_type": "code",
   "execution_count": 17,
   "id": "e910378a-a632-49c3-b532-ba1391766f17",
   "metadata": {
    "tags": []
   },
   "outputs": [
    {
     "data": {
      "text/plain": [
       "No Diab    252901\n",
       "Diab        49245\n",
       "Name: DIABETE3, dtype: int64"
      ]
     },
     "execution_count": 17,
     "metadata": {},
     "output_type": "execute_result"
    }
   ],
   "source": [
    "df_over['DIABETE3'].value_counts()"
   ]
  },
  {
   "cell_type": "code",
   "execution_count": 18,
   "id": "e80dd959-d84f-46c5-acd4-7a6083541044",
   "metadata": {},
   "outputs": [
    {
     "data": {
      "text/plain": [
       "<matplotlib.legend.Legend at 0x7fc54d5c0ed0>"
      ]
     },
     "execution_count": 18,
     "metadata": {},
     "output_type": "execute_result"
    },
    {
     "data": {
      "image/png": "[encoded data removed]",
      "text/plain": [
       "<Figure size 720x576 with 1 Axes>"
      ]
     },
     "metadata": {
      "needs_background": "light"
     },
     "output_type": "display_data"
    }
   ],
   "source": [
    "# Diabetes across age group\n",
    "import matplotlib.pyplot as plt\n",
    "fig, ax = plt.subplots(figsize=(10,8))\n",
    "df_over.pipe(lambda df_over:( \n",
    "    (pd.crosstab(df_over._AGE_G, df_over.DIABETE3, normalize = 'index').round(2)*100)).plot.bar(ax=ax))\n",
    "ax.set_title('Portion of Diabetes across Age Group')\n",
    "ax.set_ylabel('Percentage')\n",
    "ax.set_xlabel('Age Group')\n",
    "plt.legend(['Diabetes', 'No Diabetes'],loc='upper right', title='')"
   ]
  },
  {
   "cell_type": "code",
   "execution_count": 19,
   "id": "d293c622-9577-4684-a5cb-c77b6d78f73c",
   "metadata": {},
   "outputs": [
    {
     "data": {
      "text/plain": [
       "<matplotlib.legend.Legend at 0x7fc5a2e79950>"
      ]
     },
     "execution_count": 19,
     "metadata": {},
     "output_type": "execute_result"
    },
    {
     "data": {
      "image/png": "[encoded data removed]",
      "text/plain": [
       "<Figure size 720x576 with 1 Axes>"
      ]
     },
     "metadata": {
      "needs_background": "light"
     },
     "output_type": "display_data"
    }
   ],
   "source": [
    "# Diabetes across BMI categories\n",
    "fig, ax = plt.subplots(figsize=(10,8))\n",
    "df_over.pipe(lambda df_over:( \n",
    "    (pd.crosstab(df_over._BMI5CAT, df_over.DIABETE3, normalize = 'index').round(2)*100)).\n",
    "plot.bar(ax=ax))\n",
    "ax.set_title('Portion of Diabetes across BMI Category')\n",
    "ax.set_ylabel('Percentage')\n",
    "ax.set_xlabel('BMI category')\n",
    "plt.legend(['Diabetes', 'No Diabetes'],loc='upper right', title='')"
   ]
  },
  {
   "cell_type": "code",
   "execution_count": 20,
   "id": "d10010e9-bfde-45c7-848b-80e30d35b563",
   "metadata": {},
   "outputs": [
    {
     "data": {
      "text/plain": [
       "<matplotlib.legend.Legend at 0x7fc5a2f681d0>"
      ]
     },
     "execution_count": 20,
     "metadata": {},
     "output_type": "execute_result"
    },
    {
     "data": {
      "image/png": "[encoded data removed]",
      "text/plain": [
       "<Figure size 720x576 with 1 Axes>"
      ]
     },
     "metadata": {
      "needs_background": "light"
     },
     "output_type": "display_data"
    }
   ],
   "source": [
    "# Diabetes with heart conditions\n",
    "fig, ax = plt.subplots(figsize=(10,8))\n",
    "df_over.pipe(lambda df_over:( \n",
    "    (pd.crosstab(df_over._MICHD, df_over.DIABETE3, normalize = 'index').round(2)*100)).\n",
    "plot.bar(ax=ax))\n",
    "ax.set_title('Portion of Diabetes with Heart Conditions')\n",
    "ax.set_ylabel('Percentage')\n",
    "ax.set_xlabel('Heart Conditions')\n",
    "plt.legend(['Diabetes', 'No Diabetes'],loc='upper right', title='')"
   ]
  },
  {
   "cell_type": "code",
   "execution_count": 21,
   "id": "7a338ad7-94e3-4175-a1ff-03bdc7e213f5",
   "metadata": {},
   "outputs": [
    {
     "data": {
      "text/plain": [
       "<matplotlib.legend.Legend at 0x7fc5a2c80c50>"
      ]
     },
     "execution_count": 21,
     "metadata": {},
     "output_type": "execute_result"
    },
    {
     "data": {
      "image/png": "[encoded data removed]",
      "text/plain": [
       "<Figure size 720x576 with 1 Axes>"
      ]
     },
     "metadata": {
      "needs_background": "light"
     },
     "output_type": "display_data"
    }
   ],
   "source": [
    "# Diabetes with high cholesterol level\n",
    "fig, ax = plt.subplots(figsize=(10,8))\n",
    "df_over.pipe(lambda df_over:( \n",
    "    (pd.crosstab(df_over._RFCHOL1, df_over.DIABETE3, normalize = 'index').round(2)*100)).\n",
    "plot.bar(ax=ax))\n",
    "ax.set_title('Portion of Diabetes with High Cholesterol Level')\n",
    "ax.set_ylabel('Percentage')\n",
    "ax.set_xlabel('High Cholesterol')\n",
    "plt.legend(['Diabetes', 'No Diabetes'],loc='upper right', title='')"
   ]
  },
  {
   "cell_type": "code",
   "execution_count": 22,
   "id": "99c73393-490b-4355-9eca-0adb63e56022",
   "metadata": {},
   "outputs": [
    {
     "data": {
      "text/plain": [
       "<matplotlib.legend.Legend at 0x7fc5a2d9e9d0>"
      ]
     },
     "execution_count": 22,
     "metadata": {},
     "output_type": "execute_result"
    },
    {
     "data": {
      "image/png": "[encoded data removed]",
      "text/plain": [
       "<Figure size 720x576 with 1 Axes>"
      ]
     },
     "metadata": {
      "needs_background": "light"
     },
     "output_type": "display_data"
    }
   ],
   "source": [
    "# Diabetes with high blood pressure\n",
    "fig, ax = plt.subplots(figsize=(10,8))\n",
    "df_over.pipe(lambda df_over:( \n",
    "    (pd.crosstab(df_over._RFHYPE5, df_over.DIABETE3, normalize = 'index').round(2)*100)).\n",
    "plot.bar(ax=ax))\n",
    "ax.set_title('Portion of Diabetes with High Blood Pressure')\n",
    "ax.set_ylabel('Percentage')\n",
    "ax.set_xlabel('High Blood Pressure')\n",
    "plt.legend(['Diabetes', 'No Diabetes'],loc='upper right', title='')"
   ]
  },
  {
   "cell_type": "code",
   "execution_count": 23,
   "id": "640afdb3-668c-4560-b03f-2045598456e3",
   "metadata": {},
   "outputs": [
    {
     "data": {
      "text/plain": [
       "<matplotlib.legend.Legend at 0x7fc5a2b40790>"
      ]
     },
     "execution_count": 23,
     "metadata": {},
     "output_type": "execute_result"
    },
    {
     "data": {
      "image/png": "[encoded data removed]",
      "text/plain": [
       "<Figure size 720x576 with 1 Axes>"
      ]
     },
     "metadata": {
      "needs_background": "light"
     },
     "output_type": "display_data"
    }
   ],
   "source": [
    "# Diabetes with heavy drinkers\n",
    "fig, ax = plt.subplots(figsize=(10,8))\n",
    "df_over.pipe(lambda df_over:( \n",
    "    (pd.crosstab(df_over._RFDRHV5, df_over.DIABETE3, normalize = 'index').round(2)*100)).\n",
    "plot.bar(ax=ax))\n",
    "ax.set_title('Portion of Diabetes with Heavy Drinking')\n",
    "ax.set_ylabel('Percentage')\n",
    "ax.set_xlabel('Heavy Drinking')\n",
    "plt.legend(['Diabetes', 'No Diabetes'],loc='upper left', title='')"
   ]
  },
  {
   "cell_type": "code",
   "execution_count": 24,
   "id": "4e3a0c3c-3976-4762-bc02-b0975c68acf9",
   "metadata": {},
   "outputs": [
    {
     "data": {
      "text/plain": [
       "<matplotlib.legend.Legend at 0x7fc5a2b23a50>"
      ]
     },
     "execution_count": 24,
     "metadata": {},
     "output_type": "execute_result"
    },
    {
     "data": {
      "image/png": "[encoded data removed]",
      "text/plain": [
       "<Figure size 720x576 with 1 Axes>"
      ]
     },
     "metadata": {
      "needs_background": "light"
     },
     "output_type": "display_data"
    }
   ],
   "source": [
    "# Diabetes with smokers\n",
    "fig, ax = plt.subplots(figsize=(10,8))\n",
    "df_over.pipe(lambda df_over:( \n",
    "    (pd.crosstab(df_over._SMOKER3, df_over.DIABETE3, normalize = 'index').round(2)*100)).\n",
    "plot.bar(ax=ax))\n",
    "ax.set_title('Portion of Diabetes among Smokers')\n",
    "ax.set_ylabel('Percentage')\n",
    "ax.set_xlabel('Smoker')\n",
    "plt.legend(['Diabetes', 'No Diabetes'],loc='upper right', title='')"
   ]
  },
  {
   "cell_type": "code",
   "execution_count": 25,
   "id": "e08ac164-2283-4226-a93e-eacbf6b52d82",
   "metadata": {},
   "outputs": [
    {
     "data": {
      "text/plain": [
       "<matplotlib.legend.Legend at 0x7fc5a2abc890>"
      ]
     },
     "execution_count": 25,
     "metadata": {},
     "output_type": "execute_result"
    },
    {
     "data": {
      "image/png": "[encoded data removed]",
      "text/plain": [
       "<Figure size 720x576 with 1 Axes>"
      ]
     },
     "metadata": {
      "needs_background": "light"
     },
     "output_type": "display_data"
    }
   ],
   "source": [
    "# Diabetes across income categories\n",
    "fig, ax = plt.subplots(figsize=(10,8))\n",
    "df_over.pipe(lambda df_over:( \n",
    "    (pd.crosstab(df_over._INCOMG, df_over.DIABETE3, normalize = 'index').round(2)*100)).\n",
    "plot.bar(ax=ax))\n",
    "ax.set_title('Portion of Diabetes across Income Category')\n",
    "ax.set_ylabel('Percentage')\n",
    "ax.set_xlabel('Income')\n",
    "plt.legend(['Diabetes', 'No Diabetes'],loc='upper left', title='')"
   ]
  },
  {
   "cell_type": "code",
   "execution_count": 26,
   "id": "2a2c48d2-71cf-43a6-8e81-c063c57679ac",
   "metadata": {},
   "outputs": [
    {
     "data": {
      "text/plain": [
       "<matplotlib.legend.Legend at 0x7fc5a28d5090>"
      ]
     },
     "execution_count": 26,
     "metadata": {},
     "output_type": "execute_result"
    },
    {
     "data": {
      "image/png": "[encoded data removed]",
      "text/plain": [
       "<Figure size 720x576 with 1 Axes>"
      ]
     },
     "metadata": {
      "needs_background": "light"
     },
     "output_type": "display_data"
    }
   ],
   "source": [
    "# Diabetes with heavy drinkers\n",
    "fig, ax = plt.subplots(figsize=(10,8))\n",
    "df_over.pipe(lambda df_over:( \n",
    "    (pd.crosstab(df_over.SEX, df_over.DIABETE3, normalize = 'index').round(2)*100)).\n",
    "plot.bar(ax=ax))\n",
    "ax.set_title('Portion of Diabetes among Sex')\n",
    "ax.set_ylabel('Percentage')\n",
    "plt.legend(['Diabetes', 'No Diabetes'],loc='upper left', title='')"
   ]
  }
 ],
 "metadata": {
  "environment": {
   "kernel": "python3",
   "name": "common-cpu.m89",
   "type": "gcloud",
   "uri": "gcr.io/deeplearning-platform-release/base-cpu:m89"
  },
  "kernelspec": {
   "display_name": "Python 3",
   "language": "python",
   "name": "python3"
  },
  "language_info": {
   "codemirror_mode": {
    "name": "ipython",
    "version": 3
   },
   "file_extension": ".py",
   "mimetype": "text/x-python",
   "name": "python",
   "nbconvert_exporter": "python",
   "pygments_lexer": "ipython3",
   "version": "3.7.12"
  }
 },
 "nbformat": 4,
 "nbformat_minor": 5
}
