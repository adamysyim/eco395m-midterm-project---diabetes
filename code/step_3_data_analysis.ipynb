{
 "cells": [
  {
   "cell_type": "markdown",
   "id": "119e1397-2945-4732-bb18-d5ce84f6c89a",
   "metadata": {
    "tags": []
   },
   "source": [
    "## Data Analysis"
   ]
  },
  {
   "cell_type": "markdown",
   "id": "2ec9adeb-9342-44d4-94d8-bbb922cca06c",
   "metadata": {},
   "source": [
    "------------------------------"
   ]
  },
  {
   "cell_type": "code",
   "execution_count": 2,
   "id": "229c6681-e921-45d5-b778-85efb38db1a9",
   "metadata": {},
   "outputs": [],
   "source": [
    "# Import the libraries\n",
    "import pandas as pd\n",
    "import numpy as np\n",
    "import seaborn as sns\n",
    "import matplotlib.pyplot as plt\n",
    "from sklearn import linear_model\n",
    "from sklearn.model_selection import train_test_split\n",
    "from sklearn.linear_model import LogisticRegression\n",
    "from sklearn.metrics import roc_curve, auc, roc_auc_score\n",
    "from sklearn import metrics\n",
    "import statsmodels.api as sm\n",
    "import bioinfokit\n",
    "from statsmodels.graphics.gofplots import ProbPlot\n",
    "from statsmodels.tools.eval_measures import rmse\n",
    "import statsmodels.formula.api as smf\n",
    "from bioinfokit.analys import get_data, stat\n",
    "from statsmodels.stats.outliers_influence import variance_inflation_factor "
   ]
  },
  {
   "cell_type": "code",
   "execution_count": 3,
   "id": "0d1f3326-b388-4ba0-b03d-d580f7baae5d",
   "metadata": {},
   "outputs": [],
   "source": [
    "# Import the original data files\n",
    "df = pd.read_csv('../data/2017_diabetes_cleaned_vld.csv')"
   ]
  },
  {
   "cell_type": "markdown",
   "id": "006ee5e2-9038-42d4-aeae-df6dda6b7d61",
   "metadata": {},
   "source": [
    "-----------------"
   ]
  },
  {
   "cell_type": "markdown",
   "id": "afd0d531-9ebd-4a3a-9ff5-6183ad58c591",
   "metadata": {},
   "source": [
    "#### Check the correlation coefficients between independent variables we selected."
   ]
  },
  {
   "cell_type": "code",
   "execution_count": 4,
   "id": "ec348bb1-afdd-4fb1-8aef-898b55c378dd",
   "metadata": {},
   "outputs": [
    {
     "data": {
      "text/html": [
       "<div>\n",
       "<style scoped>\n",
       "    .dataframe tbody tr th:only-of-type {\n",
       "        vertical-align: middle;\n",
       "    }\n",
       "\n",
       "    .dataframe tbody tr th {\n",
       "        vertical-align: top;\n",
       "    }\n",
       "\n",
       "    .dataframe thead th {\n",
       "        text-align: right;\n",
       "    }\n",
       "</style>\n",
       "<table border=\"1\" class=\"dataframe\">\n",
       "  <thead>\n",
       "    <tr style=\"text-align: right;\">\n",
       "      <th></th>\n",
       "      <th>diabete</th>\n",
       "      <th>bmi</th>\n",
       "      <th>physhlth</th>\n",
       "      <th>menthlth</th>\n",
       "      <th>michd</th>\n",
       "      <th>hchol</th>\n",
       "      <th>hblpr</th>\n",
       "      <th>vpa</th>\n",
       "      <th>hvdr</th>\n",
       "      <th>smok</th>\n",
       "      <th>incom50</th>\n",
       "      <th>cllgr</th>\n",
       "      <th>sex</th>\n",
       "      <th>age65</th>\n",
       "    </tr>\n",
       "  </thead>\n",
       "  <tbody>\n",
       "    <tr>\n",
       "      <th>diabete</th>\n",
       "      <td>1.000000</td>\n",
       "      <td>0.210833</td>\n",
       "      <td>0.146809</td>\n",
       "      <td>0.056580</td>\n",
       "      <td>0.159905</td>\n",
       "      <td>0.204120</td>\n",
       "      <td>0.248062</td>\n",
       "      <td>0.014981</td>\n",
       "      <td>-0.053850</td>\n",
       "      <td>0.005665</td>\n",
       "      <td>-0.125857</td>\n",
       "      <td>-0.094190</td>\n",
       "      <td>-0.015016</td>\n",
       "      <td>0.132430</td>\n",
       "    </tr>\n",
       "    <tr>\n",
       "      <th>bmi</th>\n",
       "      <td>0.210833</td>\n",
       "      <td>1.000000</td>\n",
       "      <td>0.099239</td>\n",
       "      <td>0.067553</td>\n",
       "      <td>0.049593</td>\n",
       "      <td>0.110099</td>\n",
       "      <td>0.219359</td>\n",
       "      <td>-0.081021</td>\n",
       "      <td>-0.042794</td>\n",
       "      <td>-0.019758</td>\n",
       "      <td>-0.068860</td>\n",
       "      <td>-0.111342</td>\n",
       "      <td>-0.066857</td>\n",
       "      <td>-0.069458</td>\n",
       "    </tr>\n",
       "    <tr>\n",
       "      <th>physhlth</th>\n",
       "      <td>0.146809</td>\n",
       "      <td>0.099239</td>\n",
       "      <td>1.000000</td>\n",
       "      <td>0.312718</td>\n",
       "      <td>0.152370</td>\n",
       "      <td>0.103281</td>\n",
       "      <td>0.133349</td>\n",
       "      <td>-0.017566</td>\n",
       "      <td>-0.018858</td>\n",
       "      <td>0.098688</td>\n",
       "      <td>-0.175275</td>\n",
       "      <td>-0.114640</td>\n",
       "      <td>0.027662</td>\n",
       "      <td>0.035409</td>\n",
       "    </tr>\n",
       "    <tr>\n",
       "      <th>menthlth</th>\n",
       "      <td>0.056580</td>\n",
       "      <td>0.067553</td>\n",
       "      <td>0.312718</td>\n",
       "      <td>1.000000</td>\n",
       "      <td>0.044789</td>\n",
       "      <td>0.033459</td>\n",
       "      <td>0.032318</td>\n",
       "      <td>-0.058492</td>\n",
       "      <td>0.033281</td>\n",
       "      <td>0.150113</td>\n",
       "      <td>-0.141509</td>\n",
       "      <td>-0.088569</td>\n",
       "      <td>0.073676</td>\n",
       "      <td>-0.108396</td>\n",
       "    </tr>\n",
       "    <tr>\n",
       "      <th>michd</th>\n",
       "      <td>0.159905</td>\n",
       "      <td>0.049593</td>\n",
       "      <td>0.152370</td>\n",
       "      <td>0.044789</td>\n",
       "      <td>1.000000</td>\n",
       "      <td>0.181809</td>\n",
       "      <td>0.203408</td>\n",
       "      <td>0.065844</td>\n",
       "      <td>-0.027933</td>\n",
       "      <td>0.027581</td>\n",
       "      <td>-0.099403</td>\n",
       "      <td>-0.070034</td>\n",
       "      <td>-0.090573</td>\n",
       "      <td>0.192954</td>\n",
       "    </tr>\n",
       "    <tr>\n",
       "      <th>hchol</th>\n",
       "      <td>0.204120</td>\n",
       "      <td>0.110099</td>\n",
       "      <td>0.103281</td>\n",
       "      <td>0.033459</td>\n",
       "      <td>0.181809</td>\n",
       "      <td>1.000000</td>\n",
       "      <td>0.305150</td>\n",
       "      <td>0.057872</td>\n",
       "      <td>-0.011543</td>\n",
       "      <td>-0.008207</td>\n",
       "      <td>-0.044550</td>\n",
       "      <td>-0.026217</td>\n",
       "      <td>-0.035180</td>\n",
       "      <td>0.214933</td>\n",
       "    </tr>\n",
       "    <tr>\n",
       "      <th>hblpr</th>\n",
       "      <td>0.248062</td>\n",
       "      <td>0.219359</td>\n",
       "      <td>0.133349</td>\n",
       "      <td>0.032318</td>\n",
       "      <td>0.203408</td>\n",
       "      <td>0.305150</td>\n",
       "      <td>1.000000</td>\n",
       "      <td>0.075230</td>\n",
       "      <td>-0.001852</td>\n",
       "      <td>0.000936</td>\n",
       "      <td>-0.123182</td>\n",
       "      <td>-0.098915</td>\n",
       "      <td>-0.068268</td>\n",
       "      <td>0.273105</td>\n",
       "    </tr>\n",
       "    <tr>\n",
       "      <th>vpa</th>\n",
       "      <td>0.014981</td>\n",
       "      <td>-0.081021</td>\n",
       "      <td>-0.017566</td>\n",
       "      <td>-0.058492</td>\n",
       "      <td>0.065844</td>\n",
       "      <td>0.057872</td>\n",
       "      <td>0.075230</td>\n",
       "      <td>1.000000</td>\n",
       "      <td>0.004309</td>\n",
       "      <td>-0.042292</td>\n",
       "      <td>-0.027104</td>\n",
       "      <td>0.005129</td>\n",
       "      <td>-0.027815</td>\n",
       "      <td>0.287091</td>\n",
       "    </tr>\n",
       "    <tr>\n",
       "      <th>hvdr</th>\n",
       "      <td>-0.053850</td>\n",
       "      <td>-0.042794</td>\n",
       "      <td>-0.018858</td>\n",
       "      <td>0.033281</td>\n",
       "      <td>-0.027933</td>\n",
       "      <td>-0.011543</td>\n",
       "      <td>-0.001852</td>\n",
       "      <td>0.004309</td>\n",
       "      <td>1.000000</td>\n",
       "      <td>0.086565</td>\n",
       "      <td>0.041799</td>\n",
       "      <td>0.015432</td>\n",
       "      <td>0.010208</td>\n",
       "      <td>-0.033264</td>\n",
       "    </tr>\n",
       "    <tr>\n",
       "      <th>smok</th>\n",
       "      <td>0.005665</td>\n",
       "      <td>-0.019758</td>\n",
       "      <td>0.098688</td>\n",
       "      <td>0.150113</td>\n",
       "      <td>0.027581</td>\n",
       "      <td>-0.008207</td>\n",
       "      <td>0.000936</td>\n",
       "      <td>-0.042292</td>\n",
       "      <td>0.086565</td>\n",
       "      <td>1.000000</td>\n",
       "      <td>-0.158872</td>\n",
       "      <td>-0.176802</td>\n",
       "      <td>-0.015933</td>\n",
       "      <td>-0.108993</td>\n",
       "    </tr>\n",
       "    <tr>\n",
       "      <th>incom50</th>\n",
       "      <td>-0.125857</td>\n",
       "      <td>-0.068860</td>\n",
       "      <td>-0.175275</td>\n",
       "      <td>-0.141509</td>\n",
       "      <td>-0.099403</td>\n",
       "      <td>-0.044550</td>\n",
       "      <td>-0.123182</td>\n",
       "      <td>-0.027104</td>\n",
       "      <td>0.041799</td>\n",
       "      <td>-0.158872</td>\n",
       "      <td>1.000000</td>\n",
       "      <td>0.363872</td>\n",
       "      <td>-0.088253</td>\n",
       "      <td>-0.143823</td>\n",
       "    </tr>\n",
       "    <tr>\n",
       "      <th>cllgr</th>\n",
       "      <td>-0.094190</td>\n",
       "      <td>-0.111342</td>\n",
       "      <td>-0.114640</td>\n",
       "      <td>-0.088569</td>\n",
       "      <td>-0.070034</td>\n",
       "      <td>-0.026217</td>\n",
       "      <td>-0.098915</td>\n",
       "      <td>0.005129</td>\n",
       "      <td>0.015432</td>\n",
       "      <td>-0.176802</td>\n",
       "      <td>0.363872</td>\n",
       "      <td>1.000000</td>\n",
       "      <td>-0.015153</td>\n",
       "      <td>-0.020647</td>\n",
       "    </tr>\n",
       "    <tr>\n",
       "      <th>sex</th>\n",
       "      <td>-0.015016</td>\n",
       "      <td>-0.066857</td>\n",
       "      <td>0.027662</td>\n",
       "      <td>0.073676</td>\n",
       "      <td>-0.090573</td>\n",
       "      <td>-0.035180</td>\n",
       "      <td>-0.068268</td>\n",
       "      <td>-0.027815</td>\n",
       "      <td>0.010208</td>\n",
       "      <td>-0.015933</td>\n",
       "      <td>-0.088253</td>\n",
       "      <td>-0.015153</td>\n",
       "      <td>1.000000</td>\n",
       "      <td>0.018468</td>\n",
       "    </tr>\n",
       "    <tr>\n",
       "      <th>age65</th>\n",
       "      <td>0.132430</td>\n",
       "      <td>-0.069458</td>\n",
       "      <td>0.035409</td>\n",
       "      <td>-0.108396</td>\n",
       "      <td>0.192954</td>\n",
       "      <td>0.214933</td>\n",
       "      <td>0.273105</td>\n",
       "      <td>0.287091</td>\n",
       "      <td>-0.033264</td>\n",
       "      <td>-0.108993</td>\n",
       "      <td>-0.143823</td>\n",
       "      <td>-0.020647</td>\n",
       "      <td>0.018468</td>\n",
       "      <td>1.000000</td>\n",
       "    </tr>\n",
       "  </tbody>\n",
       "</table>\n",
       "</div>"
      ],
      "text/plain": [
       "           diabete       bmi  physhlth  menthlth     michd     hchol  \\\n",
       "diabete   1.000000  0.210833  0.146809  0.056580  0.159905  0.204120   \n",
       "bmi       0.210833  1.000000  0.099239  0.067553  0.049593  0.110099   \n",
       "physhlth  0.146809  0.099239  1.000000  0.312718  0.152370  0.103281   \n",
       "menthlth  0.056580  0.067553  0.312718  1.000000  0.044789  0.033459   \n",
       "michd     0.159905  0.049593  0.152370  0.044789  1.000000  0.181809   \n",
       "hchol     0.204120  0.110099  0.103281  0.033459  0.181809  1.000000   \n",
       "hblpr     0.248062  0.219359  0.133349  0.032318  0.203408  0.305150   \n",
       "vpa       0.014981 -0.081021 -0.017566 -0.058492  0.065844  0.057872   \n",
       "hvdr     -0.053850 -0.042794 -0.018858  0.033281 -0.027933 -0.011543   \n",
       "smok      0.005665 -0.019758  0.098688  0.150113  0.027581 -0.008207   \n",
       "incom50  -0.125857 -0.068860 -0.175275 -0.141509 -0.099403 -0.044550   \n",
       "cllgr    -0.094190 -0.111342 -0.114640 -0.088569 -0.070034 -0.026217   \n",
       "sex      -0.015016 -0.066857  0.027662  0.073676 -0.090573 -0.035180   \n",
       "age65     0.132430 -0.069458  0.035409 -0.108396  0.192954  0.214933   \n",
       "\n",
       "             hblpr       vpa      hvdr      smok   incom50     cllgr  \\\n",
       "diabete   0.248062  0.014981 -0.053850  0.005665 -0.125857 -0.094190   \n",
       "bmi       0.219359 -0.081021 -0.042794 -0.019758 -0.068860 -0.111342   \n",
       "physhlth  0.133349 -0.017566 -0.018858  0.098688 -0.175275 -0.114640   \n",
       "menthlth  0.032318 -0.058492  0.033281  0.150113 -0.141509 -0.088569   \n",
       "michd     0.203408  0.065844 -0.027933  0.027581 -0.099403 -0.070034   \n",
       "hchol     0.305150  0.057872 -0.011543 -0.008207 -0.044550 -0.026217   \n",
       "hblpr     1.000000  0.075230 -0.001852  0.000936 -0.123182 -0.098915   \n",
       "vpa       0.075230  1.000000  0.004309 -0.042292 -0.027104  0.005129   \n",
       "hvdr     -0.001852  0.004309  1.000000  0.086565  0.041799  0.015432   \n",
       "smok      0.000936 -0.042292  0.086565  1.000000 -0.158872 -0.176802   \n",
       "incom50  -0.123182 -0.027104  0.041799 -0.158872  1.000000  0.363872   \n",
       "cllgr    -0.098915  0.005129  0.015432 -0.176802  0.363872  1.000000   \n",
       "sex      -0.068268 -0.027815  0.010208 -0.015933 -0.088253 -0.015153   \n",
       "age65     0.273105  0.287091 -0.033264 -0.108993 -0.143823 -0.020647   \n",
       "\n",
       "               sex     age65  \n",
       "diabete  -0.015016  0.132430  \n",
       "bmi      -0.066857 -0.069458  \n",
       "physhlth  0.027662  0.035409  \n",
       "menthlth  0.073676 -0.108396  \n",
       "michd    -0.090573  0.192954  \n",
       "hchol    -0.035180  0.214933  \n",
       "hblpr    -0.068268  0.273105  \n",
       "vpa      -0.027815  0.287091  \n",
       "hvdr      0.010208 -0.033264  \n",
       "smok     -0.015933 -0.108993  \n",
       "incom50  -0.088253 -0.143823  \n",
       "cllgr    -0.015153 -0.020647  \n",
       "sex       1.000000  0.018468  \n",
       "age65     0.018468  1.000000  "
      ]
     },
     "execution_count": 4,
     "metadata": {},
     "output_type": "execute_result"
    }
   ],
   "source": [
    "df.corr()"
   ]
  },
  {
   "cell_type": "code",
   "execution_count": 5,
   "id": "24c357b8-b20d-4efc-8079-5d395ac00f07",
   "metadata": {},
   "outputs": [
    {
     "data": {
      "image/png": "[encoded data removed]",
      "text/plain": [
       "<Figure size 1152x432 with 2 Axes>"
      ]
     },
     "metadata": {
      "needs_background": "light"
     },
     "output_type": "display_data"
    }
   ],
   "source": [
    "# Increase the size of the heatmap.\n",
    "plt.figure(figsize=(16, 6))\n",
    "# Set the range of values to be displayed on the colormap from -1 to 1, and set the annotation to True to display the correlation values on the heatmap.\n",
    "heatmap = sns.heatmap(df.corr(), vmin=-1, vmax=1, annot=True)\n",
    "# Pad defines the distance of the title from the top of the heatmap.\n",
    "heatmap.set_title('Correlation Heatmap For Diabetes Dataset', fontdict={'fontsize':12}, pad=12);"
   ]
  },
  {
   "cell_type": "markdown",
   "id": "d0a9003a-5ef1-49a2-9f2c-30d3f23acc8e",
   "metadata": {},
   "source": [
    "##### Since all of the correlation coefficients are < 0.5, there is no obvious evidence of strong multicollinearity"
   ]
  },
  {
   "cell_type": "markdown",
   "id": "db704012-d8f0-4a6b-b44a-d3c8bf928c34",
   "metadata": {},
   "source": [
    "------------------------"
   ]
  },
  {
   "cell_type": "markdown",
   "id": "8cf4be00-bbd9-4b30-9c4b-9be604dc82e0",
   "metadata": {},
   "source": [
    "#### Multiple Linear Regression"
   ]
  },
  {
   "cell_type": "code",
   "execution_count": 6,
   "id": "940e763f-4f12-4c83-93b1-f67a076a218d",
   "metadata": {},
   "outputs": [
    {
     "data": {
      "text/html": [
       "<table class=\"simpletable\">\n",
       "<caption>OLS Regression Results</caption>\n",
       "<tr>\n",
       "  <th>Dep. Variable:</th>         <td>diabete</td>     <th>  R-squared:         </th> <td>   0.130</td> \n",
       "</tr>\n",
       "<tr>\n",
       "  <th>Model:</th>                   <td>OLS</td>       <th>  Adj. R-squared:    </th> <td>   0.130</td> \n",
       "</tr>\n",
       "<tr>\n",
       "  <th>Method:</th>             <td>Least Squares</td>  <th>  F-statistic:       </th> <td>   2421.</td> \n",
       "</tr>\n",
       "<tr>\n",
       "  <th>Date:</th>             <td>Tue, 15 Mar 2022</td> <th>  Prob (F-statistic):</th>  <td>  0.00</td>  \n",
       "</tr>\n",
       "<tr>\n",
       "  <th>Time:</th>                 <td>17:53:39</td>     <th>  Log-Likelihood:    </th> <td> -62042.</td> \n",
       "</tr>\n",
       "<tr>\n",
       "  <th>No. Observations:</th>      <td>211319</td>      <th>  AIC:               </th> <td>1.241e+05</td>\n",
       "</tr>\n",
       "<tr>\n",
       "  <th>Df Residuals:</th>          <td>211305</td>      <th>  BIC:               </th> <td>1.243e+05</td>\n",
       "</tr>\n",
       "<tr>\n",
       "  <th>Df Model:</th>              <td>    13</td>      <th>                     </th>     <td> </td>    \n",
       "</tr>\n",
       "<tr>\n",
       "  <th>Covariance Type:</th>      <td>nonrobust</td>    <th>                     </th>     <td> </td>    \n",
       "</tr>\n",
       "</table>\n",
       "<table class=\"simpletable\">\n",
       "<tr>\n",
       "      <td></td>        <th>coef</th>     <th>std err</th>      <th>t</th>      <th>P>|t|</th>  <th>[0.025</th>    <th>0.975]</th>  \n",
       "</tr>\n",
       "<tr>\n",
       "  <th>const</th>    <td>   -0.1840</td> <td>    0.004</td> <td>  -45.223</td> <td> 0.000</td> <td>   -0.192</td> <td>   -0.176</td>\n",
       "</tr>\n",
       "<tr>\n",
       "  <th>bmi</th>      <td>    0.0092</td> <td>    0.000</td> <td>   72.138</td> <td> 0.000</td> <td>    0.009</td> <td>    0.009</td>\n",
       "</tr>\n",
       "<tr>\n",
       "  <th>physhlth</th> <td>    0.0034</td> <td>    0.000</td> <td>   33.308</td> <td> 0.000</td> <td>    0.003</td> <td>    0.004</td>\n",
       "</tr>\n",
       "<tr>\n",
       "  <th>menthlth</th> <td>    0.0005</td> <td>    0.000</td> <td>    4.415</td> <td> 0.000</td> <td>    0.000</td> <td>    0.001</td>\n",
       "</tr>\n",
       "<tr>\n",
       "  <th>michd</th>    <td>    0.0982</td> <td>    0.003</td> <td>   35.370</td> <td> 0.000</td> <td>    0.093</td> <td>    0.104</td>\n",
       "</tr>\n",
       "<tr>\n",
       "  <th>hchol</th>    <td>    0.0790</td> <td>    0.002</td> <td>   50.524</td> <td> 0.000</td> <td>    0.076</td> <td>    0.082</td>\n",
       "</tr>\n",
       "<tr>\n",
       "  <th>hblpr</th>    <td>    0.0933</td> <td>    0.002</td> <td>   57.459</td> <td> 0.000</td> <td>    0.090</td> <td>    0.097</td>\n",
       "</tr>\n",
       "<tr>\n",
       "  <th>vpa</th>      <td>-1.287e-05</td> <td> 2.62e-06</td> <td>   -4.917</td> <td> 0.000</td> <td> -1.8e-05</td> <td>-7.74e-06</td>\n",
       "</tr>\n",
       "<tr>\n",
       "  <th>hvdr</th>     <td>   -0.0538</td> <td>    0.003</td> <td>  -18.355</td> <td> 0.000</td> <td>   -0.060</td> <td>   -0.048</td>\n",
       "</tr>\n",
       "<tr>\n",
       "  <th>smok</th>     <td>   -0.0052</td> <td>    0.002</td> <td>   -2.293</td> <td> 0.022</td> <td>   -0.010</td> <td>   -0.001</td>\n",
       "</tr>\n",
       "<tr>\n",
       "  <th>incom50</th>  <td>   -0.0374</td> <td>    0.002</td> <td>  -23.544</td> <td> 0.000</td> <td>   -0.041</td> <td>   -0.034</td>\n",
       "</tr>\n",
       "<tr>\n",
       "  <th>cllgr</th>    <td>   -0.0183</td> <td>    0.002</td> <td>  -11.846</td> <td> 0.000</td> <td>   -0.021</td> <td>   -0.015</td>\n",
       "</tr>\n",
       "<tr>\n",
       "  <th>sex</th>      <td>    0.0042</td> <td>    0.001</td> <td>    2.894</td> <td> 0.004</td> <td>    0.001</td> <td>    0.007</td>\n",
       "</tr>\n",
       "<tr>\n",
       "  <th>age65</th>    <td>    0.0445</td> <td>    0.002</td> <td>   26.248</td> <td> 0.000</td> <td>    0.041</td> <td>    0.048</td>\n",
       "</tr>\n",
       "</table>\n",
       "<table class=\"simpletable\">\n",
       "<tr>\n",
       "  <th>Omnibus:</th>       <td>59349.208</td> <th>  Durbin-Watson:     </th>  <td>   1.990</td> \n",
       "</tr>\n",
       "<tr>\n",
       "  <th>Prob(Omnibus):</th>  <td> 0.000</td>   <th>  Jarque-Bera (JB):  </th> <td>128546.358</td>\n",
       "</tr>\n",
       "<tr>\n",
       "  <th>Skew:</th>           <td> 1.674</td>   <th>  Prob(JB):          </th>  <td>    0.00</td> \n",
       "</tr>\n",
       "<tr>\n",
       "  <th>Kurtosis:</th>       <td> 4.840</td>   <th>  Cond. No.          </th>  <td>1.85e+03</td> \n",
       "</tr>\n",
       "</table><br/><br/>Notes:<br/>[1] Standard Errors assume that the covariance matrix of the errors is correctly specified.<br/>[2] The condition number is large, 1.85e+03. This might indicate that there are<br/>strong multicollinearity or other numerical problems."
      ],
      "text/plain": [
       "<class 'statsmodels.iolib.summary.Summary'>\n",
       "\"\"\"\n",
       "                            OLS Regression Results                            \n",
       "==============================================================================\n",
       "Dep. Variable:                diabete   R-squared:                       0.130\n",
       "Model:                            OLS   Adj. R-squared:                  0.130\n",
       "Method:                 Least Squares   F-statistic:                     2421.\n",
       "Date:                Tue, 15 Mar 2022   Prob (F-statistic):               0.00\n",
       "Time:                        17:53:39   Log-Likelihood:                -62042.\n",
       "No. Observations:              211319   AIC:                         1.241e+05\n",
       "Df Residuals:                  211305   BIC:                         1.243e+05\n",
       "Df Model:                          13                                         \n",
       "Covariance Type:            nonrobust                                         \n",
       "==============================================================================\n",
       "                 coef    std err          t      P>|t|      [0.025      0.975]\n",
       "------------------------------------------------------------------------------\n",
       "const         -0.1840      0.004    -45.223      0.000      -0.192      -0.176\n",
       "bmi            0.0092      0.000     72.138      0.000       0.009       0.009\n",
       "physhlth       0.0034      0.000     33.308      0.000       0.003       0.004\n",
       "menthlth       0.0005      0.000      4.415      0.000       0.000       0.001\n",
       "michd          0.0982      0.003     35.370      0.000       0.093       0.104\n",
       "hchol          0.0790      0.002     50.524      0.000       0.076       0.082\n",
       "hblpr          0.0933      0.002     57.459      0.000       0.090       0.097\n",
       "vpa        -1.287e-05   2.62e-06     -4.917      0.000    -1.8e-05   -7.74e-06\n",
       "hvdr          -0.0538      0.003    -18.355      0.000      -0.060      -0.048\n",
       "smok          -0.0052      0.002     -2.293      0.022      -0.010      -0.001\n",
       "incom50       -0.0374      0.002    -23.544      0.000      -0.041      -0.034\n",
       "cllgr         -0.0183      0.002    -11.846      0.000      -0.021      -0.015\n",
       "sex            0.0042      0.001      2.894      0.004       0.001       0.007\n",
       "age65          0.0445      0.002     26.248      0.000       0.041       0.048\n",
       "==============================================================================\n",
       "Omnibus:                    59349.208   Durbin-Watson:                   1.990\n",
       "Prob(Omnibus):                  0.000   Jarque-Bera (JB):           128546.358\n",
       "Skew:                           1.674   Prob(JB):                         0.00\n",
       "Kurtosis:                       4.840   Cond. No.                     1.85e+03\n",
       "==============================================================================\n",
       "\n",
       "Notes:\n",
       "[1] Standard Errors assume that the covariance matrix of the errors is correctly specified.\n",
       "[2] The condition number is large, 1.85e+03. This might indicate that there are\n",
       "strong multicollinearity or other numerical problems.\n",
       "\"\"\""
      ]
     },
     "execution_count": 6,
     "metadata": {},
     "output_type": "execute_result"
    }
   ],
   "source": [
    "# Perform the multiple linear regression \n",
    "X = df[['bmi', 'physhlth', 'menthlth', 'michd', 'hchol', 'hblpr', 'vpa', \n",
    "        'hvdr', 'smok', 'incom50', 'cllgr','sex', 'age65']]   # independent variables\n",
    "y = df['diabete']   # dependent variables\n",
    "\n",
    "# to get intercept -- this is optional\n",
    "X = sm.add_constant(X)\n",
    "\n",
    "# fit the regression model\n",
    "reg = sm.OLS(y, X).fit()\n",
    "reg.summary()"
   ]
  },
  {
   "cell_type": "markdown",
   "id": "62d1fecc-4432-44ef-a95e-ed6e7025ed27",
   "metadata": {},
   "source": [
    "##### The coefficient of determination (R-Squared) is 0.13 (~13%), which suggests that only ~13% of the variance in y can be explained by X variables. This indicates the multiple OLS model doesn't fit the dataset well."
   ]
  },
  {
   "cell_type": "code",
   "execution_count": 7,
   "id": "d886468a-fed3-4428-8014-ea6964aef1be",
   "metadata": {},
   "outputs": [
    {
     "name": "stderr",
     "output_type": "stream",
     "text": [
      "/opt/conda/lib/python3.7/site-packages/bioinfokit/analys.py:1280: RuntimeWarning: divide by zero encountered in true_divide\n",
      "  mape = np.mean(np.abs((y - yhat) / y))\n"
     ]
    },
    {
     "data": {
      "text/html": [
       "<div>\n",
       "<style scoped>\n",
       "    .dataframe tbody tr th:only-of-type {\n",
       "        vertical-align: middle;\n",
       "    }\n",
       "\n",
       "    .dataframe tbody tr th {\n",
       "        vertical-align: top;\n",
       "    }\n",
       "\n",
       "    .dataframe thead th {\n",
       "        text-align: right;\n",
       "    }\n",
       "</style>\n",
       "<table border=\"1\" class=\"dataframe\">\n",
       "  <thead>\n",
       "    <tr style=\"text-align: right;\">\n",
       "      <th></th>\n",
       "      <th>Metrics</th>\n",
       "      <th>Value</th>\n",
       "    </tr>\n",
       "  </thead>\n",
       "  <tbody>\n",
       "    <tr>\n",
       "      <th>0</th>\n",
       "      <td>Root Mean Square Error (RMSE)</td>\n",
       "      <td>0.3245</td>\n",
       "    </tr>\n",
       "    <tr>\n",
       "      <th>1</th>\n",
       "      <td>Mean Squared Error (MSE)</td>\n",
       "      <td>0.1053</td>\n",
       "    </tr>\n",
       "    <tr>\n",
       "      <th>2</th>\n",
       "      <td>Mean Absolute Error (MAE)</td>\n",
       "      <td>0.2172</td>\n",
       "    </tr>\n",
       "    <tr>\n",
       "      <th>3</th>\n",
       "      <td>Mean Absolute Percentage Error (MAPE)</td>\n",
       "      <td>inf</td>\n",
       "    </tr>\n",
       "  </tbody>\n",
       "</table>\n",
       "</div>"
      ],
      "text/plain": [
       "                                 Metrics   Value\n",
       "0          Root Mean Square Error (RMSE)  0.3245\n",
       "1               Mean Squared Error (MSE)  0.1053\n",
       "2              Mean Absolute Error (MAE)  0.2172\n",
       "3  Mean Absolute Percentage Error (MAPE)     inf"
      ]
     },
     "execution_count": 7,
     "metadata": {},
     "output_type": "execute_result"
    }
   ],
   "source": [
    "# regression metrics\n",
    "res= stat()\n",
    "res.reg_metric(y=np.array(y), yhat=np.array(reg.predict(X)), resid=np.array(reg.resid))\n",
    "res.reg_metric_df"
   ]
  },
  {
   "cell_type": "code",
   "execution_count": 8,
   "id": "639b67eb-d1ef-4a79-b097-fc8f550f6d2e",
   "metadata": {},
   "outputs": [
    {
     "data": {
      "text/html": [
       "<div>\n",
       "<style scoped>\n",
       "    .dataframe tbody tr th:only-of-type {\n",
       "        vertical-align: middle;\n",
       "    }\n",
       "\n",
       "    .dataframe tbody tr th {\n",
       "        vertical-align: top;\n",
       "    }\n",
       "\n",
       "    .dataframe thead th {\n",
       "        text-align: right;\n",
       "    }\n",
       "</style>\n",
       "<table border=\"1\" class=\"dataframe\">\n",
       "  <thead>\n",
       "    <tr style=\"text-align: right;\">\n",
       "      <th></th>\n",
       "      <th>variables</th>\n",
       "      <th>VIF</th>\n",
       "    </tr>\n",
       "  </thead>\n",
       "  <tbody>\n",
       "    <tr>\n",
       "      <th>0</th>\n",
       "      <td>bmi</td>\n",
       "      <td>1.104353</td>\n",
       "    </tr>\n",
       "    <tr>\n",
       "      <th>1</th>\n",
       "      <td>physhlth</td>\n",
       "      <td>1.170927</td>\n",
       "    </tr>\n",
       "    <tr>\n",
       "      <th>2</th>\n",
       "      <td>menthlth</td>\n",
       "      <td>1.160647</td>\n",
       "    </tr>\n",
       "    <tr>\n",
       "      <th>3</th>\n",
       "      <td>michd</td>\n",
       "      <td>1.109572</td>\n",
       "    </tr>\n",
       "    <tr>\n",
       "      <th>4</th>\n",
       "      <td>hchol</td>\n",
       "      <td>1.149095</td>\n",
       "    </tr>\n",
       "    <tr>\n",
       "      <th>5</th>\n",
       "      <td>hblpr</td>\n",
       "      <td>1.257322</td>\n",
       "    </tr>\n",
       "    <tr>\n",
       "      <th>6</th>\n",
       "      <td>vpa</td>\n",
       "      <td>1.097463</td>\n",
       "    </tr>\n",
       "    <tr>\n",
       "      <th>7</th>\n",
       "      <td>hvdr</td>\n",
       "      <td>1.015248</td>\n",
       "    </tr>\n",
       "    <tr>\n",
       "      <th>8</th>\n",
       "      <td>smok</td>\n",
       "      <td>1.091829</td>\n",
       "    </tr>\n",
       "    <tr>\n",
       "      <th>9</th>\n",
       "      <td>incom50</td>\n",
       "      <td>1.242743</td>\n",
       "    </tr>\n",
       "    <tr>\n",
       "      <th>10</th>\n",
       "      <td>cllgr</td>\n",
       "      <td>1.188517</td>\n",
       "    </tr>\n",
       "    <tr>\n",
       "      <th>11</th>\n",
       "      <td>sex</td>\n",
       "      <td>1.035591</td>\n",
       "    </tr>\n",
       "    <tr>\n",
       "      <th>12</th>\n",
       "      <td>age65</td>\n",
       "      <td>1.292134</td>\n",
       "    </tr>\n",
       "  </tbody>\n",
       "</table>\n",
       "</div>"
      ],
      "text/plain": [
       "   variables       VIF\n",
       "0        bmi  1.104353\n",
       "1   physhlth  1.170927\n",
       "2   menthlth  1.160647\n",
       "3      michd  1.109572\n",
       "4      hchol  1.149095\n",
       "5      hblpr  1.257322\n",
       "6        vpa  1.097463\n",
       "7       hvdr  1.015248\n",
       "8       smok  1.091829\n",
       "9    incom50  1.242743\n",
       "10     cllgr  1.188517\n",
       "11       sex  1.035591\n",
       "12     age65  1.292134"
      ]
     },
     "execution_count": 8,
     "metadata": {},
     "output_type": "execute_result"
    }
   ],
   "source": [
    "# Variance Inflation Factor (VIF) \n",
    "pd.DataFrame({'variables':X.columns[1:], 'VIF':\n",
    "              [variance_inflation_factor(X.values, i+1) for i in range(len(X.columns[1:]))]})"
   ]
  },
  {
   "cell_type": "markdown",
   "id": "83ab57c4-6932-44df-85dd-d3b1eda2731a",
   "metadata": {},
   "source": [
    "##### VIF < 2 is a good indicator of the absence of strong multicollinearity and VIF = 1 indicates a complete absence of multicollinearity."
   ]
  },
  {
   "cell_type": "markdown",
   "id": "912772ec-66d0-4345-89c1-9ecea41e7254",
   "metadata": {},
   "source": [
    "##### It is quite obvious that the mutiple linear regression does not fit the cleaned dataset we have. We have decided to try the Logistic regression model to fit the dataset since the outcome "
   ]
  },
  {
   "cell_type": "markdown",
   "id": "ee124f5b-5c95-4732-b101-7f5cf0d1fac1",
   "metadata": {},
   "source": [
    "---------------------------------------"
   ]
  },
  {
   "cell_type": "markdown",
   "id": "f9668b74-3356-48e3-a554-ef5be839af2b",
   "metadata": {},
   "source": [
    "#### Mutiple Logistics Regression 1"
   ]
  },
  {
   "cell_type": "code",
   "execution_count": 9,
   "id": "1e912154-2758-4777-a8c9-f960d1dc455e",
   "metadata": {},
   "outputs": [],
   "source": [
    "# Import the library\n",
    "from sklearn.model_selection import train_test_split"
   ]
  },
  {
   "cell_type": "code",
   "execution_count": 10,
   "id": "4506f16b-5fd4-4203-ad54-d36c7739d5ca",
   "metadata": {},
   "outputs": [],
   "source": [
    "X = df[['bmi', 'physhlth', 'menthlth', 'michd', 'hchol', 'hblpr', 'vpa', \n",
    "      'hvdr', 'smok', 'incom50', 'cllgr','sex', 'age65']]\n",
    "y = df['diabete']"
   ]
  },
  {
   "cell_type": "code",
   "execution_count": 11,
   "id": "35206daa-78ba-41bc-9e57-ab9951434537",
   "metadata": {},
   "outputs": [
    {
     "name": "stdout",
     "output_type": "stream",
     "text": [
      "Optimization terminated successfully.\n",
      "         Current function value: 0.383769\n",
      "         Iterations 7\n"
     ]
    },
    {
     "data": {
      "text/html": [
       "<table class=\"simpletable\">\n",
       "<caption>Logit Regression Results</caption>\n",
       "<tr>\n",
       "  <th>Dep. Variable:</th>        <td>diabete</td>     <th>  No. Observations:  </th>  <td>211319</td> \n",
       "</tr>\n",
       "<tr>\n",
       "  <th>Model:</th>                 <td>Logit</td>      <th>  Df Residuals:      </th>  <td>211306</td> \n",
       "</tr>\n",
       "<tr>\n",
       "  <th>Method:</th>                 <td>MLE</td>       <th>  Df Model:          </th>  <td>    12</td> \n",
       "</tr>\n",
       "<tr>\n",
       "  <th>Date:</th>            <td>Tue, 15 Mar 2022</td> <th>  Pseudo R-squ.:     </th>  <td>0.05594</td>\n",
       "</tr>\n",
       "<tr>\n",
       "  <th>Time:</th>                <td>17:53:44</td>     <th>  Log-Likelihood:    </th> <td> -81098.</td>\n",
       "</tr>\n",
       "<tr>\n",
       "  <th>converged:</th>             <td>True</td>       <th>  LL-Null:           </th> <td> -85903.</td>\n",
       "</tr>\n",
       "<tr>\n",
       "  <th>Covariance Type:</th>     <td>nonrobust</td>    <th>  LLR p-value:       </th>  <td> 0.000</td> \n",
       "</tr>\n",
       "</table>\n",
       "<table class=\"simpletable\">\n",
       "<tr>\n",
       "      <td></td>        <th>coef</th>     <th>std err</th>      <th>z</th>      <th>P>|z|</th>  <th>[0.025</th>    <th>0.975]</th>  \n",
       "</tr>\n",
       "<tr>\n",
       "  <th>bmi</th>      <td>   -0.0547</td> <td>    0.001</td> <td> -104.145</td> <td> 0.000</td> <td>   -0.056</td> <td>   -0.054</td>\n",
       "</tr>\n",
       "<tr>\n",
       "  <th>physhlth</th> <td>    0.0195</td> <td>    0.001</td> <td>   25.015</td> <td> 0.000</td> <td>    0.018</td> <td>    0.021</td>\n",
       "</tr>\n",
       "<tr>\n",
       "  <th>menthlth</th> <td>   -0.0014</td> <td>    0.001</td> <td>   -1.464</td> <td> 0.143</td> <td>   -0.003</td> <td>    0.000</td>\n",
       "</tr>\n",
       "<tr>\n",
       "  <th>michd</th>    <td>    0.4472</td> <td>    0.020</td> <td>   22.429</td> <td> 0.000</td> <td>    0.408</td> <td>    0.486</td>\n",
       "</tr>\n",
       "<tr>\n",
       "  <th>hchol</th>    <td>    0.5922</td> <td>    0.014</td> <td>   43.649</td> <td> 0.000</td> <td>    0.566</td> <td>    0.619</td>\n",
       "</tr>\n",
       "<tr>\n",
       "  <th>hblpr</th>    <td>    0.8665</td> <td>    0.014</td> <td>   61.063</td> <td> 0.000</td> <td>    0.839</td> <td>    0.894</td>\n",
       "</tr>\n",
       "<tr>\n",
       "  <th>vpa</th>      <td>   -0.0005</td> <td> 2.53e-05</td> <td>  -17.943</td> <td> 0.000</td> <td>   -0.001</td> <td>   -0.000</td>\n",
       "</tr>\n",
       "<tr>\n",
       "  <th>hvdr</th>     <td>   -0.9209</td> <td>    0.036</td> <td>  -25.499</td> <td> 0.000</td> <td>   -0.992</td> <td>   -0.850</td>\n",
       "</tr>\n",
       "<tr>\n",
       "  <th>smok</th>     <td>   -0.4949</td> <td>    0.021</td> <td>  -23.911</td> <td> 0.000</td> <td>   -0.535</td> <td>   -0.454</td>\n",
       "</tr>\n",
       "<tr>\n",
       "  <th>incom50</th>  <td>   -0.7442</td> <td>    0.014</td> <td>  -53.681</td> <td> 0.000</td> <td>   -0.771</td> <td>   -0.717</td>\n",
       "</tr>\n",
       "<tr>\n",
       "  <th>cllgr</th>    <td>   -0.5073</td> <td>    0.014</td> <td>  -36.013</td> <td> 0.000</td> <td>   -0.535</td> <td>   -0.480</td>\n",
       "</tr>\n",
       "<tr>\n",
       "  <th>sex</th>      <td>   -0.4353</td> <td>    0.013</td> <td>  -34.558</td> <td> 0.000</td> <td>   -0.460</td> <td>   -0.411</td>\n",
       "</tr>\n",
       "<tr>\n",
       "  <th>age65</th>    <td>   -0.0186</td> <td>    0.014</td> <td>   -1.295</td> <td> 0.195</td> <td>   -0.047</td> <td>    0.010</td>\n",
       "</tr>\n",
       "</table>"
      ],
      "text/plain": [
       "<class 'statsmodels.iolib.summary.Summary'>\n",
       "\"\"\"\n",
       "                           Logit Regression Results                           \n",
       "==============================================================================\n",
       "Dep. Variable:                diabete   No. Observations:               211319\n",
       "Model:                          Logit   Df Residuals:                   211306\n",
       "Method:                           MLE   Df Model:                           12\n",
       "Date:                Tue, 15 Mar 2022   Pseudo R-squ.:                 0.05594\n",
       "Time:                        17:53:44   Log-Likelihood:                -81098.\n",
       "converged:                       True   LL-Null:                       -85903.\n",
       "Covariance Type:            nonrobust   LLR p-value:                     0.000\n",
       "==============================================================================\n",
       "                 coef    std err          z      P>|z|      [0.025      0.975]\n",
       "------------------------------------------------------------------------------\n",
       "bmi           -0.0547      0.001   -104.145      0.000      -0.056      -0.054\n",
       "physhlth       0.0195      0.001     25.015      0.000       0.018       0.021\n",
       "menthlth      -0.0014      0.001     -1.464      0.143      -0.003       0.000\n",
       "michd          0.4472      0.020     22.429      0.000       0.408       0.486\n",
       "hchol          0.5922      0.014     43.649      0.000       0.566       0.619\n",
       "hblpr          0.8665      0.014     61.063      0.000       0.839       0.894\n",
       "vpa           -0.0005   2.53e-05    -17.943      0.000      -0.001      -0.000\n",
       "hvdr          -0.9209      0.036    -25.499      0.000      -0.992      -0.850\n",
       "smok          -0.4949      0.021    -23.911      0.000      -0.535      -0.454\n",
       "incom50       -0.7442      0.014    -53.681      0.000      -0.771      -0.717\n",
       "cllgr         -0.5073      0.014    -36.013      0.000      -0.535      -0.480\n",
       "sex           -0.4353      0.013    -34.558      0.000      -0.460      -0.411\n",
       "age65         -0.0186      0.014     -1.295      0.195      -0.047       0.010\n",
       "==============================================================================\n",
       "\"\"\""
      ]
     },
     "execution_count": 11,
     "metadata": {},
     "output_type": "execute_result"
    }
   ],
   "source": [
    "# fit the logistic regression model 1\n",
    "logreg = sm.Logit(y, X).fit()\n",
    "logreg.summary()"
   ]
  },
  {
   "cell_type": "code",
   "execution_count": 12,
   "id": "283c18e8-ef02-4965-a65f-e287d35a8f15",
   "metadata": {},
   "outputs": [
    {
     "data": {
      "text/plain": [
       "bmi         0.946800\n",
       "physhlth    1.019665\n",
       "menthlth    0.998644\n",
       "michd       1.563903\n",
       "hchol       1.807890\n",
       "hblpr       2.378685\n",
       "vpa         0.999547\n",
       "hvdr        0.398171\n",
       "smok        0.609652\n",
       "incom50     0.475121\n",
       "cllgr       0.602142\n",
       "sex         0.647078\n",
       "age65       0.981574\n",
       "dtype: float64"
      ]
     },
     "execution_count": 12,
     "metadata": {},
     "output_type": "execute_result"
    }
   ],
   "source": [
    "# get odds ratio\n",
    "np.exp(logreg.params)"
   ]
  },
  {
   "cell_type": "markdown",
   "id": "ff1f7827-e5fc-4349-bfbf-130e55398465",
   "metadata": {
    "tags": []
   },
   "source": [
    "##### Training the logistic model 1"
   ]
  },
  {
   "cell_type": "code",
   "execution_count": 13,
   "id": "3f0b85f6-2f48-45a6-a395-14f6983dc4ad",
   "metadata": {},
   "outputs": [],
   "source": [
    "# Split Data into Training and Test set\n",
    "X_train,X_test,y_train,y_test = train_test_split(X,y,test_size=0.25,random_state=0)"
   ]
  },
  {
   "cell_type": "code",
   "execution_count": 14,
   "id": "c9bbcd28-d3ca-4e36-9360-2ca9fe077caa",
   "metadata": {},
   "outputs": [
    {
     "name": "stderr",
     "output_type": "stream",
     "text": [
      "/opt/conda/lib/python3.7/site-packages/sklearn/linear_model/_logistic.py:818: ConvergenceWarning: lbfgs failed to converge (status=1):\n",
      "STOP: TOTAL NO. of ITERATIONS REACHED LIMIT.\n",
      "\n",
      "Increase the number of iterations (max_iter) or scale the data as shown in:\n",
      "    https://scikit-learn.org/stable/modules/preprocessing.html\n",
      "Please also refer to the documentation for alternative solver options:\n",
      "    https://scikit-learn.org/stable/modules/linear_model.html#logistic-regression\n",
      "  extra_warning_msg=_LOGISTIC_SOLVER_CONVERGENCE_MSG,\n"
     ]
    }
   ],
   "source": [
    "logistic_regression= LogisticRegression()\n",
    "logistic_regression.fit(X_train,y_train)\n",
    "y_pred=logistic_regression.predict(X_test)"
   ]
  },
  {
   "cell_type": "markdown",
   "id": "c6a0f78a-ef40-449c-ac33-343c01e16272",
   "metadata": {},
   "source": [
    "##### Confusion Matrix"
   ]
  },
  {
   "cell_type": "code",
   "execution_count": 15,
   "id": "d20b105d-4a1b-4e8f-aafc-26d35f5a3e26",
   "metadata": {},
   "outputs": [
    {
     "data": {
      "text/plain": [
       "<AxesSubplot:xlabel='Predicted', ylabel='Actual'>"
      ]
     },
     "execution_count": 15,
     "metadata": {},
     "output_type": "execute_result"
    },
    {
     "data": {
      "image/png": "[encoded data removed]",
      "text/plain": [
       "<Figure size 432x288 with 2 Axes>"
      ]
     },
     "metadata": {
      "needs_background": "light"
     },
     "output_type": "display_data"
    }
   ],
   "source": [
    "confusion_matrix = pd.crosstab(y_test, y_pred, rownames=['Actual'], colnames=['Predicted'])\n",
    "sns.heatmap(confusion_matrix, annot=True)"
   ]
  },
  {
   "cell_type": "code",
   "execution_count": 16,
   "id": "c4ba6759-4022-4e36-8091-82258e60acd0",
   "metadata": {},
   "outputs": [
    {
     "name": "stdout",
     "output_type": "stream",
     "text": [
      "Accuracy:  0.8602498580352073\n"
     ]
    }
   ],
   "source": [
    "print('Accuracy: ',metrics.accuracy_score(y_test, y_pred))\n",
    "plt.show()"
   ]
  },
  {
   "cell_type": "markdown",
   "id": "34db88dc-b9a7-498d-b282-682dcea7002e",
   "metadata": {},
   "source": [
    "##### The accuracy is therefore 86.02% for the test set."
   ]
  },
  {
   "cell_type": "code",
   "execution_count": 17,
   "id": "385240f1-ece4-480b-95b0-a34d720d568c",
   "metadata": {},
   "outputs": [
    {
     "data": {
      "image/png": "[encoded data removed]",
      "text/plain": [
       "<Figure size 432x288 with 1 Axes>"
      ]
     },
     "metadata": {
      "needs_background": "light"
     },
     "output_type": "display_data"
    }
   ],
   "source": [
    "# Plot ROC curve and calculate AUC\n",
    "#define metrics\n",
    "y_pred_proba = logistic_regression.predict_proba(X_test)[::,1]\n",
    "fpr, tpr, _ = metrics.roc_curve(y_test, y_pred_proba)\n",
    "auc = metrics.roc_auc_score(y_test, y_pred_proba)\n",
    "\n",
    "#create ROC curve\n",
    "plt.plot(fpr,tpr,label=\"AUC=\"+str(auc))\n",
    "plt.ylabel('True Positive Rate')\n",
    "plt.xlabel('False Positive Rate')\n",
    "plt.legend(loc=4)\n",
    "plt.show()"
   ]
  },
  {
   "cell_type": "markdown",
   "id": "53813475-9824-41f6-b59a-b0e7b7eabf4c",
   "metadata": {},
   "source": [
    "-----------------"
   ]
  },
  {
   "cell_type": "markdown",
   "id": "1538f208-6474-413c-b123-3ac7cbf7bc23",
   "metadata": {
    "tags": []
   },
   "source": [
    "#### Mutiple Logistics Regression 2"
   ]
  },
  {
   "cell_type": "markdown",
   "id": "7680dca5-e306-47a3-9105-4be55108d777",
   "metadata": {},
   "source": [
    "##### Drop two independent variables : menthlth, age65"
   ]
  },
  {
   "cell_type": "code",
   "execution_count": 18,
   "id": "f6d5a0b7-498d-4019-996b-75bbe77e6e4a",
   "metadata": {},
   "outputs": [],
   "source": [
    "X2 = df[['bmi', 'physhlth', 'michd', 'hchol', 'hblpr', 'vpa', \n",
    "      'hvdr', 'smok', 'incom50', 'cllgr','sex']]\n",
    "y2 = df['diabete']"
   ]
  },
  {
   "cell_type": "code",
   "execution_count": 19,
   "id": "a0c0efc2-17d1-4932-b385-57fd073a12c8",
   "metadata": {},
   "outputs": [
    {
     "name": "stdout",
     "output_type": "stream",
     "text": [
      "Optimization terminated successfully.\n",
      "         Current function value: 0.383777\n",
      "         Iterations 7\n"
     ]
    },
    {
     "data": {
      "text/html": [
       "<table class=\"simpletable\">\n",
       "<caption>Logit Regression Results</caption>\n",
       "<tr>\n",
       "  <th>Dep. Variable:</th>        <td>diabete</td>     <th>  No. Observations:  </th>  <td>211319</td> \n",
       "</tr>\n",
       "<tr>\n",
       "  <th>Model:</th>                 <td>Logit</td>      <th>  Df Residuals:      </th>  <td>211308</td> \n",
       "</tr>\n",
       "<tr>\n",
       "  <th>Method:</th>                 <td>MLE</td>       <th>  Df Model:          </th>  <td>    10</td> \n",
       "</tr>\n",
       "<tr>\n",
       "  <th>Date:</th>            <td>Tue, 15 Mar 2022</td> <th>  Pseudo R-squ.:     </th>  <td>0.05592</td>\n",
       "</tr>\n",
       "<tr>\n",
       "  <th>Time:</th>                <td>17:53:49</td>     <th>  Log-Likelihood:    </th> <td> -81099.</td>\n",
       "</tr>\n",
       "<tr>\n",
       "  <th>converged:</th>             <td>True</td>       <th>  LL-Null:           </th> <td> -85903.</td>\n",
       "</tr>\n",
       "<tr>\n",
       "  <th>Covariance Type:</th>     <td>nonrobust</td>    <th>  LLR p-value:       </th>  <td> 0.000</td> \n",
       "</tr>\n",
       "</table>\n",
       "<table class=\"simpletable\">\n",
       "<tr>\n",
       "      <td></td>        <th>coef</th>     <th>std err</th>      <th>z</th>      <th>P>|z|</th>  <th>[0.025</th>    <th>0.975]</th>  \n",
       "</tr>\n",
       "<tr>\n",
       "  <th>bmi</th>      <td>   -0.0548</td> <td>    0.001</td> <td> -106.231</td> <td> 0.000</td> <td>   -0.056</td> <td>   -0.054</td>\n",
       "</tr>\n",
       "<tr>\n",
       "  <th>physhlth</th> <td>    0.0191</td> <td>    0.001</td> <td>   25.882</td> <td> 0.000</td> <td>    0.018</td> <td>    0.021</td>\n",
       "</tr>\n",
       "<tr>\n",
       "  <th>michd</th>    <td>    0.4434</td> <td>    0.020</td> <td>   22.474</td> <td> 0.000</td> <td>    0.405</td> <td>    0.482</td>\n",
       "</tr>\n",
       "<tr>\n",
       "  <th>hchol</th>    <td>    0.5896</td> <td>    0.013</td> <td>   43.857</td> <td> 0.000</td> <td>    0.563</td> <td>    0.616</td>\n",
       "</tr>\n",
       "<tr>\n",
       "  <th>hblpr</th>    <td>    0.8631</td> <td>    0.014</td> <td>   62.154</td> <td> 0.000</td> <td>    0.836</td> <td>    0.890</td>\n",
       "</tr>\n",
       "<tr>\n",
       "  <th>vpa</th>      <td>   -0.0005</td> <td> 2.43e-05</td> <td>  -19.006</td> <td> 0.000</td> <td>   -0.001</td> <td>   -0.000</td>\n",
       "</tr>\n",
       "<tr>\n",
       "  <th>hvdr</th>     <td>   -0.9217</td> <td>    0.036</td> <td>  -25.532</td> <td> 0.000</td> <td>   -0.992</td> <td>   -0.851</td>\n",
       "</tr>\n",
       "<tr>\n",
       "  <th>smok</th>     <td>   -0.4955</td> <td>    0.020</td> <td>  -24.226</td> <td> 0.000</td> <td>   -0.536</td> <td>   -0.455</td>\n",
       "</tr>\n",
       "<tr>\n",
       "  <th>incom50</th>  <td>   -0.7413</td> <td>    0.014</td> <td>  -53.836</td> <td> 0.000</td> <td>   -0.768</td> <td>   -0.714</td>\n",
       "</tr>\n",
       "<tr>\n",
       "  <th>cllgr</th>    <td>   -0.5084</td> <td>    0.014</td> <td>  -36.167</td> <td> 0.000</td> <td>   -0.536</td> <td>   -0.481</td>\n",
       "</tr>\n",
       "<tr>\n",
       "  <th>sex</th>      <td>   -0.4386</td> <td>    0.012</td> <td>  -35.223</td> <td> 0.000</td> <td>   -0.463</td> <td>   -0.414</td>\n",
       "</tr>\n",
       "</table>"
      ],
      "text/plain": [
       "<class 'statsmodels.iolib.summary.Summary'>\n",
       "\"\"\"\n",
       "                           Logit Regression Results                           \n",
       "==============================================================================\n",
       "Dep. Variable:                diabete   No. Observations:               211319\n",
       "Model:                          Logit   Df Residuals:                   211308\n",
       "Method:                           MLE   Df Model:                           10\n",
       "Date:                Tue, 15 Mar 2022   Pseudo R-squ.:                 0.05592\n",
       "Time:                        17:53:49   Log-Likelihood:                -81099.\n",
       "converged:                       True   LL-Null:                       -85903.\n",
       "Covariance Type:            nonrobust   LLR p-value:                     0.000\n",
       "==============================================================================\n",
       "                 coef    std err          z      P>|z|      [0.025      0.975]\n",
       "------------------------------------------------------------------------------\n",
       "bmi           -0.0548      0.001   -106.231      0.000      -0.056      -0.054\n",
       "physhlth       0.0191      0.001     25.882      0.000       0.018       0.021\n",
       "michd          0.4434      0.020     22.474      0.000       0.405       0.482\n",
       "hchol          0.5896      0.013     43.857      0.000       0.563       0.616\n",
       "hblpr          0.8631      0.014     62.154      0.000       0.836       0.890\n",
       "vpa           -0.0005   2.43e-05    -19.006      0.000      -0.001      -0.000\n",
       "hvdr          -0.9217      0.036    -25.532      0.000      -0.992      -0.851\n",
       "smok          -0.4955      0.020    -24.226      0.000      -0.536      -0.455\n",
       "incom50       -0.7413      0.014    -53.836      0.000      -0.768      -0.714\n",
       "cllgr         -0.5084      0.014    -36.167      0.000      -0.536      -0.481\n",
       "sex           -0.4386      0.012    -35.223      0.000      -0.463      -0.414\n",
       "==============================================================================\n",
       "\"\"\""
      ]
     },
     "execution_count": 19,
     "metadata": {},
     "output_type": "execute_result"
    }
   ],
   "source": [
    "# fit the logistic regression model 2\n",
    "logreg2 = sm.Logit(y2, X2).fit()\n",
    "logreg2.summary()"
   ]
  },
  {
   "cell_type": "code",
   "execution_count": 20,
   "id": "374ce54f-86a6-4d83-a8dc-1c0753d089fb",
   "metadata": {},
   "outputs": [
    {
     "data": {
      "text/plain": [
       "bmi         0.946633\n",
       "physhlth    1.019328\n",
       "michd       1.558020\n",
       "hchol       1.803294\n",
       "hblpr       2.370601\n",
       "vpa         0.999539\n",
       "hvdr        0.397857\n",
       "smok        0.609239\n",
       "incom50     0.476475\n",
       "cllgr       0.601480\n",
       "sex         0.644949\n",
       "dtype: float64"
      ]
     },
     "execution_count": 20,
     "metadata": {},
     "output_type": "execute_result"
    }
   ],
   "source": [
    "# get odds ratio\n",
    "np.exp(logreg2.params)"
   ]
  },
  {
   "cell_type": "markdown",
   "id": "b580b6b2-8716-4ce6-aa39-c780c60f0f18",
   "metadata": {},
   "source": [
    "##### Training the logistic model 2"
   ]
  },
  {
   "cell_type": "code",
   "execution_count": 21,
   "id": "745fc142-dc51-48be-988f-ea1186e806a5",
   "metadata": {},
   "outputs": [],
   "source": [
    "# Split Data into Training and Test set 2 \n",
    "X_train2,X_test2,y_train2,y_test2 = train_test_split(X2,y2,test_size=0.25,random_state=0)"
   ]
  },
  {
   "cell_type": "code",
   "execution_count": 22,
   "id": "270ad996-27ab-4bec-af31-569408d5e785",
   "metadata": {},
   "outputs": [
    {
     "name": "stderr",
     "output_type": "stream",
     "text": [
      "/opt/conda/lib/python3.7/site-packages/sklearn/linear_model/_logistic.py:818: ConvergenceWarning: lbfgs failed to converge (status=1):\n",
      "STOP: TOTAL NO. of ITERATIONS REACHED LIMIT.\n",
      "\n",
      "Increase the number of iterations (max_iter) or scale the data as shown in:\n",
      "    https://scikit-learn.org/stable/modules/preprocessing.html\n",
      "Please also refer to the documentation for alternative solver options:\n",
      "    https://scikit-learn.org/stable/modules/linear_model.html#logistic-regression\n",
      "  extra_warning_msg=_LOGISTIC_SOLVER_CONVERGENCE_MSG,\n"
     ]
    }
   ],
   "source": [
    "logistic_regression2= LogisticRegression()\n",
    "logistic_regression2.fit(X_train2,y_train2)\n",
    "y_pred2=logistic_regression2.predict(X_test2)"
   ]
  },
  {
   "cell_type": "code",
   "execution_count": 23,
   "id": "245ddd73-e117-4b55-a727-5de8a4300a6b",
   "metadata": {},
   "outputs": [
    {
     "data": {
      "text/plain": [
       "<AxesSubplot:xlabel='Predicted', ylabel='Actual'>"
      ]
     },
     "execution_count": 23,
     "metadata": {},
     "output_type": "execute_result"
    },
    {
     "data": {
      "image/png": "[encoded data removed]",
      "text/plain": [
       "<Figure size 432x288 with 2 Axes>"
      ]
     },
     "metadata": {
      "needs_background": "light"
     },
     "output_type": "display_data"
    }
   ],
   "source": [
    "confusion_matrix2 = pd.crosstab(y_test2, y_pred2, rownames=['Actual'], colnames=['Predicted'])\n",
    "sns.heatmap(confusion_matrix2, annot=True)"
   ]
  },
  {
   "cell_type": "code",
   "execution_count": 24,
   "id": "8e1fbb9b-ec3c-4225-849a-490e88ae181b",
   "metadata": {},
   "outputs": [
    {
     "name": "stdout",
     "output_type": "stream",
     "text": [
      "Accuracy:  0.860798788567102\n"
     ]
    }
   ],
   "source": [
    "print('Accuracy: ',metrics.accuracy_score(y_test2, y_pred2))\n",
    "plt.show()"
   ]
  },
  {
   "cell_type": "markdown",
   "id": "ff51a432-8b63-46b7-ac76-b12f29d7007b",
   "metadata": {},
   "source": [
    "##### The accuracy is therefore 86.08% for the test set."
   ]
  },
  {
   "cell_type": "code",
   "execution_count": 25,
   "id": "a072e60e-86d6-4016-81db-2b46c3630058",
   "metadata": {},
   "outputs": [
    {
     "data": {
      "image/png": "[encoded data removed]",
      "text/plain": [
       "<Figure size 432x288 with 1 Axes>"
      ]
     },
     "metadata": {
      "needs_background": "light"
     },
     "output_type": "display_data"
    }
   ],
   "source": [
    "# Plot ROC curve and calculate AUC for logistic model 2\n",
    "#define metrics\n",
    "y_pred_proba2 = logistic_regression2.predict_proba(X_test2)[::,1]\n",
    "fpr2, tpr2, _ = metrics.roc_curve(y_test2, y_pred_proba2)\n",
    "auc2 = metrics.roc_auc_score(y_test2, y_pred_proba2)\n",
    "\n",
    "#create ROC curve\n",
    "plt.plot(fpr2,tpr2,label=\"AUC=\"+str(auc2))\n",
    "plt.ylabel('True Positive Rate')\n",
    "plt.xlabel('False Positive Rate')\n",
    "plt.legend(loc=4)\n",
    "plt.show()"
   ]
  }
 ],
 "metadata": {
  "environment": {
   "kernel": "python3",
   "name": "common-cpu.m89",
   "type": "gcloud",
   "uri": "gcr.io/deeplearning-platform-release/base-cpu:m89"
  },
  "kernelspec": {
   "display_name": "Python 3",
   "language": "python",
   "name": "python3"
  },
  "language_info": {
   "codemirror_mode": {
    "name": "ipython",
    "version": 3
   },
   "file_extension": ".py",
   "mimetype": "text/x-python",
   "name": "python",
   "nbconvert_exporter": "python",
   "pygments_lexer": "ipython3",
   "version": "3.7.12"
  }
 },
 "nbformat": 4,
 "nbformat_minor": 5
}
